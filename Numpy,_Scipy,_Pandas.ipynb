{
  "nbformat": 4,
  "nbformat_minor": 0,
  "metadata": {
    "colab": {
      "name": "Numpy, Scipy, Pandas.ipynb",
      "provenance": [],
      "collapsed_sections": [],
      "toc_visible": true
    },
    "hide_input": false,
    "kernelspec": {
      "display_name": "Python 3",
      "language": "python",
      "name": "python3"
    },
    "language_info": {
      "codemirror_mode": {
        "name": "ipython",
        "version": 3
      },
      "file_extension": ".py",
      "mimetype": "text/x-python",
      "name": "python",
      "nbconvert_exporter": "python",
      "pygments_lexer": "ipython3",
      "version": "3.8.8"
    },
    "varInspector": {
      "cols": {
        "lenName": 16,
        "lenType": 16,
        "lenVar": 40
      },
      "kernels_config": {
        "python": {
          "delete_cmd_postfix": "",
          "delete_cmd_prefix": "del ",
          "library": "var_list.py",
          "varRefreshCmd": "print(var_dic_list())"
        },
        "r": {
          "delete_cmd_postfix": ") ",
          "delete_cmd_prefix": "rm(",
          "library": "var_list.r",
          "varRefreshCmd": "cat(var_dic_list()) "
        }
      },
      "types_to_exclude": [
        "module",
        "function",
        "builtin_function_or_method",
        "instance",
        "_Feature"
      ],
      "window_display": false
    }
  },
  "cells": [
    {
      "cell_type": "markdown",
      "metadata": {
        "id": "WCndMFM25mhM"
      },
      "source": [
        "---"
      ]
    },
    {
      "cell_type": "markdown",
      "metadata": {
        "id": "Jv3wM2EJK01Q"
      },
      "source": [
        "<h2 style=\"text-align: center;\"><b>Python: Numpy, Scipy, Pandas</b></h2>"
      ]
    },
    {
      "cell_type": "markdown",
      "metadata": {
        "id": "ZFb530GdK01R"
      },
      "source": [
        "<img align=left src=\"https://cdn.fedoramagazine.org/wp-content/uploads/2015/11/Python_logo.png\" width=400 height=250/>\n",
        "\n",
        "<img src=\"https://numpy.org/images/logos/numpy.svg\" width=150 height=150 />"
      ]
    },
    {
      "cell_type": "markdown",
      "metadata": {
        "id": "6FcX8uOqK01S"
      },
      "source": [
        "#### При подготовке ноутбука использовался сайт: http://www.inp.nsk.su/~grozin/python/"
      ]
    },
    {
      "cell_type": "markdown",
      "metadata": {
        "id": "GB_0NqPUK01T"
      },
      "source": [
        "---"
      ]
    },
    {
      "cell_type": "markdown",
      "metadata": {
        "id": "kBGnvjStK01T"
      },
      "source": [
        "## Библиотека NumPy"
      ]
    },
    {
      "cell_type": "markdown",
      "metadata": {
        "id": "Iug83l7wK01U"
      },
      "source": [
        "Пакет **`NumPy`** предоставляет $n$-мерные однородные массивы (все элементы одного типа); в них нельзя вставить или удалить элемент в произвольном месте. В `numpy` реализовано много операций над массивами в целом. Если задачу можно решить, произведя некоторую последовательность операций над массивами, то это будет столь же эффективно, как в `C` или `matlab`, поскольку функции этой библиотеки реализованы на C, и мы просто вызываем из из питона."
      ]
    },
    {
      "cell_type": "code",
      "metadata": {
        "id": "zB8-qzXEK01V"
      },
      "source": [
        "# стандартное название для импорта numpy - np\n",
        "import numpy as np\n",
        "import math"
      ],
      "execution_count": null,
      "outputs": []
    },
    {
      "cell_type": "code",
      "metadata": {
        "id": "2_IOYl5-K01Y"
      },
      "source": [
        "# from numpy import *\n",
        "# как и влюбом другом языке и библиотке, так делать нельзя. Вы очень быстро запутаетесь в функциях из numpy \n",
        "# и запутаете всех, кто читает ваш код"
      ],
      "execution_count": null,
      "outputs": []
    },
    {
      "cell_type": "markdown",
      "metadata": {
        "id": "f6y8_ITBK01Y"
      },
      "source": [
        "## Векторы и матрицы в numpy"
      ]
    },
    {
      "cell_type": "markdown",
      "metadata": {
        "id": "3k5eaQgGHLJD"
      },
      "source": [
        "* **Одномерные массивы**. Я предполагаю, что почти все знают про обычные массивы и про операции над ними. Они выглядят следующим образом:"
      ]
    },
    {
      "cell_type": "code",
      "metadata": {
        "colab": {
          "base_uri": "https://localhost:8080/",
          "height": 34
        },
        "id": "A8y4lFcdHLJD",
        "outputId": "7e787b22-bfda-40bf-9a0a-9dbfc3cad230"
      },
      "source": [
        "x = [3, 4, 1]\n",
        "print(x)"
      ],
      "execution_count": null,
      "outputs": [
        {
          "name": "stdout",
          "output_type": "stream",
          "text": [
            "[3, 4, 1]\n"
          ]
        }
      ]
    },
    {
      "cell_type": "markdown",
      "metadata": {
        "id": "dHYKof4KK01b"
      },
      "source": [
        "Давайте преобразуем наш массив в __numpy__ массив:"
      ]
    },
    {
      "cell_type": "code",
      "metadata": {
        "colab": {
          "base_uri": "https://localhost:8080/",
          "height": 34
        },
        "id": "rffXuWJaK01c",
        "outputId": "14f15f45-9695-4529-8f64-3d10b1dbf6dd"
      },
      "source": [
        "a = np.array(x)\n",
        "print(a, type(a))"
      ],
      "execution_count": null,
      "outputs": [
        {
          "name": "stdout",
          "output_type": "stream",
          "text": [
            "[3 4 1] <class 'numpy.ndarray'>\n"
          ]
        }
      ]
    },
    {
      "cell_type": "markdown",
      "metadata": {
        "id": "iLQtJmH0K01g"
      },
      "source": [
        "`print` печатает массивы в удобной форме."
      ]
    },
    {
      "cell_type": "code",
      "metadata": {
        "colab": {
          "base_uri": "https://localhost:8080/",
          "height": 34
        },
        "id": "QGFfGuPtK01h",
        "outputId": "38e67b4c-c7b8-47de-b710-11331d38f42e"
      },
      "source": [
        "print(a/89)"
      ],
      "execution_count": null,
      "outputs": [
        {
          "name": "stdout",
          "output_type": "stream",
          "text": [
            "[0.03370787 0.04494382 0.01123596]\n"
          ]
        }
      ]
    },
    {
      "cell_type": "markdown",
      "metadata": {
        "id": "Kxxjms2DaSBX"
      },
      "source": [
        "* **Многомерные массивы**"
      ]
    },
    {
      "cell_type": "code",
      "metadata": {
        "colab": {
          "base_uri": "https://localhost:8080/",
          "height": 34
        },
        "id": "9J22jldfaSBZ",
        "outputId": "f553501c-6caa-4e4b-b8de-d3990913fcb4"
      },
      "source": [
        "# Простая матричка\n",
        "x = [[3, 4, 1],\n",
        "     [1, 2, 3]]\n",
        "print(x)"
      ],
      "execution_count": null,
      "outputs": [
        {
          "name": "stdout",
          "output_type": "stream",
          "text": [
            "[[3, 4, 1], [1, 2, 3]]\n"
          ]
        }
      ]
    },
    {
      "cell_type": "code",
      "metadata": {
        "colab": {
          "base_uri": "https://localhost:8080/",
          "height": 50
        },
        "id": "wvbw-zhdaSBe",
        "outputId": "281ad697-b4a3-4f28-9135-3e5f1a82e24b"
      },
      "source": [
        "a = np.array(x)\n",
        "print(a)"
      ],
      "execution_count": null,
      "outputs": [
        {
          "name": "stdout",
          "output_type": "stream",
          "text": [
            "[[3 4 1]\n",
            " [1 2 3]]\n"
          ]
        }
      ]
    },
    {
      "cell_type": "code",
      "metadata": {
        "colab": {
          "base_uri": "https://localhost:8080/",
          "height": 34
        },
        "id": "GPeALYOLaSBi",
        "scrolled": true,
        "outputId": "52ec55be-9775-4721-99fe-a58651552e97"
      },
      "source": [
        "# Реально многомерный массив\n",
        "x = [\n",
        "        [ [1, 2, 3], [4, 5, 6]],\n",
        "        [ [7, 8, 9], [10, 11, 12]] \n",
        "    ]\n",
        "print(x)"
      ],
      "execution_count": null,
      "outputs": [
        {
          "name": "stdout",
          "output_type": "stream",
          "text": [
            "[[[1, 2, 3], [4, 5, 6]], [[7, 8, 9], [10, 11, 12]]]\n"
          ]
        }
      ]
    },
    {
      "cell_type": "code",
      "metadata": {
        "colab": {
          "base_uri": "https://localhost:8080/",
          "height": 118
        },
        "id": "-SeTuAAjaSBl",
        "outputId": "461fc9c4-0b99-4ac3-9b70-c24bb3a6fb7b"
      },
      "source": [
        "a = np.array(x)\n",
        "print(a.shape)\n",
        "print(a)"
      ],
      "execution_count": null,
      "outputs": [
        {
          "name": "stdout",
          "output_type": "stream",
          "text": [
            "(2, 2, 3)\n",
            "[[[ 1  2  3]\n",
            "  [ 4  5  6]]\n",
            "\n",
            " [[ 7  8  9]\n",
            "  [10 11 12]]]\n"
          ]
        }
      ]
    },
    {
      "cell_type": "code",
      "metadata": {
        "id": "8eVQAIcpiVbQ"
      },
      "source": [
        ""
      ],
      "execution_count": null,
      "outputs": []
    },
    {
      "cell_type": "markdown",
      "metadata": {
        "id": "tv2xp3kjaSBo"
      },
      "source": [
        "Как мы видим, для numpy нет никакой разницы, сколько измерений у матрицы, все они представляются numpy.ndarray"
      ]
    },
    {
      "cell_type": "markdown",
      "metadata": {
        "id": "Tjm58y2OaSBq"
      },
      "source": [
        "# Типы данных в numpy"
      ]
    },
    {
      "cell_type": "markdown",
      "metadata": {
        "id": "6tBmi8DrHLJR"
      },
      "source": [
        "`numpy` предоставляет несколько типов для целых (`int16`, `int32`, `int64`) и чисел с плавающей точкой (`float32`, `float64`)."
      ]
    },
    {
      "cell_type": "code",
      "metadata": {
        "colab": {
          "base_uri": "https://localhost:8080/",
          "height": 34
        },
        "id": "XROlITuVHLJR",
        "outputId": "aca15b36-451f-4f26-f243-6ab2ad8fa498"
      },
      "source": [
        "a.dtype, a.dtype.name, a.itemsize"
      ],
      "execution_count": null,
      "outputs": [
        {
          "data": {
            "text/plain": [
              "(dtype('int32'), 'int32', 4)"
            ]
          },
          "execution_count": 10,
          "metadata": {},
          "output_type": "execute_result"
        }
      ]
    },
    {
      "cell_type": "code",
      "metadata": {
        "colab": {
          "base_uri": "https://localhost:8080/",
          "height": 34
        },
        "id": "bYMWEBdmHLJV",
        "outputId": "6623aa00-fc96-4f23-e129-a8f128571148"
      },
      "source": [
        "b = np.array([0., 2, 1])\n",
        "b.dtype"
      ],
      "execution_count": null,
      "outputs": [
        {
          "data": {
            "text/plain": [
              "dtype('float64')"
            ]
          },
          "execution_count": 11,
          "metadata": {},
          "output_type": "execute_result"
        }
      ]
    },
    {
      "cell_type": "markdown",
      "metadata": {
        "id": "4gsvp2fjHLJY"
      },
      "source": [
        "Точно такой же массив."
      ]
    },
    {
      "cell_type": "code",
      "metadata": {
        "colab": {
          "base_uri": "https://localhost:8080/",
          "height": 34
        },
        "id": "ZrJbtW3OHLJY",
        "outputId": "6d3a6ae7-906b-4f69-b35d-18917816d5fc"
      },
      "source": [
        "c = np.array([0.1, 2, 1], dtype=np.float64)\n",
        "print(c)"
      ],
      "execution_count": null,
      "outputs": [
        {
          "name": "stdout",
          "output_type": "stream",
          "text": [
            "[0.1 2.  1. ]\n"
          ]
        }
      ]
    },
    {
      "cell_type": "markdown",
      "metadata": {
        "id": "-U7vEzu-HLJe"
      },
      "source": [
        "Преобразование данных"
      ]
    },
    {
      "cell_type": "code",
      "metadata": {
        "colab": {
          "base_uri": "https://localhost:8080/",
          "height": 67
        },
        "id": "51ZSoCJJHLJg",
        "outputId": "3609b81d-24e3-4220-b6af-bcd5ad2905d2"
      },
      "source": [
        "print(c.dtype)\n",
        "print(c.astype(int))\n",
        "print(c.astype(str))"
      ],
      "execution_count": null,
      "outputs": [
        {
          "name": "stdout",
          "output_type": "stream",
          "text": [
            "float64\n",
            "[0 2 1]\n",
            "['0.1' '2.0' '1.0']\n"
          ]
        }
      ]
    },
    {
      "cell_type": "markdown",
      "metadata": {
        "id": "AhMuoHJ3HLJm"
      },
      "source": [
        "Так для чего нам нужны эти массивы, почему нам может не хватать возможностей обычных массивов?"
      ]
    },
    {
      "cell_type": "markdown",
      "metadata": {
        "id": "49Hkkuc0K01k"
      },
      "source": [
        "# Методы массивов в numpy\n",
        "Класс `ndarray` имеет много методов."
      ]
    },
    {
      "cell_type": "code",
      "metadata": {
        "colab": {
          "base_uri": "https://localhost:8080/",
          "height": 54
        },
        "id": "j7W2JXyH9Yy9",
        "outputId": "44f36a2d-977b-47f0-9f7c-8542376b8018"
      },
      "source": [
        "print(dir(a))"
      ],
      "execution_count": null,
      "outputs": [
        {
          "name": "stdout",
          "output_type": "stream",
          "text": [
            "['T', '__abs__', '__add__', '__and__', '__array__', '__array_finalize__', '__array_function__', '__array_interface__', '__array_prepare__', '__array_priority__', '__array_struct__', '__array_ufunc__', '__array_wrap__', '__bool__', '__class__', '__complex__', '__contains__', '__copy__', '__deepcopy__', '__delattr__', '__delitem__', '__dir__', '__divmod__', '__doc__', '__eq__', '__float__', '__floordiv__', '__format__', '__ge__', '__getattribute__', '__getitem__', '__gt__', '__hash__', '__iadd__', '__iand__', '__ifloordiv__', '__ilshift__', '__imatmul__', '__imod__', '__imul__', '__index__', '__init__', '__init_subclass__', '__int__', '__invert__', '__ior__', '__ipow__', '__irshift__', '__isub__', '__iter__', '__itruediv__', '__ixor__', '__le__', '__len__', '__lshift__', '__lt__', '__matmul__', '__mod__', '__mul__', '__ne__', '__neg__', '__new__', '__or__', '__pos__', '__pow__', '__radd__', '__rand__', '__rdivmod__', '__reduce__', '__reduce_ex__', '__repr__', '__rfloordiv__', '__rlshift__', '__rmatmul__', '__rmod__', '__rmul__', '__ror__', '__rpow__', '__rrshift__', '__rshift__', '__rsub__', '__rtruediv__', '__rxor__', '__setattr__', '__setitem__', '__setstate__', '__sizeof__', '__str__', '__sub__', '__subclasshook__', '__truediv__', '__xor__', 'all', 'any', 'argmax', 'argmin', 'argpartition', 'argsort', 'astype', 'base', 'byteswap', 'choose', 'clip', 'compress', 'conj', 'conjugate', 'copy', 'ctypes', 'cumprod', 'cumsum', 'data', 'diagonal', 'dot', 'dtype', 'dump', 'dumps', 'fill', 'flags', 'flat', 'flatten', 'getfield', 'imag', 'item', 'itemset', 'itemsize', 'max', 'mean', 'min', 'nbytes', 'ndim', 'newbyteorder', 'nonzero', 'partition', 'prod', 'ptp', 'put', 'ravel', 'real', 'repeat', 'reshape', 'resize', 'round', 'searchsorted', 'setfield', 'setflags', 'shape', 'size', 'sort', 'squeeze', 'std', 'strides', 'sum', 'swapaxes', 'take', 'tobytes', 'tofile', 'tolist', 'tostring', 'trace', 'transpose', 'var', 'view']\n"
          ]
        }
      ]
    },
    {
      "cell_type": "markdown",
      "metadata": {
        "id": "fkxB2f57aSCC"
      },
      "source": [
        "## Одномерные массивы\n",
        "* числовые операции и нахождение статистик"
      ]
    },
    {
      "cell_type": "code",
      "metadata": {
        "id": "t43hJQPyaSCD"
      },
      "source": [
        "x = [1, 2, 0, 3, 4]\n",
        "a = np.array(x)"
      ],
      "execution_count": null,
      "outputs": []
    },
    {
      "cell_type": "code",
      "metadata": {
        "colab": {
          "base_uri": "https://localhost:8080/",
          "height": 34
        },
        "id": "SLqJ9iQu8h9J",
        "scrolled": true,
        "outputId": "c9e07ecb-03f7-4e5c-8623-a7982b908b28"
      },
      "source": [
        "# У массивов можно легко и быстро посчитать разные статистики\n",
        "a.std(), a.sum(), a.prod(), a.min(), a.max(), a.mean()"
      ],
      "execution_count": null,
      "outputs": [
        {
          "data": {
            "text/plain": [
              "(1.4142135623730951, 10, 0, 0, 4, 2.0)"
            ]
          },
          "execution_count": 16,
          "metadata": {},
          "output_type": "execute_result"
        }
      ]
    },
    {
      "cell_type": "code",
      "metadata": {
        "colab": {
          "base_uri": "https://localhost:8080/",
          "height": 84
        },
        "id": "VRnGSSDXaSCK",
        "outputId": "40ca8d43-21bd-41be-a5a6-2586f75baa3a"
      },
      "source": [
        "# массивы можно умножать и складывать со скалярами и другими массивами, операции проходят поэлементно\n",
        "a * 2, a / 2, a + 1, a - 1"
      ],
      "execution_count": null,
      "outputs": [
        {
          "data": {
            "text/plain": [
              "(array([2, 4, 0, 6, 8]),\n",
              " array([0.5, 1. , 0. , 1.5, 2. ]),\n",
              " array([2, 3, 1, 4, 5]),\n",
              " array([ 0,  1, -1,  2,  3]))"
            ]
          },
          "execution_count": 17,
          "metadata": {},
          "output_type": "execute_result"
        }
      ]
    },
    {
      "cell_type": "code",
      "metadata": {
        "colab": {
          "base_uri": "https://localhost:8080/",
          "height": 118
        },
        "id": "Hm-9q9XGaSCN",
        "outputId": "10468834-90cb-4a2d-c0bf-140676a972fe"
      },
      "source": [
        "a + a, a * a, a / a, a ** 2"
      ],
      "execution_count": null,
      "outputs": [
        {
          "name": "stderr",
          "output_type": "stream",
          "text": [
            "<ipython-input-18-fbc30aee4c8b>:1: RuntimeWarning: invalid value encountered in true_divide\n",
            "  a + a, a * a, a / a, a ** 2\n"
          ]
        },
        {
          "data": {
            "text/plain": [
              "(array([2, 4, 0, 6, 8]),\n",
              " array([ 1,  4,  0,  9, 16]),\n",
              " array([ 1.,  1., nan,  1.,  1.]),\n",
              " array([ 1,  4,  0,  9, 16], dtype=int32))"
            ]
          },
          "execution_count": 18,
          "metadata": {},
          "output_type": "execute_result"
        }
      ]
    },
    {
      "cell_type": "code",
      "metadata": {
        "colab": {
          "base_uri": "https://localhost:8080/",
          "height": 262
        },
        "id": "29ugcejkHLJs",
        "outputId": "3e01ccdf-c068-40db-ab1e-67e6f1b25071"
      },
      "source": [
        "# (с листами из питона так не получится, для них сложение означает конкатенацию)\n",
        "print(type(x))\n",
        "print(x)\n",
        "print(x + x)\n",
        "print(x * 2)\n",
        "print(x ** 2)"
      ],
      "execution_count": null,
      "outputs": [
        {
          "name": "stdout",
          "output_type": "stream",
          "text": [
            "<class 'list'>\n",
            "[1, 2, 0, 3, 4]\n",
            "[1, 2, 0, 3, 4, 1, 2, 0, 3, 4]\n",
            "[1, 2, 0, 3, 4, 1, 2, 0, 3, 4]\n"
          ]
        },
        {
          "ename": "TypeError",
          "evalue": "unsupported operand type(s) for ** or pow(): 'list' and 'int'",
          "output_type": "error",
          "traceback": [
            "\u001b[1;31m---------------------------------------------------------------------------\u001b[0m",
            "\u001b[1;31mTypeError\u001b[0m                                 Traceback (most recent call last)",
            "\u001b[1;32m<ipython-input-19-5204a47c1fd4>\u001b[0m in \u001b[0;36m<module>\u001b[1;34m\u001b[0m\n\u001b[0;32m      4\u001b[0m \u001b[0mprint\u001b[0m\u001b[1;33m(\u001b[0m\u001b[0mx\u001b[0m \u001b[1;33m+\u001b[0m \u001b[0mx\u001b[0m\u001b[1;33m)\u001b[0m\u001b[1;33m\u001b[0m\u001b[1;33m\u001b[0m\u001b[0m\n\u001b[0;32m      5\u001b[0m \u001b[0mprint\u001b[0m\u001b[1;33m(\u001b[0m\u001b[0mx\u001b[0m \u001b[1;33m*\u001b[0m \u001b[1;36m2\u001b[0m\u001b[1;33m)\u001b[0m\u001b[1;33m\u001b[0m\u001b[1;33m\u001b[0m\u001b[0m\n\u001b[1;32m----> 6\u001b[1;33m \u001b[0mprint\u001b[0m\u001b[1;33m(\u001b[0m\u001b[0mx\u001b[0m \u001b[1;33m**\u001b[0m \u001b[1;36m2\u001b[0m\u001b[1;33m)\u001b[0m\u001b[1;33m\u001b[0m\u001b[1;33m\u001b[0m\u001b[0m\n\u001b[0m",
            "\u001b[1;31mTypeError\u001b[0m: unsupported operand type(s) for ** or pow(): 'list' and 'int'"
          ]
        }
      ]
    },
    {
      "cell_type": "markdown",
      "metadata": {
        "id": "8Fg3G3MgaSCU"
      },
      "source": [
        "* Поэлементные операции"
      ]
    },
    {
      "cell_type": "code",
      "metadata": {
        "colab": {
          "base_uri": "https://localhost:8080/",
          "height": 84
        },
        "id": "FCXExpERaSCV",
        "outputId": "4a651fc5-78a6-4bbe-e70e-3792e6fce7ff"
      },
      "source": [
        "# В numpy есть почти функции, которых хватает для построения почти любого расчета\n",
        "np.exp(a), np.sin(a), np.cos(a), np.round(a) # и много других, лучше просто загуглить, когда вам что-то понадобится"
      ],
      "execution_count": null,
      "outputs": [
        {
          "data": {
            "text/plain": [
              "(array([ 2.71828183,  7.3890561 ,  1.        , 20.08553692, 54.59815003]),\n",
              " array([ 0.84147098,  0.90929743,  0.        ,  0.14112001, -0.7568025 ]),\n",
              " array([ 0.54030231, -0.41614684,  1.        , -0.9899925 , -0.65364362]),\n",
              " array([1, 2, 0, 3, 4]))"
            ]
          },
          "execution_count": 20,
          "metadata": {},
          "output_type": "execute_result"
        }
      ]
    },
    {
      "cell_type": "markdown",
      "metadata": {
        "id": "9-yZuXHFaSCY"
      },
      "source": [
        "* сортировка/добавление/удаление элементов массива"
      ]
    },
    {
      "cell_type": "code",
      "metadata": {
        "colab": {
          "base_uri": "https://localhost:8080/",
          "height": 84
        },
        "id": "FZ442SUWHLLF",
        "outputId": "26218d20-f3ad-4fe6-d66b-e68d2f9fd8e9"
      },
      "source": [
        "b = np.arange(9, -1,-1)\n",
        "print(b)\n",
        "print(f'sorted b {np.sort(b)}')\n",
        "print(f'original b {b}')\n",
        "b.sort()\n",
        "print(f'original b after inplace sort {b}')"
      ],
      "execution_count": null,
      "outputs": [
        {
          "name": "stdout",
          "output_type": "stream",
          "text": [
            "[9 8 7 6 5 4 3 2 1 0]\n",
            "sorted b [0 1 2 3 4 5 6 7 8 9]\n",
            "original b [9 8 7 6 5 4 3 2 1 0]\n",
            "original b after inplace sort [0 1 2 3 4 5 6 7 8 9]\n"
          ]
        }
      ]
    },
    {
      "cell_type": "markdown",
      "metadata": {
        "id": "JtLygbXuHLLH"
      },
      "source": [
        "Функции delete, insert и append не меняют массив на месте, а возвращают новый массив, в котором удалены, вставлены в середину или добавлены в конец какие-то элементы.\n"
      ]
    },
    {
      "cell_type": "code",
      "metadata": {
        "colab": {
          "base_uri": "https://localhost:8080/",
          "height": 34
        },
        "id": "FR2hIiO6HLLH",
        "outputId": "c48f033a-7f76-4cf4-a803-c1680cee1ff3"
      },
      "source": [
        "a = np.arange(10, -1, -1)\n",
        "a = np.delete(a, [5, 7])\n",
        "print(a)"
      ],
      "execution_count": null,
      "outputs": [
        {
          "name": "stdout",
          "output_type": "stream",
          "text": [
            "[10  9  8  7  6  4  2  1  0]\n"
          ]
        }
      ]
    },
    {
      "cell_type": "code",
      "metadata": {
        "colab": {
          "base_uri": "https://localhost:8080/",
          "height": 34
        },
        "id": "TXpfhNR4HLLJ",
        "outputId": "950a8dbb-115b-4892-d4f7-15ff2076a744"
      },
      "source": [
        "a = np.insert(a, [2, 3], [100, 200])\n",
        "print(a)"
      ],
      "execution_count": null,
      "outputs": [
        {
          "name": "stdout",
          "output_type": "stream",
          "text": [
            "[ 10   9 100   8 200   7   6   4   2   1   0]\n"
          ]
        }
      ]
    },
    {
      "cell_type": "code",
      "metadata": {
        "colab": {
          "base_uri": "https://localhost:8080/",
          "height": 34
        },
        "id": "edUJplmjHLLM",
        "outputId": "f894fc2f-e37a-4984-d3ca-1359e1522ce0"
      },
      "source": [
        "a = np.append(a, [1, 2, 3])\n",
        "print(a)"
      ],
      "execution_count": null,
      "outputs": [
        {
          "name": "stdout",
          "output_type": "stream",
          "text": [
            "[ 10   9 100   8 200   7   6   4   2   1   0   1   2   3]\n"
          ]
        }
      ]
    },
    {
      "cell_type": "markdown",
      "metadata": {
        "id": "L3UEus76Y_vg"
      },
      "source": [
        "Еще одна группа полезных операций: кумулятивные суммы и произведения"
      ]
    },
    {
      "cell_type": "code",
      "metadata": {
        "colab": {
          "base_uri": "https://localhost:8080/",
          "height": 34
        },
        "id": "cX4BfDYNY_vh",
        "outputId": "927cf3ce-913d-4187-db2e-12e30ec38d7b"
      },
      "source": [
        "a = np.array([2, 2, 2, 2, 0, 1, 1])\n",
        "\n",
        "# кумулятивная (накопительная) сумма - сумма всех элементов массива от нулевого до текущего\n",
        "np.cumsum(a)"
      ],
      "execution_count": null,
      "outputs": [
        {
          "data": {
            "text/plain": [
              "array([ 2,  4,  6,  8,  8,  9, 10], dtype=int32)"
            ]
          },
          "execution_count": 25,
          "metadata": {},
          "output_type": "execute_result"
        }
      ]
    },
    {
      "cell_type": "code",
      "metadata": {
        "colab": {
          "base_uri": "https://localhost:8080/",
          "height": 34
        },
        "id": "FNspG721Y_vj",
        "outputId": "b543e147-c003-4856-d9c5-515f54136844"
      },
      "source": [
        "# кумулятивное произведение\n",
        "np.cumprod(a)"
      ],
      "execution_count": null,
      "outputs": [
        {
          "data": {
            "text/plain": [
              "array([ 2,  4,  8, 16,  0,  0,  0], dtype=int32)"
            ]
          },
          "execution_count": 26,
          "metadata": {},
          "output_type": "execute_result"
        }
      ]
    },
    {
      "cell_type": "markdown",
      "metadata": {
        "id": "9s-fpupQaSCl"
      },
      "source": [
        "## Многомерные массивы\n",
        "\n",
        "В случае многомерных массивов работает все, что мы только что попробовали для одномерных, но появляются и новые возможности.\n",
        "\n",
        "* работа с shape массива\n",
        "\n",
        "У многомерны массивов есть понятие осей (их еще можно назвать измерениями). Так как одни и те же данные могут храниться в массивах разной формы, в numpy есть методы, чтобы эту форму менять"
      ]
    },
    {
      "cell_type": "markdown",
      "metadata": {
        "id": "4nnvpsEIK01s"
      },
      "source": [
        "`ndarray.shape` — размеры массива, его форма. Это кортеж натуральных чисел, показывающий длину массива по каждой оси. Для матрицы из n строк и m столбов, shape будет (n,m). "
      ]
    },
    {
      "cell_type": "markdown",
      "metadata": {
        "id": "aeRIBlpSK01s"
      },
      "source": [
        "В $n$-мерном случае возвращается кортеж размеров по каждой координате."
      ]
    },
    {
      "cell_type": "code",
      "metadata": {
        "colab": {
          "base_uri": "https://localhost:8080/",
          "height": 84
        },
        "id": "k65UpbDEaSCp",
        "outputId": "6b3ac303-9daa-4291-9c41-6f48b4601d50"
      },
      "source": [
        "x = [[1, 2, 3],\n",
        "     [4, 5, 6]]\n",
        "a = np.array(x)\n",
        "print('shape():', a.shape, '\\nndim():', a.ndim, '\\nsize():', a.size, '\\nlen():', len(a))"
      ],
      "execution_count": null,
      "outputs": [
        {
          "name": "stdout",
          "output_type": "stream",
          "text": [
            "shape(): (2, 3) \n",
            "ndim(): 2 \n",
            "size(): 6 \n",
            "len(): 2\n"
          ]
        }
      ]
    },
    {
      "cell_type": "markdown",
      "metadata": {
        "id": "Hq1rOe4FK018"
      },
      "source": [
        "**Вопрос:** \n",
        " >Как связаны элементы кортежа shape, ndim, size?"
      ]
    },
    {
      "cell_type": "markdown",
      "metadata": {
        "id": "KQrw6IV-p-S1"
      },
      "source": [
        "**Ответ:**"
      ]
    },
    {
      "cell_type": "markdown",
      "metadata": {
        "id": "tUA07amuo1jt"
      },
      "source": [
        "**Вопрос:**\n",
        ">Каковы значения shape, ndim, size, len для картинки RGB 160x100? \n",
        "\n",
        ">А для массива из 1000 таких картинок?"
      ]
    },
    {
      "cell_type": "code",
      "metadata": {
        "id": "z0OU3Qz5kG2S"
      },
      "source": [
        ""
      ],
      "execution_count": null,
      "outputs": []
    },
    {
      "cell_type": "markdown",
      "metadata": {
        "id": "_LuF70JEK018"
      },
      "source": [
        "**Ответ:**"
      ]
    },
    {
      "cell_type": "markdown",
      "metadata": {
        "id": "F7WqCNImaSCx"
      },
      "source": [
        "Для смены shape есть методы reshape, flatten, ravel"
      ]
    },
    {
      "cell_type": "code",
      "metadata": {
        "colab": {
          "base_uri": "https://localhost:8080/",
          "height": 168
        },
        "id": "Knm6SxbraSCy",
        "outputId": "36713c67-45a7-4b8e-c3f0-2cb63c784c32"
      },
      "source": [
        "x = [[1, 2, 3],\n",
        "     [4, 5, 6]]\n",
        "a = np.array(x)\n",
        "print(a)\n",
        "\n",
        "# reshape\n",
        "print(a.reshape(3, 2))\n",
        "# вместо одной из осей можно просто вставить -1, тогда numpy попытается сам понять, какое там должно быть число\n",
        "print(a.reshape(-1, 2))\n",
        "# если такое число не получится найти, то будет ошибка\n",
        "print(a.reshape(-1))"
      ],
      "execution_count": null,
      "outputs": [
        {
          "name": "stdout",
          "output_type": "stream",
          "text": [
            "[[1 2 3]\n",
            " [4 5 6]]\n",
            "[[1 2]\n",
            " [3 4]\n",
            " [5 6]]\n",
            "[[1 2]\n",
            " [3 4]\n",
            " [5 6]]\n",
            "[1 2 3 4 5 6]\n"
          ]
        }
      ]
    },
    {
      "cell_type": "code",
      "metadata": {
        "colab": {
          "base_uri": "https://localhost:8080/",
          "height": 101
        },
        "id": "H9Ts_O-7aSC1",
        "outputId": "281559e9-a43a-4b62-eb79-1b7750996aeb"
      },
      "source": [
        "# flatten и ravel очень похожи, они вытягивают матрицу любой размерности в строчку\n",
        "# Единственно отличие в том, что flatten возвращает копию массива, вытянутую в строчку\n",
        "# а ravel - просто view(т.е. не происходит реального копирования значений)\n",
        "# Пример снизу показывает это отличие\n",
        "flattened = a.flatten()\n",
        "flattened[0] = 1000\n",
        "print(flattened)\n",
        "print(a)\n",
        "raveled = a.ravel()\n",
        "raveled[0] = 1000\n",
        "print(a)"
      ],
      "execution_count": null,
      "outputs": [
        {
          "name": "stdout",
          "output_type": "stream",
          "text": [
            "[1000    2    3    4    5    6]\n",
            "[[1 2 3]\n",
            " [4 5 6]]\n",
            "[[1000    2    3]\n",
            " [   4    5    6]]\n"
          ]
        }
      ]
    },
    {
      "cell_type": "markdown",
      "metadata": {
        "id": "mZwb98wiaSC3"
      },
      "source": [
        "* Подсчет статистик по осям"
      ]
    },
    {
      "cell_type": "code",
      "metadata": {
        "colab": {
          "base_uri": "https://localhost:8080/",
          "height": 50
        },
        "id": "J1Ue3z9FaSC4",
        "outputId": "863e1dc2-6498-471d-ed1b-13efb9e0c6d5"
      },
      "source": [
        "print(a)"
      ],
      "execution_count": null,
      "outputs": [
        {
          "name": "stdout",
          "output_type": "stream",
          "text": [
            "[[1000    2    3]\n",
            " [   4    5    6]]\n"
          ]
        }
      ]
    },
    {
      "cell_type": "code",
      "metadata": {
        "colab": {
          "base_uri": "https://localhost:8080/",
          "height": 118
        },
        "id": "lMFOHDVTaSC6",
        "scrolled": true,
        "outputId": "7bfd708a-01fd-46a6-d38c-bc0c24d2c049"
      },
      "source": [
        "# Если не написать axis, то статистика посчиатется по всем массиву\n",
        "# Если axis=1, то для трехмерной матрицы суммирование (например) будет идти по элементам с индексами (i, *, j)\n",
        "# Если axis=(1, 2), то для трехмерной матрицы суммирование (например) будет идти по элементам с индексами (i, *, *)\n",
        "a.std(axis=0), a.sum(axis=0), a.prod(axis=0), a.min(axis=0), a.max(axis=0), a.mean(axis=0)"
      ],
      "execution_count": null,
      "outputs": [
        {
          "data": {
            "text/plain": [
              "(array([498. ,   1.5,   1.5]),\n",
              " array([1004,    7,    9]),\n",
              " array([4000,   10,   18]),\n",
              " array([4, 2, 3]),\n",
              " array([1000,    5,    6]),\n",
              " array([502. ,   3.5,   4.5]))"
            ]
          },
          "execution_count": 31,
          "metadata": {},
          "output_type": "execute_result"
        }
      ]
    },
    {
      "cell_type": "code",
      "metadata": {
        "colab": {
          "base_uri": "https://localhost:8080/",
          "height": 118
        },
        "id": "f8E9einlaSC8",
        "scrolled": true,
        "outputId": "5c51d17f-455e-47f7-8b8e-7f3e82da66b4"
      },
      "source": [
        "# Посчитаем, итерируясь по 1 оси\n",
        "a.std(axis=1), a.sum(axis=1), a.prod(axis=1), a.min(axis=1), a.max(axis=1), a.mean(axis=1)"
      ],
      "execution_count": null,
      "outputs": [
        {
          "data": {
            "text/plain": [
              "(array([470.22618671,   0.81649658]),\n",
              " array([1005,   15]),\n",
              " array([6000,  120]),\n",
              " array([2, 4]),\n",
              " array([1000,    6]),\n",
              " array([335.,   5.]))"
            ]
          },
          "execution_count": 32,
          "metadata": {},
          "output_type": "execute_result"
        }
      ]
    },
    {
      "cell_type": "markdown",
      "metadata": {
        "id": "IBZg2BrkaSC-"
      },
      "source": [
        "## Булевы массивы\n",
        "Булевы массивы не настолько особенны, чтобы выделять их в отдельную категорию, но у них есть несколько интересных свойств, которые нам помогут. Булевы массивы естественно возникают в нашей программе при сравнении каких-то двух массивов в numpy (==,>,>=,<,<=)."
      ]
    },
    {
      "cell_type": "code",
      "metadata": {
        "colab": {
          "base_uri": "https://localhost:8080/",
          "height": 101
        },
        "id": "tTYLjXS-aSC-",
        "outputId": "bddf4e6f-25e0-44f4-ae4d-e49b205385cb"
      },
      "source": [
        "a = np.array([1, 2, 3])\n",
        "b = np.array([1, 2, 0])\n",
        "\n",
        "a == b, a > b, a >= b, a < b, a <= b"
      ],
      "execution_count": null,
      "outputs": [
        {
          "data": {
            "text/plain": [
              "(array([ True,  True, False]),\n",
              " array([False, False,  True]),\n",
              " array([ True,  True,  True]),\n",
              " array([False, False, False]),\n",
              " array([ True,  True, False]))"
            ]
          },
          "execution_count": 33,
          "metadata": {},
          "output_type": "execute_result"
        }
      ]
    },
    {
      "cell_type": "markdown",
      "metadata": {
        "id": "zAIjHDPJaSDB"
      },
      "source": [
        "Посмотрим, что мы можем делать с такими массивами"
      ]
    },
    {
      "cell_type": "code",
      "metadata": {
        "colab": {
          "base_uri": "https://localhost:8080/",
          "height": 84
        },
        "id": "NDJw37SAaSDC",
        "outputId": "229bf441-26a2-4fa4-b8ba-b11210d0145c"
      },
      "source": [
        "a = np.array([True, False, True])\n",
        "b = np.array([False, False, True])\n",
        "\n",
        "# Логические поэлементные операции\n",
        "print(f'a and b {a & b}')\n",
        "print(f'a or b {a | b}')\n",
        "print(f'not a {~a}')\n",
        "print(f'a xor b {a ^ b}')"
      ],
      "execution_count": null,
      "outputs": [
        {
          "name": "stdout",
          "output_type": "stream",
          "text": [
            "a and b [False False  True]\n",
            "a or b [ True False  True]\n",
            "not a [False  True False]\n",
            "a xor b [ True False False]\n"
          ]
        }
      ]
    },
    {
      "cell_type": "code",
      "metadata": {
        "colab": {
          "base_uri": "https://localhost:8080/",
          "height": 34
        },
        "id": "6cSvHdOpaSDE",
        "outputId": "953db5a9-4ca3-4249-a67a-7dc81db7b9c5"
      },
      "source": [
        "# Логические операции над всеми элементами массива, в них тоже можно использовать параметр axis\n",
        "a.any(), a.all()"
      ],
      "execution_count": null,
      "outputs": [
        {
          "data": {
            "text/plain": [
              "(True, False)"
            ]
          },
          "execution_count": 35,
          "metadata": {},
          "output_type": "execute_result"
        }
      ]
    },
    {
      "cell_type": "code",
      "metadata": {
        "colab": {
          "base_uri": "https://localhost:8080/",
          "height": 34
        },
        "id": "7XZ8pcHiaSDI",
        "outputId": "2c002308-b8ef-4cfe-9e3d-c4853355494e"
      },
      "source": [
        "# Если к булевому массиву применить функции, предназначенные только для чисел, \n",
        "# то перед применением все True сконвертируются в 1, а False в 0\n",
        "# Здесь также можно добавить параметр axis\n",
        "a.mean(), a.max(), a.sum(), a.std()"
      ],
      "execution_count": null,
      "outputs": [
        {
          "data": {
            "text/plain": [
              "(0.6666666666666666, True, 2, 0.4714045207910317)"
            ]
          },
          "execution_count": 36,
          "metadata": {},
          "output_type": "execute_result"
        }
      ]
    },
    {
      "cell_type": "markdown",
      "metadata": {
        "id": "cak7YP_NaSDL"
      },
      "source": [
        "**Задание на булевы массивы:**\n",
        "> Пусть у нас есть два одномерных массива y_pred - предсказанный нашей моделью класс, и y_true - настоящий класс. Посчитайте accuracy нашего классификатора на этих данных (долю случаев, в которых реальный класс совпал с предсказанием)"
      ]
    },
    {
      "cell_type": "markdown",
      "metadata": {
        "id": "mHIgeNyNSQvi"
      },
      "source": [
        ""
      ]
    },
    {
      "cell_type": "markdown",
      "metadata": {
        "id": "CN4h65oVSQnv"
      },
      "source": [
        "## решение"
      ]
    },
    {
      "cell_type": "code",
      "metadata": {
        "colab": {
          "base_uri": "https://localhost:8080/",
          "height": 34
        },
        "id": "K5g7mFm5aSDL",
        "outputId": "8f75e871-25fb-4523-906c-cb88e50fcebf"
      },
      "source": [
        "import numpy as np\n",
        "\n",
        "y_pred = np.array([1, 2, 1, 2, 1, 1])\n",
        "y_true = np.array([1, 2, 1, 1, 1, 1])\n",
        "\n",
        "sum(y_pred==y_true)/len(y_pred)\n"
      ],
      "execution_count": null,
      "outputs": [
        {
          "data": {
            "text/plain": [
              "0.8333333333333334"
            ]
          },
          "execution_count": 37,
          "metadata": {},
          "output_type": "execute_result"
        }
      ]
    },
    {
      "cell_type": "markdown",
      "metadata": {
        "id": "WUyvxPIXaSDO"
      },
      "source": [
        "# Полезные функции из numpy"
      ]
    },
    {
      "cell_type": "markdown",
      "metadata": {
        "id": "jjNg7ndbaSDP"
      },
      "source": [
        "Также в numpy есть много полезных методов для получения готовых массивов какого-то вида"
      ]
    },
    {
      "cell_type": "markdown",
      "metadata": {
        "id": "-ihFsBq-HLJ3"
      },
      "source": [
        "* Функция **arange** подобна range. Аргументы могут быть с плавающей точкой. Следует избегать ситуаций, когда (конец−начало)/шаг - целое число, потому что в этом случае включение последнего элемента зависит от ошибок округления. Лучше, чтобы конец диапазона был где-то посредине шага."
      ]
    },
    {
      "cell_type": "code",
      "metadata": {
        "colab": {
          "base_uri": "https://localhost:8080/",
          "height": 34
        },
        "id": "XyLV0bszHLJ3",
        "outputId": "bcc4cfdf-7b2e-4f80-c2bc-2892f3642fad"
      },
      "source": [
        "# поиграемся с питоновским методом range\n",
        "print(list(range(8)))\n",
        "# print(*range(0, 8))\n",
        "# print(*[2,5])\n",
        "# print(2,5)"
      ],
      "execution_count": null,
      "outputs": [
        {
          "name": "stdout",
          "output_type": "stream",
          "text": [
            "[0, 1, 2, 3, 4, 5, 6, 7]\n"
          ]
        }
      ]
    },
    {
      "cell_type": "code",
      "metadata": {
        "colab": {
          "base_uri": "https://localhost:8080/",
          "height": 178
        },
        "id": "ajsJU8KyHLJ8",
        "outputId": "5312d7ce-922d-47ce-c8e0-0533abbc4417"
      },
      "source": [
        "# в нем нельзя использовать не целый шаг\n",
        "print(*range(0, 8, 0.5))"
      ],
      "execution_count": null,
      "outputs": [
        {
          "ename": "TypeError",
          "evalue": "'float' object cannot be interpreted as an integer",
          "output_type": "error",
          "traceback": [
            "\u001b[1;31m---------------------------------------------------------------------------\u001b[0m",
            "\u001b[1;31mTypeError\u001b[0m                                 Traceback (most recent call last)",
            "\u001b[1;32m<ipython-input-39-dd5a2c3993fe>\u001b[0m in \u001b[0;36m<module>\u001b[1;34m\u001b[0m\n\u001b[0;32m      1\u001b[0m \u001b[1;31m# в нем нельзя использовать не целый шаг\u001b[0m\u001b[1;33m\u001b[0m\u001b[1;33m\u001b[0m\u001b[1;33m\u001b[0m\u001b[0m\n\u001b[1;32m----> 2\u001b[1;33m \u001b[0mprint\u001b[0m\u001b[1;33m(\u001b[0m\u001b[1;33m*\u001b[0m\u001b[0mrange\u001b[0m\u001b[1;33m(\u001b[0m\u001b[1;36m0\u001b[0m\u001b[1;33m,\u001b[0m \u001b[1;36m8\u001b[0m\u001b[1;33m,\u001b[0m \u001b[1;36m0.5\u001b[0m\u001b[1;33m)\u001b[0m\u001b[1;33m)\u001b[0m\u001b[1;33m\u001b[0m\u001b[1;33m\u001b[0m\u001b[0m\n\u001b[0m",
            "\u001b[1;31mTypeError\u001b[0m: 'float' object cannot be interpreted as an integer"
          ]
        }
      ]
    },
    {
      "cell_type": "code",
      "metadata": {
        "colab": {
          "base_uri": "https://localhost:8080/",
          "height": 67
        },
        "id": "t8qoTrmZHLJ_",
        "outputId": "eede52a5-a221-48c2-b0e1-1e68c80260b6"
      },
      "source": [
        "# перейдем к arange\n",
        "# здесь не целый шаг использовать уже можно\n",
        "print(type(np.arange(0, 8)))\n",
        "print(np.arange(0, -8, -0.5))"
      ],
      "execution_count": null,
      "outputs": [
        {
          "name": "stdout",
          "output_type": "stream",
          "text": [
            "<class 'numpy.ndarray'>\n",
            "[ 0.  -0.5 -1.  -1.5 -2.  -2.5 -3.  -3.5 -4.  -4.5 -5.  -5.5 -6.  -6.5\n",
            " -7.  -7.5]\n"
          ]
        }
      ]
    },
    {
      "cell_type": "code",
      "metadata": {
        "colab": {
          "base_uri": "https://localhost:8080/",
          "height": 34
        },
        "id": "yzlqxNrXaSDX",
        "outputId": "828c85a1-f57a-4ddb-ad44-95f0f4fc6240"
      },
      "source": [
        "print(np.arange(0, 8, 0.5))"
      ],
      "execution_count": null,
      "outputs": [
        {
          "name": "stdout",
          "output_type": "stream",
          "text": [
            "[0.  0.5 1.  1.5 2.  2.5 3.  3.5 4.  4.5 5.  5.5 6.  6.5 7.  7.5]\n"
          ]
        }
      ]
    },
    {
      "cell_type": "markdown",
      "metadata": {
        "id": "ouxSb-QvHLKB"
      },
      "source": [
        "Но самое главное:"
      ]
    },
    {
      "cell_type": "code",
      "metadata": {
        "colab": {
          "base_uri": "https://localhost:8080/",
          "height": 118
        },
        "id": "aaFIwlCqHLKC",
        "outputId": "a5bb1467-5539-47e4-a3b0-00d80ef47e25"
      },
      "source": [
        "%time np.arange(0, 50000000)\n",
        "%time list(range(0, 50000000))\n",
        "%time a = range(0, 50000000)\n",
        "\n",
        "\n"
      ],
      "execution_count": null,
      "outputs": [
        {
          "name": "stdout",
          "output_type": "stream",
          "text": [
            "Wall time: 55.8 ms\n",
            "Wall time: 1.34 s\n",
            "Wall time: 0 ns\n"
          ]
        }
      ]
    },
    {
      "cell_type": "code",
      "metadata": {
        "colab": {
          "base_uri": "https://localhost:8080/",
          "height": 34
        },
        "id": "cZlED6t3kg50",
        "outputId": "4e0ce9ad-8ee0-40df-e940-ead073ca77fd"
      },
      "source": [
        "type(a)"
      ],
      "execution_count": null,
      "outputs": [
        {
          "data": {
            "text/plain": [
              "range"
            ]
          },
          "execution_count": 43,
          "metadata": {},
          "output_type": "execute_result"
        }
      ]
    },
    {
      "cell_type": "markdown",
      "metadata": {
        "id": "94th67WKaSDb"
      },
      "source": [
        "**Вопрос на знание питона**: почему просто range занял 10 мкс, даже меньше, чем numpy?"
      ]
    },
    {
      "cell_type": "markdown",
      "metadata": {
        "id": "r_i9uX70HLKF"
      },
      "source": [
        "* Еще один метод, похожий на arange это **linspace**. С его помощью можно создавать последовательности чисел с постоянным шагом. Начало и конец диапазона включаются; последний аргумент - число точек."
      ]
    },
    {
      "cell_type": "code",
      "metadata": {
        "colab": {
          "base_uri": "https://localhost:8080/",
          "height": 118
        },
        "id": "1R3y2u7kHLKF",
        "outputId": "4e1ddd49-d7ce-48a2-89b2-86c46ab7ec91"
      },
      "source": [
        "%time a = np.linspace(0, 50000000, 8)\n",
        "%time print(a)"
      ],
      "execution_count": null,
      "outputs": [
        {
          "name": "stdout",
          "output_type": "stream",
          "text": [
            "Wall time: 3.99 ms\n",
            "[       0.          7142857.14285714 14285714.28571429 21428571.42857143\n",
            " 28571428.57142857 35714285.71428572 42857142.85714286 50000000.        ]\n",
            "Wall time: 1.37 ms\n"
          ]
        }
      ]
    },
    {
      "cell_type": "markdown",
      "metadata": {
        "id": "7pykEjWGHLKI"
      },
      "source": [
        "* **Быстродействие**. Массивы, разумеется, можно использовать в `for` циклах. Но при этом теряется главное преимущество `numpy` - быстродействие. Всегда, когда это возможно, лучше использовать операции, определенные в numpy."
      ]
    },
    {
      "cell_type": "code",
      "metadata": {
        "id": "pHeoRQL8VBOl"
      },
      "source": [
        "a = np.linspace(0, 8, 50000000)"
      ],
      "execution_count": null,
      "outputs": []
    },
    {
      "cell_type": "code",
      "metadata": {
        "colab": {
          "base_uri": "https://localhost:8080/",
          "height": 50
        },
        "id": "XOcvgxP8HLKI",
        "outputId": "046ea9ca-0b2e-4204-d790-f4a45682c86f"
      },
      "source": [
        "%%time \n",
        "res = a + a"
      ],
      "execution_count": null,
      "outputs": [
        {
          "name": "stdout",
          "output_type": "stream",
          "text": [
            "Wall time: 124 ms\n"
          ]
        }
      ]
    },
    {
      "cell_type": "code",
      "metadata": {
        "colab": {
          "base_uri": "https://localhost:8080/",
          "height": 50
        },
        "id": "33yWW6tzHLKK",
        "outputId": "e886a32d-461d-4c5a-a7f8-bd54b55c3d10"
      },
      "source": [
        "%%time\n",
        "res = []\n",
        "for value in a:\n",
        "    res.append(value + value)"
      ],
      "execution_count": null,
      "outputs": [
        {
          "name": "stdout",
          "output_type": "stream",
          "text": [
            "Wall time: 13.9 s\n"
          ]
        }
      ]
    },
    {
      "cell_type": "markdown",
      "metadata": {
        "id": "XWLsgd8uaSDj"
      },
      "source": [
        "(в совсем простых операциях, таких как сложение двух чисел, питон не уступает в скорости C++ или C, а поэтому использование numpy не дает ввыигрыша, но в более тяжелых вычислениях разница становится колоссальнной)"
      ]
    },
    {
      "cell_type": "markdown",
      "metadata": {
        "id": "rXe3ZDApHLL-"
      },
      "source": [
        "* Еще один способ создавать стандартные массивы - __`numpy.eye(N, M=None, ...)`__, __`numpy.zeros(shape, ...)`__, __`numpy.ones(shape, ...)`__.\n",
        "\n",
        "Первая функция создает единичную матрицу размера $N \\times M$; если $M$ не задан, то $M = N$. \n",
        "\n",
        "Вторая и третья функции создают матрицы, состоящие целиком из нулей или единиц соответственно. В качестве первого аргумента необходимо задать размерность массива — кортеж целых чисел. В двумерном случае это набор из двух чисел: количество строк и столбцов матрицы.\n",
        "\n",
        "__Примеры:__"
      ]
    },
    {
      "cell_type": "code",
      "metadata": {
        "colab": {
          "base_uri": "https://localhost:8080/",
          "height": 118
        },
        "id": "2j4wk0IJHLL_",
        "outputId": "6cd87745-39ef-4154-a2d6-750a4da82847"
      },
      "source": [
        "b = np.eye(5, 4)\n",
        "print(\"Единичная матрица:\\n\", b)"
      ],
      "execution_count": null,
      "outputs": [
        {
          "name": "stdout",
          "output_type": "stream",
          "text": [
            "Единичная матрица:\n",
            " [[1. 0. 0. 0.]\n",
            " [0. 1. 0. 0.]\n",
            " [0. 0. 1. 0.]\n",
            " [0. 0. 0. 1.]\n",
            " [0. 0. 0. 0.]]\n"
          ]
        }
      ]
    },
    {
      "cell_type": "code",
      "metadata": {
        "colab": {
          "base_uri": "https://localhost:8080/",
          "height": 151
        },
        "id": "wskPIk0pHLME",
        "outputId": "b8ae3efc-2ad6-4413-9795-6bedbe2e1610"
      },
      "source": [
        "c = np.ones((7, 5))\n",
        "print(\"Матрица, состоящая из одних единиц:\\n\", c)"
      ],
      "execution_count": null,
      "outputs": [
        {
          "name": "stdout",
          "output_type": "stream",
          "text": [
            "Матрица, состоящая из одних единиц:\n",
            " [[1. 1. 1. 1. 1.]\n",
            " [1. 1. 1. 1. 1.]\n",
            " [1. 1. 1. 1. 1.]\n",
            " [1. 1. 1. 1. 1.]\n",
            " [1. 1. 1. 1. 1.]\n",
            " [1. 1. 1. 1. 1.]\n",
            " [1. 1. 1. 1. 1.]]\n"
          ]
        }
      ]
    },
    {
      "cell_type": "markdown",
      "metadata": {
        "id": "p_VsgozbHLMF"
      },
      "source": [
        "__Обратите внимание: размерность массива задается не двумя аргументами функции, а одним — кортежем!__ \n",
        "\n",
        "Вот так —  __`np.ones(7, 5)`__ — создать массив не получится, так как функции в качестве параметра `shape` передается `7`, а не кортеж `(7, 5)`."
      ]
    },
    {
      "cell_type": "markdown",
      "metadata": {
        "id": "_EWNyOMzBHWd"
      },
      "source": [
        "**Задание на создание матриц:**\n",
        "> Создайте матрицу размера 4х5, у которой все элементы стоящие на диагонали равны -1, а все остальные равны 0.5"
      ]
    },
    {
      "cell_type": "code",
      "metadata": {
        "colab": {
          "base_uri": "https://localhost:8080/",
          "height": 67
        },
        "id": "cf_IFxe5lDmb",
        "outputId": "6b5b2b5f-9d79-4647-d844-32a94f09f5ef"
      },
      "source": [
        "np.diag([-1.5 , -1.5 , -1.5] ,0)"
      ],
      "execution_count": null,
      "outputs": [
        {
          "data": {
            "text/plain": [
              "array([[-1.5,  0. ,  0. ],\n",
              "       [ 0. , -1.5,  0. ],\n",
              "       [ 0. ,  0. , -1.5]])"
            ]
          },
          "execution_count": 50,
          "metadata": {},
          "output_type": "execute_result"
        }
      ]
    },
    {
      "cell_type": "code",
      "metadata": {
        "id": "lT-TsytjBGky"
      },
      "source": [
        "# <ваш код здесь>"
      ],
      "execution_count": null,
      "outputs": []
    },
    {
      "cell_type": "markdown",
      "metadata": {
        "id": "ULmaIAMTHLKP"
      },
      "source": [
        "# Slices, Fancy Indexing and stuff"
      ]
    },
    {
      "cell_type": "markdown",
      "metadata": {
        "id": "Aax0h2xWaSDp"
      },
      "source": [
        "* Обращение по слайсам\n",
        "\n",
        "Так же как и для обычных листов, для numpy массивов доступно обращение по слайсам (a[2:5:2], 2:5:2 - слайс). Но есть одно отличие. В numpy можно писать несколько слайсов через запятую, чтобы сделать _срез_ сразу по нескольким осям - a[2:5, 1:4]. "
      ]
    },
    {
      "cell_type": "code",
      "metadata": {
        "colab": {
          "base_uri": "https://localhost:8080/",
          "height": 101
        },
        "id": "QwEvyLoNaSDq",
        "outputId": "b49293c3-014a-479b-eac0-2be72937ccfb"
      },
      "source": [
        "a = np.array([\n",
        "                [1, 2, 3, 4],\n",
        "                [5, 6, 7, 8],\n",
        "                [9, 10, 11, 12]\n",
        "             ])\n",
        "print(a)\n",
        "print(a[0:2, 1:3])"
      ],
      "execution_count": null,
      "outputs": [
        {
          "name": "stdout",
          "output_type": "stream",
          "text": [
            "[[ 1  2  3  4]\n",
            " [ 5  6  7  8]\n",
            " [ 9 10 11 12]]\n",
            "[[2 3]\n",
            " [6 7]]\n"
          ]
        }
      ]
    },
    {
      "cell_type": "markdown",
      "metadata": {
        "id": "KdzPmxUaHLL5"
      },
      "source": [
        "* Обращение по слайсам с добавлением новых осей. \n",
        "\n",
        "В NumPy к размерностям объектов можно добавлять фиктивные оси с помощью np.newaxis. Для того, чтобы понять, как это сделать, рассмотрим пример:"
      ]
    },
    {
      "cell_type": "code",
      "metadata": {
        "colab": {
          "base_uri": "https://localhost:8080/",
          "height": 84
        },
        "id": "-hUON9TIHLL5",
        "outputId": "1b6ddbdb-98bb-46a4-fe0d-17b5610caa87"
      },
      "source": [
        "a = np.arange(1, 4, 1)\n",
        "print(a)\n",
        "print('Вектор a с newaxis --> вектор-строка:\\n', a[None, :], a[None, :].shape)\n",
        "print('Полученная размерность:', a[np.newaxis, :].shape)"
      ],
      "execution_count": null,
      "outputs": [
        {
          "name": "stdout",
          "output_type": "stream",
          "text": [
            "[1 2 3]\n",
            "Вектор a с newaxis --> вектор-строка:\n",
            " [[1 2 3]] (1, 3)\n",
            "Полученная размерность: (1, 3)\n"
          ]
        }
      ]
    },
    {
      "cell_type": "markdown",
      "metadata": {
        "id": "gqyenIEhaSDy"
      },
      "source": [
        "* Обращение по индексам\n",
        "\n",
        "в numpy можно обращаться сразу к нескольким элементам массива, которые не идут подряд, передав в качестве аргумента list или numpy array индексов"
      ]
    },
    {
      "cell_type": "code",
      "metadata": {
        "colab": {
          "base_uri": "https://localhost:8080/",
          "height": 34
        },
        "id": "aN79z1QtaSDz",
        "outputId": "c8e242b9-dd66-458b-bd76-baabad091ba0"
      },
      "source": [
        "a = np.array([0, 1, 2, 3])\n",
        "a[0], a[[0, 1, 1, 2]], a[np.array([0, 1, 1, 2])]"
      ],
      "execution_count": null,
      "outputs": [
        {
          "data": {
            "text/plain": [
              "(0, array([0, 1, 1, 2]), array([0, 1, 1, 2]))"
            ]
          },
          "execution_count": 54,
          "metadata": {},
          "output_type": "execute_result"
        }
      ]
    },
    {
      "cell_type": "code",
      "metadata": {
        "colab": {
          "base_uri": "https://localhost:8080/",
          "height": 67
        },
        "id": "a9aN9JaLaSD1",
        "outputId": "9e65151a-9f20-4d54-eaea-67881e1189e7"
      },
      "source": [
        "# многомерный случай\n",
        "z = np.array([[1,2], [3,4]])\n",
        "print(z)\n",
        "# можно передать лист с индексами для каждого из измерений. \n",
        "# В данном случае выберутся элементы с индексами (0, 0) и (1, 1). Результат - одномерный массив\n",
        "print(z[[0,1], [0,1]])"
      ],
      "execution_count": null,
      "outputs": [
        {
          "name": "stdout",
          "output_type": "stream",
          "text": [
            "[[1 2]\n",
            " [3 4]]\n",
            "[1 4]\n"
          ]
        }
      ]
    },
    {
      "cell_type": "markdown",
      "metadata": {
        "id": "nb8G_LUdaSD3"
      },
      "source": [
        "* Обращение по булевому массиву"
      ]
    },
    {
      "cell_type": "code",
      "metadata": {
        "colab": {
          "base_uri": "https://localhost:8080/",
          "height": 67
        },
        "id": "VP7UZPrnHLKS",
        "outputId": "1a163710-9725-48b0-f477-3aee33d85adf"
      },
      "source": [
        "print(a)\n",
        "print(a[[True, False, True, True]])\n",
        "# Как мы уже выяснили, в результате сравнения numpy массивов получается булев массив, \n",
        "# его очень удобно использовать, чтобы обращаться к элементам, удовлетворяющим какому-то условию\n",
        "print(a[a > 1])"
      ],
      "execution_count": null,
      "outputs": [
        {
          "name": "stdout",
          "output_type": "stream",
          "text": [
            "[0 1 2 3]\n",
            "[0 2 3]\n",
            "[2 3]\n"
          ]
        }
      ]
    },
    {
      "cell_type": "markdown",
      "metadata": {
        "id": "AM3HRmx5aSEM"
      },
      "source": [
        "# Линейная Алгебра\n",
        "\n",
        "До этого мы рассматривали разные операции numpy, которые не связаны напрямую с линейной алгеброй. Пришло время это изменить)"
      ]
    },
    {
      "cell_type": "markdown",
      "metadata": {
        "id": "WfqfXImaHLKg"
      },
      "source": [
        "* Скалярное произведение \n",
        "$a~\\cdot~b = (a_1, a_2, .., a_n) \\cdot (b_1, b_2, .., b_n) = a_1b_1 + a_2b_2 + .. + b_nb_n = \\sum_{i=1}^{n} a_ib_i$:\n"
      ]
    },
    {
      "cell_type": "code",
      "metadata": {
        "colab": {
          "base_uri": "https://localhost:8080/",
          "height": 34
        },
        "id": "47c57Q62EQmw",
        "outputId": "d465e285-f0e6-4908-e11c-ed9e243affb8"
      },
      "source": [
        "a = np.array([1, 2, 3])\n",
        "b = np.array([2, 3, 4])\n",
        "print(a,b)"
      ],
      "execution_count": null,
      "outputs": [
        {
          "name": "stdout",
          "output_type": "stream",
          "text": [
            "[1 2 3] [2 3 4]\n"
          ]
        }
      ]
    },
    {
      "cell_type": "code",
      "metadata": {
        "colab": {
          "base_uri": "https://localhost:8080/",
          "height": 34
        },
        "id": "zae5Ebopvf5t",
        "outputId": "e32933bc-1de3-4915-eb8f-49a656dd4415"
      },
      "source": [
        "a @ b"
      ],
      "execution_count": null,
      "outputs": [
        {
          "data": {
            "text/plain": [
              "20"
            ]
          },
          "execution_count": 61,
          "metadata": {},
          "output_type": "execute_result"
        }
      ]
    },
    {
      "cell_type": "code",
      "metadata": {
        "colab": {
          "base_uri": "https://localhost:8080/",
          "height": 34
        },
        "id": "YXx9wDsyHLKi",
        "outputId": "148561be-126f-4683-cbb3-ee3221ba6f69"
      },
      "source": [
        "print(np.matmul(a, b))"
      ],
      "execution_count": null,
      "outputs": [
        {
          "name": "stdout",
          "output_type": "stream",
          "text": [
            "20\n"
          ]
        }
      ]
    },
    {
      "cell_type": "markdown",
      "metadata": {
        "id": "JY03g_bEHLLe",
        "outputId": "7be30011-d230-421d-bafd-eae00ad197cc"
      },
      "source": [
        "* Векторы и матрицы"
      ]
    },
    {
      "cell_type": "code",
      "metadata": {
        "id": "HKDz1cB9aSEU"
      },
      "source": [
        "b = np.array([\n",
        "    [1, 2, 3],\n",
        "    [4, 5, 6]\n",
        "])"
      ],
      "execution_count": null,
      "outputs": []
    },
    {
      "cell_type": "markdown",
      "metadata": {
        "id": "FFiel6s3HLLp"
      },
      "source": [
        "Наш 2-мерный массив __b__, также его можно назвать матрицей, имеет 2 строки и 3 столбца.\n",
        "То есть наша матрица состоит из 2 вектор-строк:"
      ]
    },
    {
      "cell_type": "code",
      "metadata": {
        "colab": {
          "base_uri": "https://localhost:8080/",
          "height": 84
        },
        "id": "LxQ6e7GCHLLq",
        "outputId": "8794965f-5c7c-4813-a20b-f6911461a123"
      },
      "source": [
        "print(b)\n",
        "b[0:2,0:1]"
      ],
      "execution_count": null,
      "outputs": [
        {
          "name": "stdout",
          "output_type": "stream",
          "text": [
            "[[1 2 3]\n",
            " [4 5 6]]\n"
          ]
        },
        {
          "data": {
            "text/plain": [
              "array([[1],\n",
              "       [4]])"
            ]
          },
          "execution_count": 65,
          "metadata": {},
          "output_type": "execute_result"
        }
      ]
    },
    {
      "cell_type": "code",
      "metadata": {
        "colab": {
          "base_uri": "https://localhost:8080/",
          "height": 34
        },
        "id": "q1V4QuJvHLLs",
        "outputId": "85592912-9aa4-45d5-d7b4-4c69d7466a4d"
      },
      "source": [
        "b[1:2]"
      ],
      "execution_count": null,
      "outputs": [
        {
          "data": {
            "text/plain": [
              "array([[4, 5, 6]])"
            ]
          },
          "execution_count": 66,
          "metadata": {},
          "output_type": "execute_result"
        }
      ]
    },
    {
      "cell_type": "markdown",
      "metadata": {
        "id": "UX0T5yRzHLLv"
      },
      "source": [
        "Обычно в линейной алгебре под любым вектором подразумевается вектор-столбец. Наша матрица содержит 3 вектор-стобца:"
      ]
    },
    {
      "cell_type": "code",
      "metadata": {
        "colab": {
          "base_uri": "https://localhost:8080/",
          "height": 50
        },
        "id": "0kWqkkhmHLLv",
        "outputId": "f89f5983-eb9b-4ae7-cfdd-315897fc6a16"
      },
      "source": [
        "b[:, 0:1]"
      ],
      "execution_count": null,
      "outputs": [
        {
          "data": {
            "text/plain": [
              "array([[1],\n",
              "       [4]])"
            ]
          },
          "execution_count": 67,
          "metadata": {},
          "output_type": "execute_result"
        }
      ]
    },
    {
      "cell_type": "code",
      "metadata": {
        "colab": {
          "base_uri": "https://localhost:8080/",
          "height": 50
        },
        "id": "CxUwuDqUHLLx",
        "outputId": "16d40749-5df4-483a-f991-024afc336006"
      },
      "source": [
        "b[:, 1:2]"
      ],
      "execution_count": null,
      "outputs": [
        {
          "data": {
            "text/plain": [
              "array([[2],\n",
              "       [5]])"
            ]
          },
          "execution_count": 68,
          "metadata": {},
          "output_type": "execute_result"
        }
      ]
    },
    {
      "cell_type": "code",
      "metadata": {
        "colab": {
          "base_uri": "https://localhost:8080/",
          "height": 50
        },
        "id": "ulY47VBJHLL1",
        "outputId": "17f78600-750a-474b-825e-2e1f8de90546"
      },
      "source": [
        "b[:, 2:3]"
      ],
      "execution_count": null,
      "outputs": [
        {
          "data": {
            "text/plain": [
              "array([[3],\n",
              "       [6]])"
            ]
          },
          "execution_count": 69,
          "metadata": {},
          "output_type": "execute_result"
        }
      ]
    },
    {
      "cell_type": "code",
      "metadata": {
        "colab": {
          "base_uri": "https://localhost:8080/",
          "height": 84
        },
        "id": "yoGzfSxbvbdJ",
        "outputId": "8c7de973-36ad-42c5-8a2f-170276ba72b5"
      },
      "source": [
        "a = np.array([\n",
        "    [1, 2],\n",
        "    [4, 5],\n",
        "    [4, 5]\n",
        "])\n",
        "print(a.shape, b.shape)\n",
        "a @ b"
      ],
      "execution_count": null,
      "outputs": [
        {
          "name": "stdout",
          "output_type": "stream",
          "text": [
            "(3, 2) (2, 3)\n"
          ]
        },
        {
          "data": {
            "text/plain": [
              "array([[ 9, 12, 15],\n",
              "       [24, 33, 42],\n",
              "       [24, 33, 42]])"
            ]
          },
          "execution_count": 70,
          "metadata": {},
          "output_type": "execute_result"
        }
      ]
    },
    {
      "cell_type": "markdown",
      "metadata": {
        "id": "j5YLEr1YHLMe"
      },
      "source": [
        "## Операции с матрицами"
      ]
    },
    {
      "cell_type": "code",
      "metadata": {
        "id": "LuHvQIYYHLMe"
      },
      "source": [
        "A = np.array([[1, 0], [0, 1]])\n",
        "B = np.array([[4, 1], [2, 2]])"
      ],
      "execution_count": null,
      "outputs": []
    },
    {
      "cell_type": "markdown",
      "metadata": {
        "id": "Y7CJCuL5HLMl"
      },
      "source": [
        "__Напоминание теории.__ __Транспонированной матрицей__ $A^{T}$ называется матрица, полученная из исходной матрицы $A$ заменой строк на столбцы. Формально: элементы матрицы $A^{T}$ определяются как $a^{T}_{ij} = a_{ji}$, где $a^{T}_{ij}$ — элемент матрицы $A^{T}$, стоящий на пересечении строки с номером $i$ и столбца с номером $j$.\n",
        "\n",
        "В `NumPy` транспонированная матрица вычисляется с помощью функции __`numpy.transpose()`__ или с помощью _метода_ __`array.T`__, где __`array`__ — нужный двумерный массив."
      ]
    },
    {
      "cell_type": "code",
      "metadata": {
        "id": "Q6G6FzQ3HLMl"
      },
      "source": [
        "a = np.array([[1, 2], [3, 4]])\n",
        "b = np.transpose(a)\n",
        "c = a.T"
      ],
      "execution_count": null,
      "outputs": []
    },
    {
      "cell_type": "code",
      "metadata": {
        "colab": {
          "base_uri": "https://localhost:8080/",
          "height": 168
        },
        "id": "_dBqecA2HLMn",
        "outputId": "4ffda0f8-3717-4d12-9f33-51f5245bf0e9"
      },
      "source": [
        "print(\"Матрица:\\n\", a)\n",
        "print(\"Транспонирование функцией:\\n\", b)\n",
        "print(\"Транспонирование методом:\\n\",  c)"
      ],
      "execution_count": null,
      "outputs": [
        {
          "name": "stdout",
          "output_type": "stream",
          "text": [
            "Матрица:\n",
            " [[1 2]\n",
            " [3 4]]\n",
            "Транспонирование функцией:\n",
            " [[1 3]\n",
            " [2 4]]\n",
            "Транспонирование методом:\n",
            " [[1 3]\n",
            " [2 4]]\n"
          ]
        }
      ]
    },
    {
      "cell_type": "code",
      "metadata": {
        "colab": {
          "base_uri": "https://localhost:8080/",
          "height": 52
        },
        "id": "xRH5WThdwJ_m",
        "outputId": "435fe004-79b1-430c-dce5-da72ff78011d"
      },
      "source": [
        "a @ b"
      ],
      "execution_count": null,
      "outputs": [
        {
          "data": {
            "text/plain": [
              "array([[ 5, 11],\n",
              "       [11, 25]])"
            ]
          },
          "execution_count": 74,
          "metadata": {},
          "output_type": "execute_result"
        }
      ]
    },
    {
      "cell_type": "markdown",
      "metadata": {
        "id": "gPABHln8HLMp"
      },
      "source": [
        "__Напоминание теории.__ Операция __умножения__ определена для двух матриц, таких что число столбцов первой равно числу строк второй. \n",
        "\n",
        "Пусть матрицы $A$ и $B$ таковы, что $A \\in \\mathbb{R}^{n \\times k}$ и $B \\in \\mathbb{R}^{k \\times m}$. __Произведением__ матриц $A$ и $B$ называется матрица $C$, такая что $c_{ij} = \\sum_{r=1}^{k} a_{ir}b_{rj}$, где $c_{ij}$ — элемент матрицы $C$, стоящий на пересечении строки с номером $i$ и столбца с номером $j$.\n",
        "\n",
        "В `NumPy` произведение матриц вычисляется с помощью функции __`numpy.dot(a, b, ...)`__ или с помощью _метода_ __`array1.dot(array2)`__, где __`array1`__ и __`array2`__ — перемножаемые матрицы."
      ]
    },
    {
      "cell_type": "code",
      "metadata": {
        "id": "nvmP9mmLHLMq"
      },
      "source": [
        "y = np.array([1, 0])\n",
        "z = A @ y"
      ],
      "execution_count": null,
      "outputs": []
    },
    {
      "cell_type": "code",
      "metadata": {
        "colab": {
          "base_uri": "https://localhost:8080/",
          "height": 34
        },
        "id": "YIsxb9UdK06n",
        "outputId": "1f11a25a-19f8-4643-a954-f137026ea398"
      },
      "source": [
        "y = np.linalg.solve(A, z)\n",
        "print(y)"
      ],
      "execution_count": null,
      "outputs": [
        {
          "name": "stdout",
          "output_type": "stream",
          "text": [
            "[1. 0.]\n"
          ]
        }
      ]
    },
    {
      "cell_type": "markdown",
      "metadata": {
        "id": "4t6WW1poHLMs"
      },
      "source": [
        "#### Линейная алгебра (модуль `np.linalg`)"
      ]
    },
    {
      "cell_type": "code",
      "metadata": {
        "colab": {
          "base_uri": "https://localhost:8080/",
          "height": 50
        },
        "id": "UyCMO5DvHLMt",
        "outputId": "55c90e2e-0203-457a-db9f-da6c84f49f55"
      },
      "source": [
        "A = np.array([[1, 0], [1, 1]])\n",
        "x = np.array([[4, 1], [2, 2]])\n",
        "b = A @ x\n",
        "print(b)"
      ],
      "execution_count": null,
      "outputs": [
        {
          "name": "stdout",
          "output_type": "stream",
          "text": [
            "[[4 1]\n",
            " [6 3]]\n"
          ]
        }
      ]
    },
    {
      "cell_type": "markdown",
      "metadata": {
        "id": "Fse23NT-HLMu"
      },
      "source": [
        "* Решение линейной системы __$Ax=b$__:"
      ]
    },
    {
      "cell_type": "code",
      "metadata": {
        "colab": {
          "base_uri": "https://localhost:8080/",
          "height": 50
        },
        "id": "zzseRnnjHLMv",
        "outputId": "cb86acaf-95ee-4aeb-9b1d-64fd583ffe21"
      },
      "source": [
        "x = np.linalg.solve(A, b)\n",
        "print(x)"
      ],
      "execution_count": null,
      "outputs": [
        {
          "name": "stdout",
          "output_type": "stream",
          "text": [
            "[[4. 1.]\n",
            " [2. 2.]]\n"
          ]
        }
      ]
    },
    {
      "cell_type": "markdown",
      "metadata": {
        "id": "GV6WaYJ3K06x"
      },
      "source": [
        "### Библиотека SciPy"
      ]
    },
    {
      "cell_type": "markdown",
      "metadata": {
        "id": "rfbdWyb7K06x"
      },
      "source": [
        "* Оптимизация функции (нахождение минимума/максимума):"
      ]
    },
    {
      "cell_type": "code",
      "metadata": {
        "id": "8UhGZKOEK06y"
      },
      "source": [
        "from scipy.optimize import minimize"
      ],
      "execution_count": null,
      "outputs": []
    },
    {
      "cell_type": "markdown",
      "metadata": {
        "id": "9adfxLQHK06y"
      },
      "source": [
        "Обязательно посмотрите документацию, сходу не очевидно, как именно использовать:"
      ]
    },
    {
      "cell_type": "code",
      "metadata": {
        "id": "_vpG937gK06y"
      },
      "source": [
        "?minimize"
      ],
      "execution_count": null,
      "outputs": []
    },
    {
      "cell_type": "markdown",
      "metadata": {
        "id": "tOHJi6hZK06z"
      },
      "source": [
        "Опмтимизируем (минимизируем) простую функцию:"
      ]
    },
    {
      "cell_type": "code",
      "metadata": {
        "id": "7cyblRsMK06z"
      },
      "source": [
        "def f(x):\n",
        "    return x ** 2"
      ],
      "execution_count": null,
      "outputs": []
    },
    {
      "cell_type": "code",
      "metadata": {
        "colab": {
          "base_uri": "https://localhost:8080/",
          "height": 282
        },
        "id": "jg1vmj6oyRhB",
        "outputId": "81b0ccc1-6c01-465a-dba6-624d7742cbb3"
      },
      "source": [
        "# %matplotlib inline\n",
        "import matplotlib.pyplot as plt\n",
        "\n",
        "x = np.arange(-3, 3, .5)\n",
        "y = f(x)\n",
        "\n",
        "plt.plot(x,y)\n",
        "# plt.show()"
      ],
      "execution_count": null,
      "outputs": [
        {
          "data": {
            "text/plain": [
              "[<matplotlib.lines.Line2D at 0x280016cb640>]"
            ]
          },
          "execution_count": 82,
          "metadata": {},
          "output_type": "execute_result"
        },
        {
          "data": {
            "image/png": "[encoded data removed]",
            "text/plain": [
              "<Figure size 432x288 with 1 Axes>"
            ]
          },
          "metadata": {
            "needs_background": "light"
          },
          "output_type": "display_data"
        }
      ]
    },
    {
      "cell_type": "code",
      "metadata": {
        "id": "8AQZT2IDK060"
      },
      "source": [
        "res = minimize(f, x0=100)"
      ],
      "execution_count": null,
      "outputs": []
    },
    {
      "cell_type": "code",
      "metadata": {
        "colab": {
          "base_uri": "https://localhost:8080/",
          "height": 185
        },
        "id": "u5-yXZoDK060",
        "outputId": "c331842a-0d45-47dc-b431-72ac1c7047cd"
      },
      "source": [
        "res"
      ],
      "execution_count": null,
      "outputs": [
        {
          "data": {
            "text/plain": [
              "      fun: 5.552074997367714e-17\n",
              " hess_inv: array([[0.50000004]])\n",
              "      jac: array([-1.28826571e-12])\n",
              "  message: 'Optimization terminated successfully.'\n",
              "     nfev: 14\n",
              "      nit: 4\n",
              "     njev: 7\n",
              "   status: 0\n",
              "  success: True\n",
              "        x: array([-7.45122473e-09])"
            ]
          },
          "execution_count": 84,
          "metadata": {},
          "output_type": "execute_result"
        }
      ]
    },
    {
      "cell_type": "markdown",
      "metadata": {
        "id": "JPQkniL8K061"
      },
      "source": [
        "Тут нужно смотреть на 4 строчки: `fun, message, success и x`  \n",
        "`fun` - значние функции в точке минимума  \n",
        "`message` - служебное сообщение об окончании процесса (может быть \"успешно\", как здесь, или сообщение о том, что что-то пошло не так (\"не сошлось\"))  \n",
        "`success` - True, если успешно сошлось (но лучше всегда всё же смотреть и `message`)  \n",
        "`x` - точка, в которой достигается минимум"
      ]
    },
    {
      "cell_type": "markdown",
      "metadata": {
        "id": "JutOzQrlK062"
      },
      "source": [
        "Можно в аргумент `method` подавать разные ключевые слова для смены метода оптимизации, подробнее о них лучше читать документацию или погуглить."
      ]
    },
    {
      "cell_type": "markdown",
      "metadata": {
        "id": "eNfjwNPcK062"
      },
      "source": [
        "* Интегрирование:"
      ]
    },
    {
      "cell_type": "code",
      "metadata": {
        "id": "v07dtKwdK062"
      },
      "source": [
        "from scipy.integrate import quad, odeint\n",
        "from scipy.special import erf"
      ],
      "execution_count": null,
      "outputs": []
    },
    {
      "cell_type": "code",
      "metadata": {
        "id": "5JAJF-RHK063"
      },
      "source": [
        "def f(x):\n",
        "    return np.exp(-x ** 2)"
      ],
      "execution_count": null,
      "outputs": []
    },
    {
      "cell_type": "code",
      "metadata": {
        "colab": {
          "base_uri": "https://localhost:8080/",
          "height": 265
        },
        "id": "VpncsF4KylNB",
        "outputId": "2fc1b57e-80b1-40d3-a650-c88c01a56e1e"
      },
      "source": [
        "%matplotlib inline\n",
        "import matplotlib.pyplot as plt\n",
        "\n",
        "x = np.arange(-3, 3, .1)\n",
        "y = f(x)\n",
        "\n",
        "plt.plot(x,y)\n",
        "plt.show()"
      ],
      "execution_count": null,
      "outputs": [
        {
          "data": {
            "image/png": "[encoded data removed]",
            "text/plain": [
              "<Figure size 432x288 with 1 Axes>"
            ]
          },
          "metadata": {
            "needs_background": "light"
          },
          "output_type": "display_data"
        }
      ]
    },
    {
      "cell_type": "markdown",
      "metadata": {
        "id": "EI4PK884K063"
      },
      "source": [
        "Адаптивное численное интегрирование (может быть до бесконечности). `err` - оценка ошибки."
      ]
    },
    {
      "cell_type": "code",
      "metadata": {
        "colab": {
          "base_uri": "https://localhost:8080/",
          "height": 34
        },
        "id": "rMrrAR8EK063",
        "outputId": "be312c88-359b-4726-9ab6-637430df7087"
      },
      "source": [
        "res, err = quad(f, 0, np.inf)\n",
        "print(np.sqrt(np.pi) / 2, res, err)"
      ],
      "execution_count": null,
      "outputs": [
        {
          "name": "stdout",
          "output_type": "stream",
          "text": [
            "0.8862269254527579 0.8862269254527579 7.101318390915439e-09\n"
          ]
        }
      ]
    },
    {
      "cell_type": "code",
      "metadata": {
        "colab": {
          "base_uri": "https://localhost:8080/",
          "height": 34
        },
        "id": "nUGcUPBBK064",
        "outputId": "df3c934c-b3c4-403a-a495-23ba0b24edc9"
      },
      "source": [
        "res, err = quad(f, 0, 1)\n",
        "print(np.sqrt(np.pi) / 2 * erf(1), res, err)"
      ],
      "execution_count": null,
      "outputs": [
        {
          "name": "stdout",
          "output_type": "stream",
          "text": [
            "0.7468241328124269 0.7468241328124271 8.291413475940725e-15\n"
          ]
        }
      ]
    },
    {
      "cell_type": "markdown",
      "metadata": {
        "id": "d7gKZrT0ixRM"
      },
      "source": [
        "# pandas"
      ]
    },
    {
      "cell_type": "code",
      "metadata": {
        "id": "QbYxXdENixRM"
      },
      "source": [
        "import numpy as np\n",
        "import pandas as pd"
      ],
      "execution_count": null,
      "outputs": []
    },
    {
      "cell_type": "markdown",
      "metadata": {
        "id": "9f0nNSNcixRN"
      },
      "source": [
        "## Series\n",
        "\n",
        "Одномерный набор данных. Отсутствующий данные записываются как `np.nan` (в этот день термометр сломался или метеоролог был пьян); они не участвуют в вычислении средних, среднеквадратичных отклонений и т.д.\n"
      ]
    },
    {
      "cell_type": "code",
      "metadata": {
        "id": "jidNWndGixRN",
        "outputId": "b0bea2f3-b6d2-4456-a841-bed804d34bdb"
      },
      "source": [
        "\n",
        "l=[1,3,5,np.nan,6,8]\n",
        "s=pd.Series(l)\n",
        "s"
      ],
      "execution_count": null,
      "outputs": [
        {
          "data": {
            "text/plain": [
              "0    1.0\n",
              "1    3.0\n",
              "2    5.0\n",
              "3    NaN\n",
              "4    6.0\n",
              "5    8.0\n",
              "dtype: float64"
            ]
          },
          "execution_count": 91,
          "metadata": {},
          "output_type": "execute_result"
        }
      ]
    },
    {
      "cell_type": "markdown",
      "metadata": {
        "id": "JsUhV7L6ixRP"
      },
      "source": [
        "\n",
        "Основная информация о наборе данных: среднее, среднеквадратичное отклонение, минимум, максимум, медиана (которая отличается от среднего для несимметричных распределений).\n"
      ]
    },
    {
      "cell_type": "code",
      "metadata": {
        "id": "If24bvFwixRP",
        "outputId": "29d0b401-401d-438c-b58b-8fe496b547f0"
      },
      "source": [
        "\n",
        "s.describe()"
      ],
      "execution_count": null,
      "outputs": [
        {
          "data": {
            "text/plain": [
              "count    5.000000\n",
              "mean     4.600000\n",
              "std      2.701851\n",
              "min      1.000000\n",
              "25%      3.000000\n",
              "50%      5.000000\n",
              "75%      6.000000\n",
              "max      8.000000\n",
              "dtype: float64"
            ]
          },
          "execution_count": 92,
          "metadata": {},
          "output_type": "execute_result"
        }
      ]
    },
    {
      "cell_type": "markdown",
      "metadata": {
        "id": "HUryf9tWaSEL",
        "outputId": "8521ac14-a37d-4936-9b13-5c1ad0a8fc2e"
      },
      "source": [
        "Обычная индексация.\n",
        "\n"
      ]
    },
    {
      "cell_type": "code",
      "metadata": {
        "id": "e0-WXH7WixRR",
        "outputId": "7e2a14af-d750-4622-aaf3-c6743eddd761"
      },
      "source": [
        "s[2]\n",
        "\n",
        "\n"
      ],
      "execution_count": null,
      "outputs": [
        {
          "data": {
            "text/plain": [
              "5.0"
            ]
          },
          "execution_count": 94,
          "metadata": {},
          "output_type": "execute_result"
        }
      ]
    },
    {
      "cell_type": "code",
      "metadata": {
        "id": "RjWlb9uQixRR",
        "outputId": "92fe4aac-36ab-4026-c28d-b49baa1e018a"
      },
      "source": [
        "s[2]=7\n",
        "s\n",
        "\n",
        "\n"
      ],
      "execution_count": null,
      "outputs": [
        {
          "data": {
            "text/plain": [
              "0    1.0\n",
              "1    3.0\n",
              "2    7.0\n",
              "3    NaN\n",
              "4    6.0\n",
              "5    8.0\n",
              "dtype: float64"
            ]
          },
          "execution_count": 95,
          "metadata": {},
          "output_type": "execute_result"
        }
      ]
    },
    {
      "cell_type": "code",
      "metadata": {
        "id": "GiZSMlpzixRS",
        "outputId": "89fac07c-6ad3-4a05-b9da-e8f3a585d68d"
      },
      "source": [
        "s[2:5]\n"
      ],
      "execution_count": null,
      "outputs": [
        {
          "data": {
            "text/plain": [
              "2    7.0\n",
              "3    NaN\n",
              "4    6.0\n",
              "dtype: float64"
            ]
          },
          "execution_count": 96,
          "metadata": {},
          "output_type": "execute_result"
        }
      ]
    },
    {
      "cell_type": "code",
      "metadata": {
        "id": "bH3qPaOXixRT",
        "outputId": "940fca17-ed20-4f25-a235-b527ef87c260"
      },
      "source": [
        "\n",
        "s1=s[1:]\n",
        "s1\n",
        "\n"
      ],
      "execution_count": null,
      "outputs": [
        {
          "data": {
            "text/plain": [
              "1    3.0\n",
              "2    7.0\n",
              "3    NaN\n",
              "4    6.0\n",
              "5    8.0\n",
              "dtype: float64"
            ]
          },
          "execution_count": 97,
          "metadata": {},
          "output_type": "execute_result"
        }
      ]
    },
    {
      "cell_type": "code",
      "metadata": {
        "id": "uwFZXfaDixRU",
        "outputId": "ddeb2442-6d02-4696-ac33-39f3301e067b"
      },
      "source": [
        "s2=s[:-1]\n",
        "s2"
      ],
      "execution_count": null,
      "outputs": [
        {
          "data": {
            "text/plain": [
              "0    1.0\n",
              "1    3.0\n",
              "2    7.0\n",
              "3    NaN\n",
              "4    6.0\n",
              "dtype: float64"
            ]
          },
          "execution_count": 98,
          "metadata": {},
          "output_type": "execute_result"
        }
      ]
    },
    {
      "cell_type": "markdown",
      "metadata": {
        "id": "bybbLxUtixRU"
      },
      "source": [
        "\n",
        "В сумме `s1+s2` складываются данные с одинаковыми индексами. Поскольку в `s1` нет данного и индексом 0, а в `s2` - с индексом 5, в `s1+s2` в соответствующих позициях будет `NaN`.\n",
        "\n"
      ]
    },
    {
      "cell_type": "code",
      "metadata": {
        "id": "vjlXjjagixRV",
        "outputId": "8ca251d7-86cd-4060-8501-1e001db1d7dc"
      },
      "source": [
        "s1+s2"
      ],
      "execution_count": null,
      "outputs": [
        {
          "data": {
            "text/plain": [
              "0     NaN\n",
              "1     6.0\n",
              "2    14.0\n",
              "3     NaN\n",
              "4    12.0\n",
              "5     NaN\n",
              "dtype: float64"
            ]
          },
          "execution_count": 99,
          "metadata": {},
          "output_type": "execute_result"
        }
      ]
    },
    {
      "cell_type": "code",
      "metadata": {
        "id": "W4tVKcpeixRW",
        "outputId": "1db24da0-6cdd-4464-97a5-d5537b270dde"
      },
      "source": [
        "\n",
        "#К наборам данных можно применять функции из `numpy`.\n",
        "\n",
        "np.exp(s)"
      ],
      "execution_count": null,
      "outputs": [
        {
          "data": {
            "text/plain": [
              "0       2.718282\n",
              "1      20.085537\n",
              "2    1096.633158\n",
              "3            NaN\n",
              "4     403.428793\n",
              "5    2980.957987\n",
              "dtype: float64"
            ]
          },
          "execution_count": 100,
          "metadata": {},
          "output_type": "execute_result"
        }
      ]
    },
    {
      "cell_type": "code",
      "metadata": {
        "colab": {
          "base_uri": "https://localhost:8080/",
          "height": 34
        },
        "id": "Y9w5oKXsM2Tx",
        "outputId": "efcb1a17-5696-4666-b5d0-7613753bca92"
      },
      "source": [
        "s.index"
      ],
      "execution_count": null,
      "outputs": [
        {
          "data": {
            "text/plain": [
              "RangeIndex(start=0, stop=6, step=1)"
            ]
          },
          "execution_count": 12,
          "metadata": {
            "tags": []
          },
          "output_type": "execute_result"
        }
      ]
    },
    {
      "cell_type": "markdown",
      "metadata": {
        "id": "H_E0B5K7M2T0"
      },
      "source": [
        "\n",
        "Но можно создавать наборы данных с индексом, заданным списком."
      ]
    },
    {
      "cell_type": "code",
      "metadata": {
        "colab": {
          "base_uri": "https://localhost:8080/",
          "height": 34
        },
        "id": "6i4FMz4KM2T1",
        "outputId": "502b1364-d318-47c8-ad49-9e0a9fc96b90"
      },
      "source": [
        "i=list('abcdef')\n",
        "i"
      ],
      "execution_count": null,
      "outputs": [
        {
          "data": {
            "text/plain": [
              "['a', 'b', 'c', 'd', 'e', 'f']"
            ]
          },
          "execution_count": 13,
          "metadata": {
            "tags": []
          },
          "output_type": "execute_result"
        }
      ]
    },
    {
      "cell_type": "code",
      "metadata": {
        "colab": {
          "base_uri": "https://localhost:8080/",
          "height": 134
        },
        "id": "kwQs5QyQM2T3",
        "outputId": "512c7ea4-2246-4154-e137-fa63ce830a86"
      },
      "source": [
        "s=pd.Series(l,index=i)\n",
        "s"
      ],
      "execution_count": null,
      "outputs": [
        {
          "data": {
            "text/plain": [
              "a    1.0\n",
              "b    3.0\n",
              "c    5.0\n",
              "d    NaN\n",
              "e    6.0\n",
              "f    8.0\n",
              "dtype: float64"
            ]
          },
          "execution_count": 14,
          "metadata": {
            "tags": []
          },
          "output_type": "execute_result"
        }
      ]
    },
    {
      "cell_type": "code",
      "metadata": {
        "colab": {
          "base_uri": "https://localhost:8080/",
          "height": 34
        },
        "id": "1nkiKilyM2T6",
        "outputId": "2424d69b-9de8-4379-b590-a25418374b0b"
      },
      "source": [
        "s['c']"
      ],
      "execution_count": null,
      "outputs": [
        {
          "data": {
            "text/plain": [
              "5.0"
            ]
          },
          "execution_count": 17,
          "metadata": {
            "tags": []
          },
          "output_type": "execute_result"
        }
      ]
    },
    {
      "cell_type": "markdown",
      "metadata": {
        "id": "4fcHii0bM2T9"
      },
      "source": [
        "Если индекс - строка, то вместо s['c'] можно писать s.c."
      ]
    },
    {
      "cell_type": "code",
      "metadata": {
        "colab": {
          "base_uri": "https://localhost:8080/",
          "height": 34
        },
        "id": "eIbBkoQEM2T-",
        "outputId": "e1cda252-5be7-4745-d596-ba3cdaf90e75"
      },
      "source": [
        "s.c"
      ],
      "execution_count": null,
      "outputs": [
        {
          "data": {
            "text/plain": [
              "5.0"
            ]
          },
          "execution_count": 18,
          "metadata": {
            "tags": []
          },
          "output_type": "execute_result"
        }
      ]
    },
    {
      "cell_type": "markdown",
      "metadata": {
        "id": "FhZiTaTtM2UA"
      },
      "source": [
        "Набор данных можно создать из словаря."
      ]
    },
    {
      "cell_type": "code",
      "metadata": {
        "colab": {
          "base_uri": "https://localhost:8080/",
          "height": 84
        },
        "id": "oln57vgSM2UB",
        "outputId": "c4b36f92-462c-4cb6-b7c9-ce2f03aa3149"
      },
      "source": [
        "s=pd.Series({'a':1,'b':2,'c':0})\n",
        "s"
      ],
      "execution_count": null,
      "outputs": [
        {
          "data": {
            "text/plain": [
              "a    1\n",
              "b    2\n",
              "c    0\n",
              "dtype: int64"
            ]
          },
          "execution_count": 19,
          "metadata": {
            "tags": []
          },
          "output_type": "execute_result"
        }
      ]
    },
    {
      "cell_type": "markdown",
      "metadata": {
        "id": "SYOiXAygM2UE"
      },
      "source": [
        "\n",
        "Можно отсортировать набор данных."
      ]
    },
    {
      "cell_type": "code",
      "metadata": {
        "colab": {
          "base_uri": "https://localhost:8080/",
          "height": 84
        },
        "id": "0PmVvgpYM2UF",
        "outputId": "1f98e07d-6ab4-412c-caea-3f98a23d78d2"
      },
      "source": [
        "s.sort_values()"
      ],
      "execution_count": null,
      "outputs": [
        {
          "data": {
            "text/plain": [
              "c    0\n",
              "a    1\n",
              "b    2\n",
              "dtype: int64"
            ]
          },
          "execution_count": 20,
          "metadata": {
            "tags": []
          },
          "output_type": "execute_result"
        }
      ]
    },
    {
      "cell_type": "markdown",
      "metadata": {
        "id": "RriJPl9TM2UK"
      },
      "source": [
        "Роль индекса может играть, скажем, последовательность дат (или времён измерения и т.д.)."
      ]
    },
    {
      "cell_type": "code",
      "metadata": {
        "colab": {
          "base_uri": "https://localhost:8080/",
          "height": 84
        },
        "id": "hqlxzav-M2UL",
        "outputId": "9dbb385c-c259-4265-ef28-6446d7af63d0"
      },
      "source": [
        "d=pd.date_range('20160101',periods=10)\n",
        "d"
      ],
      "execution_count": null,
      "outputs": [
        {
          "data": {
            "text/plain": [
              "DatetimeIndex(['2016-01-01', '2016-01-02', '2016-01-03', '2016-01-04',\n",
              "               '2016-01-05', '2016-01-06', '2016-01-07', '2016-01-08',\n",
              "               '2016-01-09', '2016-01-10'],\n",
              "              dtype='datetime64[ns]', freq='D')"
            ]
          },
          "execution_count": 21,
          "metadata": {
            "tags": []
          },
          "output_type": "execute_result"
        }
      ]
    },
    {
      "cell_type": "code",
      "metadata": {
        "colab": {
          "base_uri": "https://localhost:8080/",
          "height": 202
        },
        "id": "fdd9rOVpM2UQ",
        "outputId": "edc75177-fdf3-4234-f80a-3ad6233097ad"
      },
      "source": [
        "s=pd.Series(np.random.normal(size=10),index=d)\n",
        "s"
      ],
      "execution_count": null,
      "outputs": [
        {
          "data": {
            "text/plain": [
              "2016-01-01    0.243507\n",
              "2016-01-02    1.345847\n",
              "2016-01-03    1.074076\n",
              "2016-01-04    1.204339\n",
              "2016-01-05   -0.223106\n",
              "2016-01-06   -0.452642\n",
              "2016-01-07   -1.072204\n",
              "2016-01-08    0.674307\n",
              "2016-01-09   -0.512845\n",
              "2016-01-10   -1.671500\n",
              "Freq: D, dtype: float64"
            ]
          },
          "execution_count": 22,
          "metadata": {
            "tags": []
          },
          "output_type": "execute_result"
        }
      ]
    },
    {
      "cell_type": "markdown",
      "metadata": {
        "id": "NZVXPE8OM2UT"
      },
      "source": [
        "Операции сравнения возвращают наборы булевых данных."
      ]
    },
    {
      "cell_type": "code",
      "metadata": {
        "colab": {
          "base_uri": "https://localhost:8080/",
          "height": 202
        },
        "id": "XqU-gRM5M2UU",
        "outputId": "66ffc6a4-7851-48ec-cab1-13cb2d2b7b57"
      },
      "source": [
        "s>0"
      ],
      "execution_count": null,
      "outputs": [
        {
          "data": {
            "text/plain": [
              "2016-01-01     True\n",
              "2016-01-02     True\n",
              "2016-01-03     True\n",
              "2016-01-04     True\n",
              "2016-01-05    False\n",
              "2016-01-06    False\n",
              "2016-01-07    False\n",
              "2016-01-08     True\n",
              "2016-01-09    False\n",
              "2016-01-10    False\n",
              "Freq: D, dtype: bool"
            ]
          },
          "execution_count": 23,
          "metadata": {
            "tags": []
          },
          "output_type": "execute_result"
        }
      ]
    },
    {
      "cell_type": "markdown",
      "metadata": {
        "id": "xU-4PDzUM2UW"
      },
      "source": [
        "Если такой булев набор использовать для индексации, получится поднабор только из тех данных, для которых условие есть True."
      ]
    },
    {
      "cell_type": "code",
      "metadata": {
        "colab": {
          "base_uri": "https://localhost:8080/",
          "height": 118
        },
        "id": "8MDgfd-oM2UX",
        "outputId": "a7a7ee03-6d33-40c6-bbcf-6df02d30def2"
      },
      "source": [
        "s[s>0]"
      ],
      "execution_count": null,
      "outputs": [
        {
          "data": {
            "text/plain": [
              "2016-01-01    0.243507\n",
              "2016-01-02    1.345847\n",
              "2016-01-03    1.074076\n",
              "2016-01-04    1.204339\n",
              "2016-01-08    0.674307\n",
              "dtype: float64"
            ]
          },
          "execution_count": 24,
          "metadata": {
            "tags": []
          },
          "output_type": "execute_result"
        }
      ]
    },
    {
      "cell_type": "markdown",
      "metadata": {
        "id": "3njC97YtxN6g"
      },
      "source": [
        "**Задание:** Вам дан массив из 1000 чисел. Оставьте в нем только те числа, которые делятся на 29, а их последняя цифра равна 3."
      ]
    },
    {
      "cell_type": "code",
      "metadata": {
        "id": "gYcgwD0VxRDn"
      },
      "source": [
        "s = pd.Series(np.arange(1000))\n",
        "\n"
      ],
      "execution_count": null,
      "outputs": []
    },
    {
      "cell_type": "markdown",
      "metadata": {
        "id": "N6kCjS5JSXEO"
      },
      "source": [
        "# ответ"
      ]
    },
    {
      "cell_type": "code",
      "metadata": {
        "colab": {
          "base_uri": "https://localhost:8080/",
          "height": 138
        },
        "id": "2h6Pn9xmSdxY",
        "outputId": "3bd81fd6-56bc-445c-e26c-8ef6e725d83c"
      },
      "source": [
        "a = s%29 == 0\n",
        "b = s%10 ==3\n",
        "c = a * b\n",
        "s[c]"
      ],
      "execution_count": null,
      "outputs": [
        {
          "name": "stderr",
          "output_type": "stream",
          "text": [
            "/usr/local/lib/python3.6/dist-packages/pandas/core/computation/expressions.py:178: UserWarning: evaluating in Python space because the '*' operator is not supported by numexpr for the bool dtype, use '&' instead\n",
            "  f\"evaluating in Python space because the {repr(op_str)} \"\n"
          ]
        },
        {
          "data": {
            "text/plain": [
              "203    203\n",
              "493    493\n",
              "783    783\n",
              "dtype: int64"
            ]
          },
          "execution_count": 26,
          "metadata": {
            "tags": []
          },
          "output_type": "execute_result"
        }
      ]
    },
    {
      "cell_type": "markdown",
      "metadata": {
        "id": "DpWI5YULM2UZ"
      },
      "source": [
        "# Кумулятивные максимумы - от первого элемента до текущего."
      ]
    },
    {
      "cell_type": "code",
      "metadata": {
        "colab": {
          "base_uri": "https://localhost:8080/",
          "height": 218
        },
        "id": "aR-l_YKKM2Ua",
        "outputId": "0076d1f2-d9e2-4d91-815b-0a186a5988a0"
      },
      "source": [
        "s.cummax()"
      ],
      "execution_count": null,
      "outputs": [
        {
          "data": {
            "text/plain": [
              "0        0\n",
              "1        1\n",
              "2        2\n",
              "3        3\n",
              "4        4\n",
              "      ... \n",
              "995    995\n",
              "996    996\n",
              "997    997\n",
              "998    998\n",
              "999    999\n",
              "Length: 1000, dtype: int64"
            ]
          },
          "execution_count": 27,
          "metadata": {
            "tags": []
          },
          "output_type": "execute_result"
        }
      ]
    },
    {
      "cell_type": "markdown",
      "metadata": {
        "id": "VBU2SG2fM2Uc"
      },
      "source": [
        "\n",
        "Кумулятивные суммы."
      ]
    },
    {
      "cell_type": "code",
      "metadata": {
        "colab": {
          "base_uri": "https://localhost:8080/",
          "height": 218
        },
        "id": "NhXoJ-wcM2Ud",
        "outputId": "410d1fc2-ab74-4de1-edb9-7c9dc6156ffe"
      },
      "source": [
        "s=s.cumsum()\n",
        "s"
      ],
      "execution_count": null,
      "outputs": [
        {
          "data": {
            "text/plain": [
              "0           0\n",
              "1           1\n",
              "2           3\n",
              "3           6\n",
              "4          10\n",
              "        ...  \n",
              "995    495510\n",
              "996    496506\n",
              "997    497503\n",
              "998    498501\n",
              "999    499500\n",
              "Length: 1000, dtype: int64"
            ]
          },
          "execution_count": 28,
          "metadata": {
            "tags": []
          },
          "output_type": "execute_result"
        }
      ]
    },
    {
      "cell_type": "markdown",
      "metadata": {
        "id": "kHNiUFacM2Uf"
      },
      "source": [
        "\n",
        "Построим график."
      ]
    },
    {
      "cell_type": "code",
      "metadata": {
        "id": "T4_ASI3RM2Ug"
      },
      "source": [
        "import matplotlib.pyplot as plt\n",
        "%matplotlib inline"
      ],
      "execution_count": null,
      "outputs": []
    },
    {
      "cell_type": "code",
      "metadata": {
        "id": "-Ji2cVe6TyhC"
      },
      "source": [
        "s = pd.Series(np.arange(1000))\n",
        "s=s.cumsum()"
      ],
      "execution_count": null,
      "outputs": []
    },
    {
      "cell_type": "code",
      "metadata": {
        "colab": {
          "base_uri": "https://localhost:8080/",
          "height": 282
        },
        "id": "X3Siiof9M2Ui",
        "outputId": "072ea11f-24be-4be5-e2e0-92bef246fbcc"
      },
      "source": [
        "plt.plot(s)"
      ],
      "execution_count": null,
      "outputs": [
        {
          "data": {
            "text/plain": [
              "[<matplotlib.lines.Line2D at 0x7f7e86e709e8>]"
            ]
          },
          "execution_count": 31,
          "metadata": {
            "tags": []
          },
          "output_type": "execute_result"
        },
        {
          "data": {
            "image/png": "[encoded data removed]",
            "text/plain": [
              "<Figure size 432x288 with 1 Axes>"
            ]
          },
          "metadata": {
            "needs_background": "light",
            "tags": []
          },
          "output_type": "display_data"
        }
      ]
    },
    {
      "cell_type": "markdown",
      "metadata": {
        "id": "ypSyHP9eM2Ul"
      },
      "source": [
        "## DataFrame\n",
        "\n",
        "Двумерная таблица данных. Имеет индекс и набор столбцов (возможно, имеющих разные типы). Таблицу можно построить, например, из словаря, значениями в котором являются одномерные наборы данных."
      ]
    },
    {
      "cell_type": "code",
      "metadata": {
        "colab": {
          "base_uri": "https://localhost:8080/",
          "height": 166
        },
        "id": "hxVHGmr1M2Um",
        "outputId": "fd90c507-822b-47ec-cece-f5e5b2829cf8"
      },
      "source": [
        "d={'one':pd.Series([1,2,3],index=['a','b','c']),\n",
        "   'two':pd.Series([1,2,3,4],index=['a','b','c','d'])}\n",
        "df=pd.DataFrame(d)\n",
        "df"
      ],
      "execution_count": null,
      "outputs": [
        {
          "data": {
            "text/html": [
              "<div>\n",
              "<style scoped>\n",
              "    .dataframe tbody tr th:only-of-type {\n",
              "        vertical-align: middle;\n",
              "    }\n",
              "\n",
              "    .dataframe tbody tr th {\n",
              "        vertical-align: top;\n",
              "    }\n",
              "\n",
              "    .dataframe thead th {\n",
              "        text-align: right;\n",
              "    }\n",
              "</style>\n",
              "<table border=\"1\" class=\"dataframe\">\n",
              "  <thead>\n",
              "    <tr style=\"text-align: right;\">\n",
              "      <th></th>\n",
              "      <th>one</th>\n",
              "      <th>two</th>\n",
              "    </tr>\n",
              "  </thead>\n",
              "  <tbody>\n",
              "    <tr>\n",
              "      <th>a</th>\n",
              "      <td>1.0</td>\n",
              "      <td>1</td>\n",
              "    </tr>\n",
              "    <tr>\n",
              "      <th>b</th>\n",
              "      <td>2.0</td>\n",
              "      <td>2</td>\n",
              "    </tr>\n",
              "    <tr>\n",
              "      <th>c</th>\n",
              "      <td>3.0</td>\n",
              "      <td>3</td>\n",
              "    </tr>\n",
              "    <tr>\n",
              "      <th>d</th>\n",
              "      <td>NaN</td>\n",
              "      <td>4</td>\n",
              "    </tr>\n",
              "  </tbody>\n",
              "</table>\n",
              "</div>"
            ],
            "text/plain": [
              "   one  two\n",
              "a  1.0    1\n",
              "b  2.0    2\n",
              "c  3.0    3\n",
              "d  NaN    4"
            ]
          },
          "execution_count": 32,
          "metadata": {
            "tags": []
          },
          "output_type": "execute_result"
        }
      ]
    },
    {
      "cell_type": "code",
      "metadata": {
        "colab": {
          "base_uri": "https://localhost:8080/",
          "height": 34
        },
        "id": "O7eJP8TuM2Up",
        "outputId": "86302c41-547c-443e-bcc7-afdb2bb31012"
      },
      "source": [
        "df.index"
      ],
      "execution_count": null,
      "outputs": [
        {
          "data": {
            "text/plain": [
              "Index(['a', 'b', 'c', 'd'], dtype='object')"
            ]
          },
          "execution_count": 33,
          "metadata": {
            "tags": []
          },
          "output_type": "execute_result"
        }
      ]
    },
    {
      "cell_type": "code",
      "metadata": {
        "colab": {
          "base_uri": "https://localhost:8080/",
          "height": 34
        },
        "id": "5oAQUFOrM2Ur",
        "outputId": "ce68f2ee-a43e-45a0-ed37-cb8f900cece3"
      },
      "source": [
        "df.columns"
      ],
      "execution_count": null,
      "outputs": [
        {
          "data": {
            "text/plain": [
              "Index(['one', 'two'], dtype='object')"
            ]
          },
          "execution_count": 34,
          "metadata": {
            "tags": []
          },
          "output_type": "execute_result"
        }
      ]
    },
    {
      "cell_type": "markdown",
      "metadata": {
        "id": "fhRxhEC9M2Uu"
      },
      "source": [
        "Если в качестве индекса указать имя столбца, получится одномерный набор данных."
      ]
    },
    {
      "cell_type": "code",
      "metadata": {
        "colab": {
          "base_uri": "https://localhost:8080/",
          "height": 101
        },
        "id": "5VvX8LVdM2Uu",
        "outputId": "d516a59c-7a82-4544-f4f5-7e7a6d57acc6"
      },
      "source": [
        "df['one']"
      ],
      "execution_count": null,
      "outputs": [
        {
          "data": {
            "text/plain": [
              "a    1.0\n",
              "b    2.0\n",
              "c    3.0\n",
              "d    NaN\n",
              "Name: one, dtype: float64"
            ]
          },
          "execution_count": 35,
          "metadata": {
            "tags": []
          },
          "output_type": "execute_result"
        }
      ]
    },
    {
      "cell_type": "code",
      "metadata": {
        "colab": {
          "base_uri": "https://localhost:8080/",
          "height": 101
        },
        "id": "QoV8SFPxM2Ux",
        "outputId": "54b141d6-1f81-4543-818a-2a23f392f0a2"
      },
      "source": [
        "df.one"
      ],
      "execution_count": null,
      "outputs": [
        {
          "data": {
            "text/plain": [
              "a    1.0\n",
              "b    2.0\n",
              "c    3.0\n",
              "d    NaN\n",
              "Name: one, dtype: float64"
            ]
          },
          "execution_count": 36,
          "metadata": {
            "tags": []
          },
          "output_type": "execute_result"
        }
      ]
    },
    {
      "cell_type": "code",
      "metadata": {
        "colab": {
          "base_uri": "https://localhost:8080/",
          "height": 34
        },
        "id": "CS3KH5JsM2U0",
        "outputId": "3d6ec29f-90db-48bc-a99a-52dfaebb6123"
      },
      "source": [
        "df['one']['c']"
      ],
      "execution_count": null,
      "outputs": [
        {
          "data": {
            "text/plain": [
              "3.0"
            ]
          },
          "execution_count": 38,
          "metadata": {
            "tags": []
          },
          "output_type": "execute_result"
        }
      ]
    },
    {
      "cell_type": "markdown",
      "metadata": {
        "id": "vQsicTXWM2U2"
      },
      "source": [
        "\n",
        "Однако если указать диапазон индексов, то это означает диапазон строк. Причём последняя строка включается в таблицу."
      ]
    },
    {
      "cell_type": "code",
      "metadata": {
        "colab": {
          "base_uri": "https://localhost:8080/",
          "height": 136
        },
        "id": "MHa8ShsZM2U2",
        "outputId": "2fc73f74-3023-466d-89a1-2657de0587c6"
      },
      "source": [
        "df['b':'d']"
      ],
      "execution_count": null,
      "outputs": [
        {
          "data": {
            "text/html": [
              "<div>\n",
              "<style scoped>\n",
              "    .dataframe tbody tr th:only-of-type {\n",
              "        vertical-align: middle;\n",
              "    }\n",
              "\n",
              "    .dataframe tbody tr th {\n",
              "        vertical-align: top;\n",
              "    }\n",
              "\n",
              "    .dataframe thead th {\n",
              "        text-align: right;\n",
              "    }\n",
              "</style>\n",
              "<table border=\"1\" class=\"dataframe\">\n",
              "  <thead>\n",
              "    <tr style=\"text-align: right;\">\n",
              "      <th></th>\n",
              "      <th>one</th>\n",
              "      <th>two</th>\n",
              "    </tr>\n",
              "  </thead>\n",
              "  <tbody>\n",
              "    <tr>\n",
              "      <th>b</th>\n",
              "      <td>2.0</td>\n",
              "      <td>2</td>\n",
              "    </tr>\n",
              "    <tr>\n",
              "      <th>c</th>\n",
              "      <td>3.0</td>\n",
              "      <td>3</td>\n",
              "    </tr>\n",
              "    <tr>\n",
              "      <th>d</th>\n",
              "      <td>NaN</td>\n",
              "      <td>4</td>\n",
              "    </tr>\n",
              "  </tbody>\n",
              "</table>\n",
              "</div>"
            ],
            "text/plain": [
              "   one  two\n",
              "b  2.0    2\n",
              "c  3.0    3\n",
              "d  NaN    4"
            ]
          },
          "execution_count": 39,
          "metadata": {
            "tags": []
          },
          "output_type": "execute_result"
        }
      ]
    },
    {
      "cell_type": "markdown",
      "metadata": {
        "id": "Y5QissKMM2U5"
      },
      "source": [
        "\n",
        "Диапазон целых чисел даёт диапазон строк с такими номерами, не включая последнюю строку (как обычно при индексировании списков). Всё это кажется довольно нелогичным."
      ]
    },
    {
      "cell_type": "code",
      "metadata": {
        "colab": {
          "base_uri": "https://localhost:8080/",
          "height": 106
        },
        "id": "64wP-cFFM2U5",
        "outputId": "2d80ef71-21c9-43e8-ff61-adca138092b7"
      },
      "source": [
        "df[1:3]"
      ],
      "execution_count": null,
      "outputs": [
        {
          "data": {
            "text/html": [
              "<div>\n",
              "<style scoped>\n",
              "    .dataframe tbody tr th:only-of-type {\n",
              "        vertical-align: middle;\n",
              "    }\n",
              "\n",
              "    .dataframe tbody tr th {\n",
              "        vertical-align: top;\n",
              "    }\n",
              "\n",
              "    .dataframe thead th {\n",
              "        text-align: right;\n",
              "    }\n",
              "</style>\n",
              "<table border=\"1\" class=\"dataframe\">\n",
              "  <thead>\n",
              "    <tr style=\"text-align: right;\">\n",
              "      <th></th>\n",
              "      <th>one</th>\n",
              "      <th>two</th>\n",
              "    </tr>\n",
              "  </thead>\n",
              "  <tbody>\n",
              "    <tr>\n",
              "      <th>b</th>\n",
              "      <td>2.0</td>\n",
              "      <td>2</td>\n",
              "    </tr>\n",
              "    <tr>\n",
              "      <th>c</th>\n",
              "      <td>3.0</td>\n",
              "      <td>3</td>\n",
              "    </tr>\n",
              "  </tbody>\n",
              "</table>\n",
              "</div>"
            ],
            "text/plain": [
              "   one  two\n",
              "b  2.0    2\n",
              "c  3.0    3"
            ]
          },
          "execution_count": 40,
          "metadata": {
            "tags": []
          },
          "output_type": "execute_result"
        }
      ]
    },
    {
      "cell_type": "markdown",
      "metadata": {
        "id": "vA6aTUaCM2U7"
      },
      "source": [
        "\n",
        "Логичнее работает атрибут `loc`: первая позиция - всегда индекс строки, а вторая - столбца."
      ]
    },
    {
      "cell_type": "code",
      "metadata": {
        "colab": {
          "base_uri": "https://localhost:8080/",
          "height": 67
        },
        "id": "JYTx_qo3M2U8",
        "outputId": "d2cb0269-1ab8-492c-ffbe-98269d1e0885"
      },
      "source": [
        "df.loc['b']"
      ],
      "execution_count": null,
      "outputs": [
        {
          "data": {
            "text/plain": [
              "one    2.0\n",
              "two    2.0\n",
              "Name: b, dtype: float64"
            ]
          },
          "execution_count": 41,
          "metadata": {
            "tags": []
          },
          "output_type": "execute_result"
        }
      ]
    },
    {
      "cell_type": "code",
      "metadata": {
        "colab": {
          "base_uri": "https://localhost:8080/",
          "height": 34
        },
        "id": "gqRy3aTbM2U-",
        "outputId": "dcb64704-a144-47e4-dda4-e199b9cc5963"
      },
      "source": [
        "df.loc['b','one']"
      ],
      "execution_count": null,
      "outputs": [
        {
          "data": {
            "text/plain": [
              "2.0"
            ]
          },
          "execution_count": 42,
          "metadata": {
            "tags": []
          },
          "output_type": "execute_result"
        }
      ]
    },
    {
      "cell_type": "code",
      "metadata": {
        "colab": {
          "base_uri": "https://localhost:8080/",
          "height": 67
        },
        "id": "P-2c_nRHM2VB",
        "outputId": "8f7bac8d-1b55-4e00-d857-588d923cf652"
      },
      "source": [
        "df.loc['a':'b','one']"
      ],
      "execution_count": null,
      "outputs": [
        {
          "data": {
            "text/plain": [
              "a    1.0\n",
              "b    2.0\n",
              "Name: one, dtype: float64"
            ]
          },
          "execution_count": 43,
          "metadata": {
            "tags": []
          },
          "output_type": "execute_result"
        }
      ]
    },
    {
      "cell_type": "code",
      "metadata": {
        "colab": {
          "base_uri": "https://localhost:8080/",
          "height": 106
        },
        "id": "eDsAS_SbM2VE",
        "outputId": "0c937f93-1c59-42fd-c465-c260e8a03277"
      },
      "source": [
        "df.loc['a':'b',:]"
      ],
      "execution_count": null,
      "outputs": [
        {
          "data": {
            "text/html": [
              "<div>\n",
              "<style scoped>\n",
              "    .dataframe tbody tr th:only-of-type {\n",
              "        vertical-align: middle;\n",
              "    }\n",
              "\n",
              "    .dataframe tbody tr th {\n",
              "        vertical-align: top;\n",
              "    }\n",
              "\n",
              "    .dataframe thead th {\n",
              "        text-align: right;\n",
              "    }\n",
              "</style>\n",
              "<table border=\"1\" class=\"dataframe\">\n",
              "  <thead>\n",
              "    <tr style=\"text-align: right;\">\n",
              "      <th></th>\n",
              "      <th>one</th>\n",
              "      <th>two</th>\n",
              "    </tr>\n",
              "  </thead>\n",
              "  <tbody>\n",
              "    <tr>\n",
              "      <th>a</th>\n",
              "      <td>1.0</td>\n",
              "      <td>1</td>\n",
              "    </tr>\n",
              "    <tr>\n",
              "      <th>b</th>\n",
              "      <td>2.0</td>\n",
              "      <td>2</td>\n",
              "    </tr>\n",
              "  </tbody>\n",
              "</table>\n",
              "</div>"
            ],
            "text/plain": [
              "   one  two\n",
              "a  1.0    1\n",
              "b  2.0    2"
            ]
          },
          "execution_count": 44,
          "metadata": {
            "tags": []
          },
          "output_type": "execute_result"
        }
      ]
    },
    {
      "cell_type": "code",
      "metadata": {
        "colab": {
          "base_uri": "https://localhost:8080/",
          "height": 101
        },
        "id": "L6IUDGt5M2VG",
        "outputId": "9d7ec7d7-f523-4c43-8611-31629e05c681"
      },
      "source": [
        "df.loc[:,'one']"
      ],
      "execution_count": null,
      "outputs": [
        {
          "data": {
            "text/plain": [
              "a    1.0\n",
              "b    2.0\n",
              "c    3.0\n",
              "d    NaN\n",
              "Name: one, dtype: float64"
            ]
          },
          "execution_count": 45,
          "metadata": {
            "tags": []
          },
          "output_type": "execute_result"
        }
      ]
    },
    {
      "cell_type": "markdown",
      "metadata": {
        "id": "zPiz1B2EM2VL"
      },
      "source": [
        "К таблице можно добавлять новые столбцы."
      ]
    },
    {
      "cell_type": "code",
      "metadata": {
        "colab": {
          "base_uri": "https://localhost:8080/",
          "height": 166
        },
        "id": "MFzL7e3OM2VM",
        "outputId": "4869589c-a76b-41e5-8469-e10baa5f8f50"
      },
      "source": [
        "df['three']=df['one']*df['two']\n",
        "df['flag']=df['two']>2\n",
        "df"
      ],
      "execution_count": null,
      "outputs": [
        {
          "data": {
            "text/html": [
              "<div>\n",
              "<style scoped>\n",
              "    .dataframe tbody tr th:only-of-type {\n",
              "        vertical-align: middle;\n",
              "    }\n",
              "\n",
              "    .dataframe tbody tr th {\n",
              "        vertical-align: top;\n",
              "    }\n",
              "\n",
              "    .dataframe thead th {\n",
              "        text-align: right;\n",
              "    }\n",
              "</style>\n",
              "<table border=\"1\" class=\"dataframe\">\n",
              "  <thead>\n",
              "    <tr style=\"text-align: right;\">\n",
              "      <th></th>\n",
              "      <th>one</th>\n",
              "      <th>two</th>\n",
              "      <th>three</th>\n",
              "      <th>flag</th>\n",
              "    </tr>\n",
              "  </thead>\n",
              "  <tbody>\n",
              "    <tr>\n",
              "      <th>a</th>\n",
              "      <td>1.0</td>\n",
              "      <td>1</td>\n",
              "      <td>1.0</td>\n",
              "      <td>False</td>\n",
              "    </tr>\n",
              "    <tr>\n",
              "      <th>b</th>\n",
              "      <td>2.0</td>\n",
              "      <td>2</td>\n",
              "      <td>4.0</td>\n",
              "      <td>False</td>\n",
              "    </tr>\n",
              "    <tr>\n",
              "      <th>c</th>\n",
              "      <td>3.0</td>\n",
              "      <td>3</td>\n",
              "      <td>9.0</td>\n",
              "      <td>True</td>\n",
              "    </tr>\n",
              "    <tr>\n",
              "      <th>d</th>\n",
              "      <td>NaN</td>\n",
              "      <td>4</td>\n",
              "      <td>NaN</td>\n",
              "      <td>True</td>\n",
              "    </tr>\n",
              "  </tbody>\n",
              "</table>\n",
              "</div>"
            ],
            "text/plain": [
              "   one  two  three   flag\n",
              "a  1.0    1    1.0  False\n",
              "b  2.0    2    4.0  False\n",
              "c  3.0    3    9.0   True\n",
              "d  NaN    4    NaN   True"
            ]
          },
          "execution_count": 47,
          "metadata": {
            "tags": []
          },
          "output_type": "execute_result"
        }
      ]
    },
    {
      "cell_type": "markdown",
      "metadata": {
        "id": "KyQWl8KfM2VT"
      },
      "source": [
        "Также можно удалять имеющиеся."
      ]
    },
    {
      "cell_type": "code",
      "metadata": {
        "colab": {
          "base_uri": "https://localhost:8080/",
          "height": 166
        },
        "id": "9AmRv1QEM2VT",
        "outputId": "c5e394da-d4c4-43f4-ebc1-ad161d89ed35"
      },
      "source": [
        "#del df['two']\n",
        "df['foo']=0.\n",
        "# df.drop(['foo'], axis=1)\n",
        "del df['foo']\n",
        "df"
      ],
      "execution_count": null,
      "outputs": [
        {
          "data": {
            "text/html": [
              "<div>\n",
              "<style scoped>\n",
              "    .dataframe tbody tr th:only-of-type {\n",
              "        vertical-align: middle;\n",
              "    }\n",
              "\n",
              "    .dataframe tbody tr th {\n",
              "        vertical-align: top;\n",
              "    }\n",
              "\n",
              "    .dataframe thead th {\n",
              "        text-align: right;\n",
              "    }\n",
              "</style>\n",
              "<table border=\"1\" class=\"dataframe\">\n",
              "  <thead>\n",
              "    <tr style=\"text-align: right;\">\n",
              "      <th></th>\n",
              "      <th>one</th>\n",
              "      <th>two</th>\n",
              "      <th>three</th>\n",
              "      <th>flag</th>\n",
              "    </tr>\n",
              "  </thead>\n",
              "  <tbody>\n",
              "    <tr>\n",
              "      <th>a</th>\n",
              "      <td>1.0</td>\n",
              "      <td>1</td>\n",
              "      <td>1.0</td>\n",
              "      <td>False</td>\n",
              "    </tr>\n",
              "    <tr>\n",
              "      <th>b</th>\n",
              "      <td>2.0</td>\n",
              "      <td>2</td>\n",
              "      <td>4.0</td>\n",
              "      <td>False</td>\n",
              "    </tr>\n",
              "    <tr>\n",
              "      <th>c</th>\n",
              "      <td>3.0</td>\n",
              "      <td>3</td>\n",
              "      <td>9.0</td>\n",
              "      <td>True</td>\n",
              "    </tr>\n",
              "    <tr>\n",
              "      <th>d</th>\n",
              "      <td>NaN</td>\n",
              "      <td>4</td>\n",
              "      <td>NaN</td>\n",
              "      <td>True</td>\n",
              "    </tr>\n",
              "  </tbody>\n",
              "</table>\n",
              "</div>"
            ],
            "text/plain": [
              "   one  two  three   flag\n",
              "a  1.0    1    1.0  False\n",
              "b  2.0    2    4.0  False\n",
              "c  3.0    3    9.0   True\n",
              "d  NaN    4    NaN   True"
            ]
          },
          "execution_count": 49,
          "metadata": {
            "tags": []
          },
          "output_type": "execute_result"
        }
      ]
    },
    {
      "cell_type": "markdown",
      "metadata": {
        "id": "hDn9tP2fM2Vc"
      },
      "source": [
        "\n",
        "Добавим копию столбца `one`, в которую входят только строки до второй."
      ]
    },
    {
      "cell_type": "code",
      "metadata": {
        "colab": {
          "base_uri": "https://localhost:8080/",
          "height": 166
        },
        "id": "Ile7BrjLM2Vd",
        "outputId": "1daf3556-6b3d-4f91-9233-008b362f685e"
      },
      "source": [
        "df['one_tr']=df['one'][:2]\n",
        "df"
      ],
      "execution_count": null,
      "outputs": [
        {
          "data": {
            "text/html": [
              "<div>\n",
              "<style scoped>\n",
              "    .dataframe tbody tr th:only-of-type {\n",
              "        vertical-align: middle;\n",
              "    }\n",
              "\n",
              "    .dataframe tbody tr th {\n",
              "        vertical-align: top;\n",
              "    }\n",
              "\n",
              "    .dataframe thead th {\n",
              "        text-align: right;\n",
              "    }\n",
              "</style>\n",
              "<table border=\"1\" class=\"dataframe\">\n",
              "  <thead>\n",
              "    <tr style=\"text-align: right;\">\n",
              "      <th></th>\n",
              "      <th>one</th>\n",
              "      <th>two</th>\n",
              "      <th>three</th>\n",
              "      <th>flag</th>\n",
              "      <th>one_tr</th>\n",
              "    </tr>\n",
              "  </thead>\n",
              "  <tbody>\n",
              "    <tr>\n",
              "      <th>a</th>\n",
              "      <td>1.0</td>\n",
              "      <td>1</td>\n",
              "      <td>1.0</td>\n",
              "      <td>False</td>\n",
              "      <td>1.0</td>\n",
              "    </tr>\n",
              "    <tr>\n",
              "      <th>b</th>\n",
              "      <td>2.0</td>\n",
              "      <td>2</td>\n",
              "      <td>4.0</td>\n",
              "      <td>False</td>\n",
              "      <td>2.0</td>\n",
              "    </tr>\n",
              "    <tr>\n",
              "      <th>c</th>\n",
              "      <td>3.0</td>\n",
              "      <td>3</td>\n",
              "      <td>9.0</td>\n",
              "      <td>True</td>\n",
              "      <td>NaN</td>\n",
              "    </tr>\n",
              "    <tr>\n",
              "      <th>d</th>\n",
              "      <td>NaN</td>\n",
              "      <td>4</td>\n",
              "      <td>NaN</td>\n",
              "      <td>True</td>\n",
              "      <td>NaN</td>\n",
              "    </tr>\n",
              "  </tbody>\n",
              "</table>\n",
              "</div>"
            ],
            "text/plain": [
              "   one  two  three   flag  one_tr\n",
              "a  1.0    1    1.0  False     1.0\n",
              "b  2.0    2    4.0  False     2.0\n",
              "c  3.0    3    9.0   True     NaN\n",
              "d  NaN    4    NaN   True     NaN"
            ]
          },
          "execution_count": 50,
          "metadata": {
            "tags": []
          },
          "output_type": "execute_result"
        }
      ]
    },
    {
      "cell_type": "code",
      "metadata": {
        "colab": {
          "base_uri": "https://localhost:8080/",
          "height": 166
        },
        "id": "XEUAYXBsM2Vg",
        "outputId": "db80d9aa-b6c9-43f6-dad1-c7f557deb392"
      },
      "source": [
        "df1=df.loc[:,['one','one_tr']]\n",
        "df1"
      ],
      "execution_count": null,
      "outputs": [
        {
          "data": {
            "text/html": [
              "<div>\n",
              "<style scoped>\n",
              "    .dataframe tbody tr th:only-of-type {\n",
              "        vertical-align: middle;\n",
              "    }\n",
              "\n",
              "    .dataframe tbody tr th {\n",
              "        vertical-align: top;\n",
              "    }\n",
              "\n",
              "    .dataframe thead th {\n",
              "        text-align: right;\n",
              "    }\n",
              "</style>\n",
              "<table border=\"1\" class=\"dataframe\">\n",
              "  <thead>\n",
              "    <tr style=\"text-align: right;\">\n",
              "      <th></th>\n",
              "      <th>one</th>\n",
              "      <th>one_tr</th>\n",
              "    </tr>\n",
              "  </thead>\n",
              "  <tbody>\n",
              "    <tr>\n",
              "      <th>a</th>\n",
              "      <td>1.0</td>\n",
              "      <td>1.0</td>\n",
              "    </tr>\n",
              "    <tr>\n",
              "      <th>b</th>\n",
              "      <td>2.0</td>\n",
              "      <td>2.0</td>\n",
              "    </tr>\n",
              "    <tr>\n",
              "      <th>c</th>\n",
              "      <td>3.0</td>\n",
              "      <td>NaN</td>\n",
              "    </tr>\n",
              "    <tr>\n",
              "      <th>d</th>\n",
              "      <td>NaN</td>\n",
              "      <td>NaN</td>\n",
              "    </tr>\n",
              "  </tbody>\n",
              "</table>\n",
              "</div>"
            ],
            "text/plain": [
              "   one  one_tr\n",
              "a  1.0     1.0\n",
              "b  2.0     2.0\n",
              "c  3.0     NaN\n",
              "d  NaN     NaN"
            ]
          },
          "execution_count": 51,
          "metadata": {
            "tags": []
          },
          "output_type": "execute_result"
        }
      ]
    },
    {
      "cell_type": "code",
      "metadata": {
        "colab": {
          "base_uri": "https://localhost:8080/",
          "height": 166
        },
        "id": "SSOh5rvhM2Vl",
        "outputId": "7d34a349-b2a4-42e4-c4a6-4a3aa7ce60b1"
      },
      "source": [
        "df1.loc['a', :] = 2\n",
        "df"
      ],
      "execution_count": null,
      "outputs": [
        {
          "data": {
            "text/html": [
              "<div>\n",
              "<style scoped>\n",
              "    .dataframe tbody tr th:only-of-type {\n",
              "        vertical-align: middle;\n",
              "    }\n",
              "\n",
              "    .dataframe tbody tr th {\n",
              "        vertical-align: top;\n",
              "    }\n",
              "\n",
              "    .dataframe thead th {\n",
              "        text-align: right;\n",
              "    }\n",
              "</style>\n",
              "<table border=\"1\" class=\"dataframe\">\n",
              "  <thead>\n",
              "    <tr style=\"text-align: right;\">\n",
              "      <th></th>\n",
              "      <th>one</th>\n",
              "      <th>two</th>\n",
              "      <th>three</th>\n",
              "      <th>flag</th>\n",
              "      <th>one_tr</th>\n",
              "    </tr>\n",
              "  </thead>\n",
              "  <tbody>\n",
              "    <tr>\n",
              "      <th>a</th>\n",
              "      <td>1.0</td>\n",
              "      <td>1</td>\n",
              "      <td>1.0</td>\n",
              "      <td>False</td>\n",
              "      <td>1.0</td>\n",
              "    </tr>\n",
              "    <tr>\n",
              "      <th>b</th>\n",
              "      <td>2.0</td>\n",
              "      <td>2</td>\n",
              "      <td>4.0</td>\n",
              "      <td>False</td>\n",
              "      <td>2.0</td>\n",
              "    </tr>\n",
              "    <tr>\n",
              "      <th>c</th>\n",
              "      <td>3.0</td>\n",
              "      <td>3</td>\n",
              "      <td>9.0</td>\n",
              "      <td>True</td>\n",
              "      <td>NaN</td>\n",
              "    </tr>\n",
              "    <tr>\n",
              "      <th>d</th>\n",
              "      <td>NaN</td>\n",
              "      <td>4</td>\n",
              "      <td>NaN</td>\n",
              "      <td>True</td>\n",
              "      <td>NaN</td>\n",
              "    </tr>\n",
              "  </tbody>\n",
              "</table>\n",
              "</div>"
            ],
            "text/plain": [
              "   one  two  three   flag  one_tr\n",
              "a  1.0    1    1.0  False     1.0\n",
              "b  2.0    2    4.0  False     2.0\n",
              "c  3.0    3    9.0   True     NaN\n",
              "d  NaN    4    NaN   True     NaN"
            ]
          },
          "execution_count": 52,
          "metadata": {
            "tags": []
          },
          "output_type": "execute_result"
        }
      ]
    },
    {
      "cell_type": "markdown",
      "metadata": {
        "id": "4IxsSDu-M2Vn"
      },
      "source": [
        "Можно объединять таблицы по вертикали и по горизонтали."
      ]
    },
    {
      "cell_type": "code",
      "metadata": {
        "colab": {
          "base_uri": "https://localhost:8080/",
          "height": 106
        },
        "id": "Hs4MuLuSM2Vo",
        "outputId": "f567e110-8fdc-4948-93d7-4187bbbd866b"
      },
      "source": [
        "df2=pd.DataFrame({'one':{'a':0,'b':1},'one_tr':{'b':2}})\n",
        "df2"
      ],
      "execution_count": null,
      "outputs": [
        {
          "data": {
            "text/html": [
              "<div>\n",
              "<style scoped>\n",
              "    .dataframe tbody tr th:only-of-type {\n",
              "        vertical-align: middle;\n",
              "    }\n",
              "\n",
              "    .dataframe tbody tr th {\n",
              "        vertical-align: top;\n",
              "    }\n",
              "\n",
              "    .dataframe thead th {\n",
              "        text-align: right;\n",
              "    }\n",
              "</style>\n",
              "<table border=\"1\" class=\"dataframe\">\n",
              "  <thead>\n",
              "    <tr style=\"text-align: right;\">\n",
              "      <th></th>\n",
              "      <th>one</th>\n",
              "      <th>one_tr</th>\n",
              "    </tr>\n",
              "  </thead>\n",
              "  <tbody>\n",
              "    <tr>\n",
              "      <th>a</th>\n",
              "      <td>0</td>\n",
              "      <td>NaN</td>\n",
              "    </tr>\n",
              "    <tr>\n",
              "      <th>b</th>\n",
              "      <td>1</td>\n",
              "      <td>2.0</td>\n",
              "    </tr>\n",
              "  </tbody>\n",
              "</table>\n",
              "</div>"
            ],
            "text/plain": [
              "   one  one_tr\n",
              "a    0     NaN\n",
              "b    1     2.0"
            ]
          },
          "execution_count": 53,
          "metadata": {
            "tags": []
          },
          "output_type": "execute_result"
        }
      ]
    },
    {
      "cell_type": "code",
      "metadata": {
        "colab": {
          "base_uri": "https://localhost:8080/",
          "height": 225
        },
        "id": "TC-PILlWM2Vp",
        "outputId": "d8239628-969d-47d4-fbae-a18d785fafc6"
      },
      "source": [
        "df3 = pd.concat([df,df2], axis=0)\n",
        "df3"
      ],
      "execution_count": null,
      "outputs": [
        {
          "data": {
            "text/html": [
              "<div>\n",
              "<style scoped>\n",
              "    .dataframe tbody tr th:only-of-type {\n",
              "        vertical-align: middle;\n",
              "    }\n",
              "\n",
              "    .dataframe tbody tr th {\n",
              "        vertical-align: top;\n",
              "    }\n",
              "\n",
              "    .dataframe thead th {\n",
              "        text-align: right;\n",
              "    }\n",
              "</style>\n",
              "<table border=\"1\" class=\"dataframe\">\n",
              "  <thead>\n",
              "    <tr style=\"text-align: right;\">\n",
              "      <th></th>\n",
              "      <th>one</th>\n",
              "      <th>two</th>\n",
              "      <th>three</th>\n",
              "      <th>flag</th>\n",
              "      <th>one_tr</th>\n",
              "    </tr>\n",
              "  </thead>\n",
              "  <tbody>\n",
              "    <tr>\n",
              "      <th>a</th>\n",
              "      <td>1.0</td>\n",
              "      <td>1.0</td>\n",
              "      <td>1.0</td>\n",
              "      <td>False</td>\n",
              "      <td>1.0</td>\n",
              "    </tr>\n",
              "    <tr>\n",
              "      <th>b</th>\n",
              "      <td>2.0</td>\n",
              "      <td>2.0</td>\n",
              "      <td>4.0</td>\n",
              "      <td>False</td>\n",
              "      <td>2.0</td>\n",
              "    </tr>\n",
              "    <tr>\n",
              "      <th>c</th>\n",
              "      <td>3.0</td>\n",
              "      <td>3.0</td>\n",
              "      <td>9.0</td>\n",
              "      <td>True</td>\n",
              "      <td>NaN</td>\n",
              "    </tr>\n",
              "    <tr>\n",
              "      <th>d</th>\n",
              "      <td>NaN</td>\n",
              "      <td>4.0</td>\n",
              "      <td>NaN</td>\n",
              "      <td>True</td>\n",
              "      <td>NaN</td>\n",
              "    </tr>\n",
              "    <tr>\n",
              "      <th>a</th>\n",
              "      <td>0.0</td>\n",
              "      <td>NaN</td>\n",
              "      <td>NaN</td>\n",
              "      <td>NaN</td>\n",
              "      <td>NaN</td>\n",
              "    </tr>\n",
              "    <tr>\n",
              "      <th>b</th>\n",
              "      <td>1.0</td>\n",
              "      <td>NaN</td>\n",
              "      <td>NaN</td>\n",
              "      <td>NaN</td>\n",
              "      <td>2.0</td>\n",
              "    </tr>\n",
              "  </tbody>\n",
              "</table>\n",
              "</div>"
            ],
            "text/plain": [
              "   one  two  three   flag  one_tr\n",
              "a  1.0  1.0    1.0  False     1.0\n",
              "b  2.0  2.0    4.0  False     2.0\n",
              "c  3.0  3.0    9.0   True     NaN\n",
              "d  NaN  4.0    NaN   True     NaN\n",
              "a  0.0  NaN    NaN    NaN     NaN\n",
              "b  1.0  NaN    NaN    NaN     2.0"
            ]
          },
          "execution_count": 54,
          "metadata": {
            "tags": []
          },
          "output_type": "execute_result"
        }
      ]
    },
    {
      "cell_type": "code",
      "metadata": {
        "colab": {
          "base_uri": "https://localhost:8080/",
          "height": 106
        },
        "id": "-7rtVLWRM2Vs",
        "outputId": "e3c64b6a-1b10-4d46-922f-f6e2358f8fd6"
      },
      "source": [
        "df3.loc['a']"
      ],
      "execution_count": null,
      "outputs": [
        {
          "data": {
            "text/html": [
              "<div>\n",
              "<style scoped>\n",
              "    .dataframe tbody tr th:only-of-type {\n",
              "        vertical-align: middle;\n",
              "    }\n",
              "\n",
              "    .dataframe tbody tr th {\n",
              "        vertical-align: top;\n",
              "    }\n",
              "\n",
              "    .dataframe thead th {\n",
              "        text-align: right;\n",
              "    }\n",
              "</style>\n",
              "<table border=\"1\" class=\"dataframe\">\n",
              "  <thead>\n",
              "    <tr style=\"text-align: right;\">\n",
              "      <th></th>\n",
              "      <th>one</th>\n",
              "      <th>two</th>\n",
              "      <th>three</th>\n",
              "      <th>flag</th>\n",
              "      <th>one_tr</th>\n",
              "    </tr>\n",
              "  </thead>\n",
              "  <tbody>\n",
              "    <tr>\n",
              "      <th>a</th>\n",
              "      <td>1.0</td>\n",
              "      <td>1.0</td>\n",
              "      <td>1.0</td>\n",
              "      <td>False</td>\n",
              "      <td>1.0</td>\n",
              "    </tr>\n",
              "    <tr>\n",
              "      <th>a</th>\n",
              "      <td>0.0</td>\n",
              "      <td>NaN</td>\n",
              "      <td>NaN</td>\n",
              "      <td>NaN</td>\n",
              "      <td>NaN</td>\n",
              "    </tr>\n",
              "  </tbody>\n",
              "</table>\n",
              "</div>"
            ],
            "text/plain": [
              "   one  two  three   flag  one_tr\n",
              "a  1.0  1.0    1.0  False     1.0\n",
              "a  0.0  NaN    NaN    NaN     NaN"
            ]
          },
          "execution_count": 55,
          "metadata": {
            "tags": []
          },
          "output_type": "execute_result"
        }
      ]
    },
    {
      "cell_type": "code",
      "metadata": {
        "colab": {
          "base_uri": "https://localhost:8080/",
          "height": 166
        },
        "id": "ZtkwBtvQM2Vv",
        "outputId": "0525e48a-4540-46c9-8d10-9cc5a43ceed3"
      },
      "source": [
        "df2=pd.DataFrame({'two':{'a':0,'b':1},'three':{'c':2,'d':3}})\n",
        "df2"
      ],
      "execution_count": null,
      "outputs": [
        {
          "data": {
            "text/html": [
              "<div>\n",
              "<style scoped>\n",
              "    .dataframe tbody tr th:only-of-type {\n",
              "        vertical-align: middle;\n",
              "    }\n",
              "\n",
              "    .dataframe tbody tr th {\n",
              "        vertical-align: top;\n",
              "    }\n",
              "\n",
              "    .dataframe thead th {\n",
              "        text-align: right;\n",
              "    }\n",
              "</style>\n",
              "<table border=\"1\" class=\"dataframe\">\n",
              "  <thead>\n",
              "    <tr style=\"text-align: right;\">\n",
              "      <th></th>\n",
              "      <th>two</th>\n",
              "      <th>three</th>\n",
              "    </tr>\n",
              "  </thead>\n",
              "  <tbody>\n",
              "    <tr>\n",
              "      <th>a</th>\n",
              "      <td>0.0</td>\n",
              "      <td>NaN</td>\n",
              "    </tr>\n",
              "    <tr>\n",
              "      <th>b</th>\n",
              "      <td>1.0</td>\n",
              "      <td>NaN</td>\n",
              "    </tr>\n",
              "    <tr>\n",
              "      <th>c</th>\n",
              "      <td>NaN</td>\n",
              "      <td>2.0</td>\n",
              "    </tr>\n",
              "    <tr>\n",
              "      <th>d</th>\n",
              "      <td>NaN</td>\n",
              "      <td>3.0</td>\n",
              "    </tr>\n",
              "  </tbody>\n",
              "</table>\n",
              "</div>"
            ],
            "text/plain": [
              "   two  three\n",
              "a  0.0    NaN\n",
              "b  1.0    NaN\n",
              "c  NaN    2.0\n",
              "d  NaN    3.0"
            ]
          },
          "execution_count": 56,
          "metadata": {
            "tags": []
          },
          "output_type": "execute_result"
        }
      ]
    },
    {
      "cell_type": "code",
      "metadata": {
        "colab": {
          "base_uri": "https://localhost:8080/",
          "height": 166
        },
        "id": "TXFBB3iZM2Vy",
        "outputId": "54ce6687-14c3-42eb-a7a5-e52865edc36b"
      },
      "source": [
        "pd.concat([df,df2],axis=1)"
      ],
      "execution_count": null,
      "outputs": [
        {
          "data": {
            "text/html": [
              "<div>\n",
              "<style scoped>\n",
              "    .dataframe tbody tr th:only-of-type {\n",
              "        vertical-align: middle;\n",
              "    }\n",
              "\n",
              "    .dataframe tbody tr th {\n",
              "        vertical-align: top;\n",
              "    }\n",
              "\n",
              "    .dataframe thead th {\n",
              "        text-align: right;\n",
              "    }\n",
              "</style>\n",
              "<table border=\"1\" class=\"dataframe\">\n",
              "  <thead>\n",
              "    <tr style=\"text-align: right;\">\n",
              "      <th></th>\n",
              "      <th>one</th>\n",
              "      <th>two</th>\n",
              "      <th>three</th>\n",
              "      <th>flag</th>\n",
              "      <th>one_tr</th>\n",
              "      <th>two</th>\n",
              "      <th>three</th>\n",
              "    </tr>\n",
              "  </thead>\n",
              "  <tbody>\n",
              "    <tr>\n",
              "      <th>a</th>\n",
              "      <td>1.0</td>\n",
              "      <td>1</td>\n",
              "      <td>1.0</td>\n",
              "      <td>False</td>\n",
              "      <td>1.0</td>\n",
              "      <td>0.0</td>\n",
              "      <td>NaN</td>\n",
              "    </tr>\n",
              "    <tr>\n",
              "      <th>b</th>\n",
              "      <td>2.0</td>\n",
              "      <td>2</td>\n",
              "      <td>4.0</td>\n",
              "      <td>False</td>\n",
              "      <td>2.0</td>\n",
              "      <td>1.0</td>\n",
              "      <td>NaN</td>\n",
              "    </tr>\n",
              "    <tr>\n",
              "      <th>c</th>\n",
              "      <td>3.0</td>\n",
              "      <td>3</td>\n",
              "      <td>9.0</td>\n",
              "      <td>True</td>\n",
              "      <td>NaN</td>\n",
              "      <td>NaN</td>\n",
              "      <td>2.0</td>\n",
              "    </tr>\n",
              "    <tr>\n",
              "      <th>d</th>\n",
              "      <td>NaN</td>\n",
              "      <td>4</td>\n",
              "      <td>NaN</td>\n",
              "      <td>True</td>\n",
              "      <td>NaN</td>\n",
              "      <td>NaN</td>\n",
              "      <td>3.0</td>\n",
              "    </tr>\n",
              "  </tbody>\n",
              "</table>\n",
              "</div>"
            ],
            "text/plain": [
              "   one  two  three   flag  one_tr  two  three\n",
              "a  1.0    1    1.0  False     1.0  0.0    NaN\n",
              "b  2.0    2    4.0  False     2.0  1.0    NaN\n",
              "c  3.0    3    9.0   True     NaN  NaN    2.0\n",
              "d  NaN    4    NaN   True     NaN  NaN    3.0"
            ]
          },
          "execution_count": 102,
          "metadata": {
            "tags": []
          },
          "output_type": "execute_result"
        }
      ]
    },
    {
      "cell_type": "markdown",
      "metadata": {
        "id": "fPsfD0Lpz-Sf"
      },
      "source": [
        "Можно загрузить файл с расширением `.csv`:"
      ]
    },
    {
      "cell_type": "code",
      "metadata": {
        "colab": {
          "base_uri": "https://localhost:8080/",
          "height": 462
        },
        "id": "k4Xt_MVqz-z7",
        "outputId": "b728e2ce-2ca9-4b2a-8df0-dda869fd2766"
      },
      "source": [
        "path_to_file = 'https://gist.githubusercontent.com/bigsnarfdude/515849391ad37fe593997fe0db98afaa/raw/f663366d17b7d05de61a145bbce7b2b961b3b07f/weather.csv'\n",
        "weather = pd.read_csv(path_to_file)\n",
        "\n",
        "weather"
      ],
      "execution_count": null,
      "outputs": [
        {
          "data": {
            "text/html": [
              "<div>\n",
              "<style scoped>\n",
              "    .dataframe tbody tr th:only-of-type {\n",
              "        vertical-align: middle;\n",
              "    }\n",
              "\n",
              "    .dataframe tbody tr th {\n",
              "        vertical-align: top;\n",
              "    }\n",
              "\n",
              "    .dataframe thead th {\n",
              "        text-align: right;\n",
              "    }\n",
              "</style>\n",
              "<table border=\"1\" class=\"dataframe\">\n",
              "  <thead>\n",
              "    <tr style=\"text-align: right;\">\n",
              "      <th></th>\n",
              "      <th>outlook</th>\n",
              "      <th>temperature</th>\n",
              "      <th>humidity</th>\n",
              "      <th>windy</th>\n",
              "      <th>play</th>\n",
              "    </tr>\n",
              "  </thead>\n",
              "  <tbody>\n",
              "    <tr>\n",
              "      <th>0</th>\n",
              "      <td>overcast</td>\n",
              "      <td>hot</td>\n",
              "      <td>high</td>\n",
              "      <td>False</td>\n",
              "      <td>yes</td>\n",
              "    </tr>\n",
              "    <tr>\n",
              "      <th>1</th>\n",
              "      <td>overcast</td>\n",
              "      <td>cool</td>\n",
              "      <td>normal</td>\n",
              "      <td>True</td>\n",
              "      <td>yes</td>\n",
              "    </tr>\n",
              "    <tr>\n",
              "      <th>2</th>\n",
              "      <td>overcast</td>\n",
              "      <td>mild</td>\n",
              "      <td>high</td>\n",
              "      <td>True</td>\n",
              "      <td>yes</td>\n",
              "    </tr>\n",
              "    <tr>\n",
              "      <th>3</th>\n",
              "      <td>overcast</td>\n",
              "      <td>hot</td>\n",
              "      <td>normal</td>\n",
              "      <td>False</td>\n",
              "      <td>yes</td>\n",
              "    </tr>\n",
              "    <tr>\n",
              "      <th>4</th>\n",
              "      <td>rainy</td>\n",
              "      <td>mild</td>\n",
              "      <td>high</td>\n",
              "      <td>False</td>\n",
              "      <td>yes</td>\n",
              "    </tr>\n",
              "    <tr>\n",
              "      <th>5</th>\n",
              "      <td>rainy</td>\n",
              "      <td>cool</td>\n",
              "      <td>normal</td>\n",
              "      <td>False</td>\n",
              "      <td>yes</td>\n",
              "    </tr>\n",
              "    <tr>\n",
              "      <th>6</th>\n",
              "      <td>rainy</td>\n",
              "      <td>cool</td>\n",
              "      <td>normal</td>\n",
              "      <td>True</td>\n",
              "      <td>no</td>\n",
              "    </tr>\n",
              "    <tr>\n",
              "      <th>7</th>\n",
              "      <td>rainy</td>\n",
              "      <td>mild</td>\n",
              "      <td>normal</td>\n",
              "      <td>False</td>\n",
              "      <td>yes</td>\n",
              "    </tr>\n",
              "    <tr>\n",
              "      <th>8</th>\n",
              "      <td>rainy</td>\n",
              "      <td>mild</td>\n",
              "      <td>high</td>\n",
              "      <td>True</td>\n",
              "      <td>no</td>\n",
              "    </tr>\n",
              "    <tr>\n",
              "      <th>9</th>\n",
              "      <td>sunny</td>\n",
              "      <td>hot</td>\n",
              "      <td>high</td>\n",
              "      <td>False</td>\n",
              "      <td>no</td>\n",
              "    </tr>\n",
              "    <tr>\n",
              "      <th>10</th>\n",
              "      <td>sunny</td>\n",
              "      <td>hot</td>\n",
              "      <td>high</td>\n",
              "      <td>True</td>\n",
              "      <td>no</td>\n",
              "    </tr>\n",
              "    <tr>\n",
              "      <th>11</th>\n",
              "      <td>sunny</td>\n",
              "      <td>mild</td>\n",
              "      <td>high</td>\n",
              "      <td>False</td>\n",
              "      <td>no</td>\n",
              "    </tr>\n",
              "    <tr>\n",
              "      <th>12</th>\n",
              "      <td>sunny</td>\n",
              "      <td>cool</td>\n",
              "      <td>normal</td>\n",
              "      <td>False</td>\n",
              "      <td>yes</td>\n",
              "    </tr>\n",
              "    <tr>\n",
              "      <th>13</th>\n",
              "      <td>sunny</td>\n",
              "      <td>mild</td>\n",
              "      <td>normal</td>\n",
              "      <td>True</td>\n",
              "      <td>yes</td>\n",
              "    </tr>\n",
              "  </tbody>\n",
              "</table>\n",
              "</div>"
            ],
            "text/plain": [
              "     outlook temperature humidity  windy play\n",
              "0   overcast         hot     high  False  yes\n",
              "1   overcast        cool   normal   True  yes\n",
              "2   overcast        mild     high   True  yes\n",
              "3   overcast         hot   normal  False  yes\n",
              "4      rainy        mild     high  False  yes\n",
              "5      rainy        cool   normal  False  yes\n",
              "6      rainy        cool   normal   True   no\n",
              "7      rainy        mild   normal  False  yes\n",
              "8      rainy        mild     high   True   no\n",
              "9      sunny         hot     high  False   no\n",
              "10     sunny         hot     high   True   no\n",
              "11     sunny        mild     high  False   no\n",
              "12     sunny        cool   normal  False  yes\n",
              "13     sunny        mild   normal   True  yes"
            ]
          },
          "execution_count": 57,
          "metadata": {
            "tags": []
          },
          "output_type": "execute_result"
        }
      ]
    },
    {
      "cell_type": "code",
      "metadata": {
        "colab": {
          "base_uri": "https://localhost:8080/",
          "height": 218
        },
        "id": "VF7dWfKs3gNh",
        "outputId": "75c5f663-7a6f-4c68-f1c7-3745295d31b8"
      },
      "source": [
        "weather.info()"
      ],
      "execution_count": null,
      "outputs": [
        {
          "name": "stdout",
          "output_type": "stream",
          "text": [
            "<class 'pandas.core.frame.DataFrame'>\n",
            "RangeIndex: 14 entries, 0 to 13\n",
            "Data columns (total 5 columns):\n",
            " #   Column       Non-Null Count  Dtype \n",
            "---  ------       --------------  ----- \n",
            " 0   outlook      14 non-null     object\n",
            " 1   temperature  14 non-null     object\n",
            " 2   humidity     14 non-null     object\n",
            " 3   windy        14 non-null     bool  \n",
            " 4   play         14 non-null     object\n",
            "dtypes: bool(1), object(4)\n",
            "memory usage: 590.0+ bytes\n"
          ]
        }
      ]
    },
    {
      "cell_type": "markdown",
      "metadata": {
        "id": "5TsOxBiT2bxs"
      },
      "source": [
        "**Задание:** создайте новую таблицу, в которой останутся только солнечные дни из предыдущей"
      ]
    },
    {
      "cell_type": "code",
      "metadata": {
        "colab": {
          "base_uri": "https://localhost:8080/",
          "height": 195
        },
        "id": "UDtmZ-uo2bEG",
        "outputId": "c0a510de-5b33-49ec-a7a6-2bb9c6cb34d2"
      },
      "source": [
        "df_new = weather[weather['outlook'] == 'sunny']\n",
        "df_new"
      ],
      "execution_count": null,
      "outputs": [
        {
          "data": {
            "text/html": [
              "<div>\n",
              "<style scoped>\n",
              "    .dataframe tbody tr th:only-of-type {\n",
              "        vertical-align: middle;\n",
              "    }\n",
              "\n",
              "    .dataframe tbody tr th {\n",
              "        vertical-align: top;\n",
              "    }\n",
              "\n",
              "    .dataframe thead th {\n",
              "        text-align: right;\n",
              "    }\n",
              "</style>\n",
              "<table border=\"1\" class=\"dataframe\">\n",
              "  <thead>\n",
              "    <tr style=\"text-align: right;\">\n",
              "      <th></th>\n",
              "      <th>outlook</th>\n",
              "      <th>temperature</th>\n",
              "      <th>humidity</th>\n",
              "      <th>windy</th>\n",
              "      <th>play</th>\n",
              "    </tr>\n",
              "  </thead>\n",
              "  <tbody>\n",
              "    <tr>\n",
              "      <th>9</th>\n",
              "      <td>sunny</td>\n",
              "      <td>hot</td>\n",
              "      <td>high</td>\n",
              "      <td>False</td>\n",
              "      <td>no</td>\n",
              "    </tr>\n",
              "    <tr>\n",
              "      <th>10</th>\n",
              "      <td>sunny</td>\n",
              "      <td>hot</td>\n",
              "      <td>high</td>\n",
              "      <td>True</td>\n",
              "      <td>no</td>\n",
              "    </tr>\n",
              "    <tr>\n",
              "      <th>11</th>\n",
              "      <td>sunny</td>\n",
              "      <td>mild</td>\n",
              "      <td>high</td>\n",
              "      <td>False</td>\n",
              "      <td>no</td>\n",
              "    </tr>\n",
              "    <tr>\n",
              "      <th>12</th>\n",
              "      <td>sunny</td>\n",
              "      <td>cool</td>\n",
              "      <td>normal</td>\n",
              "      <td>False</td>\n",
              "      <td>yes</td>\n",
              "    </tr>\n",
              "    <tr>\n",
              "      <th>13</th>\n",
              "      <td>sunny</td>\n",
              "      <td>mild</td>\n",
              "      <td>normal</td>\n",
              "      <td>True</td>\n",
              "      <td>yes</td>\n",
              "    </tr>\n",
              "  </tbody>\n",
              "</table>\n",
              "</div>"
            ],
            "text/plain": [
              "   outlook temperature humidity  windy play\n",
              "9    sunny         hot     high  False   no\n",
              "10   sunny         hot     high   True   no\n",
              "11   sunny        mild     high  False   no\n",
              "12   sunny        cool   normal  False  yes\n",
              "13   sunny        mild   normal   True  yes"
            ]
          },
          "execution_count": 64,
          "metadata": {
            "tags": []
          },
          "output_type": "execute_result"
        }
      ]
    },
    {
      "cell_type": "markdown",
      "metadata": {
        "id": "ZJC_saqsVBiy"
      },
      "source": [
        "# ответ"
      ]
    },
    {
      "cell_type": "code",
      "metadata": {
        "colab": {
          "base_uri": "https://localhost:8080/",
          "height": 195
        },
        "id": "u31UCZ06VFGE",
        "outputId": "eb5fbcc1-2c0a-42c2-86f7-0134b16b3059"
      },
      "source": [
        "weather[weather.outlook == 'sunny']"
      ],
      "execution_count": null,
      "outputs": [
        {
          "data": {
            "text/html": [
              "<div>\n",
              "<style scoped>\n",
              "    .dataframe tbody tr th:only-of-type {\n",
              "        vertical-align: middle;\n",
              "    }\n",
              "\n",
              "    .dataframe tbody tr th {\n",
              "        vertical-align: top;\n",
              "    }\n",
              "\n",
              "    .dataframe thead th {\n",
              "        text-align: right;\n",
              "    }\n",
              "</style>\n",
              "<table border=\"1\" class=\"dataframe\">\n",
              "  <thead>\n",
              "    <tr style=\"text-align: right;\">\n",
              "      <th></th>\n",
              "      <th>outlook</th>\n",
              "      <th>temperature</th>\n",
              "      <th>humidity</th>\n",
              "      <th>windy</th>\n",
              "      <th>play</th>\n",
              "    </tr>\n",
              "  </thead>\n",
              "  <tbody>\n",
              "    <tr>\n",
              "      <th>9</th>\n",
              "      <td>sunny</td>\n",
              "      <td>hot</td>\n",
              "      <td>high</td>\n",
              "      <td>False</td>\n",
              "      <td>no</td>\n",
              "    </tr>\n",
              "    <tr>\n",
              "      <th>10</th>\n",
              "      <td>sunny</td>\n",
              "      <td>hot</td>\n",
              "      <td>high</td>\n",
              "      <td>True</td>\n",
              "      <td>no</td>\n",
              "    </tr>\n",
              "    <tr>\n",
              "      <th>11</th>\n",
              "      <td>sunny</td>\n",
              "      <td>mild</td>\n",
              "      <td>high</td>\n",
              "      <td>False</td>\n",
              "      <td>no</td>\n",
              "    </tr>\n",
              "    <tr>\n",
              "      <th>12</th>\n",
              "      <td>sunny</td>\n",
              "      <td>cool</td>\n",
              "      <td>normal</td>\n",
              "      <td>False</td>\n",
              "      <td>yes</td>\n",
              "    </tr>\n",
              "    <tr>\n",
              "      <th>13</th>\n",
              "      <td>sunny</td>\n",
              "      <td>mild</td>\n",
              "      <td>normal</td>\n",
              "      <td>True</td>\n",
              "      <td>yes</td>\n",
              "    </tr>\n",
              "  </tbody>\n",
              "</table>\n",
              "</div>"
            ],
            "text/plain": [
              "   outlook temperature humidity  windy play\n",
              "9    sunny         hot     high  False   no\n",
              "10   sunny         hot     high   True   no\n",
              "11   sunny        mild     high  False   no\n",
              "12   sunny        cool   normal  False  yes\n",
              "13   sunny        mild   normal   True  yes"
            ]
          },
          "execution_count": 63,
          "metadata": {
            "tags": []
          },
          "output_type": "execute_result"
        }
      ]
    },
    {
      "cell_type": "markdown",
      "metadata": {
        "id": "V8hlFVuB0nhT"
      },
      "source": [
        "# **Задание:**\n",
        " посчитайте вероятность того, что погода будет ветренной, при условии, что:\n",
        "1. Температура низкая\n",
        "2. Температура средняя\n",
        "3. Температура высокая"
      ]
    },
    {
      "cell_type": "code",
      "metadata": {
        "id": "Xu9m_1uk0n4Y"
      },
      "source": [
        "# YOUR CODE HERE"
      ],
      "execution_count": null,
      "outputs": []
    },
    {
      "cell_type": "markdown",
      "metadata": {
        "id": "9enRjS9UVoiG"
      },
      "source": [
        "# ответ\n"
      ]
    },
    {
      "cell_type": "code",
      "metadata": {
        "colab": {
          "base_uri": "https://localhost:8080/",
          "height": 121
        },
        "id": "Wz3DnTaTVszW",
        "outputId": "42de7ab4-b808-4831-cced-69307f28ee6a"
      },
      "source": [
        "d  = weather.windy==True\n",
        "a = weather.temperature == 'cool'\n",
        "b = weather.temperature == 'mild'\n",
        "c = weather.temperature == 'hot'\n",
        "\n",
        "\n",
        "\n",
        "\n",
        "print(len( weather[d*a])/len(weather[a]))\n",
        "\n",
        "print(len( weather[d*b])/len(weather[b]))\n",
        "\n",
        "print(len( weather[d*c])/len(weather[c]))"
      ],
      "execution_count": null,
      "outputs": [
        {
          "name": "stdout",
          "output_type": "stream",
          "text": [
            "0.5\n",
            "0.5\n",
            "0.25\n"
          ]
        },
        {
          "name": "stderr",
          "output_type": "stream",
          "text": [
            "/usr/local/lib/python3.6/dist-packages/pandas/core/computation/expressions.py:178: UserWarning: evaluating in Python space because the '*' operator is not supported by numexpr for the bool dtype, use '&' instead\n",
            "  f\"evaluating in Python space because the {repr(op_str)} \"\n"
          ]
        }
      ]
    },
    {
      "cell_type": "markdown",
      "metadata": {
        "id": "uE-wo_GHM2Vz"
      },
      "source": [
        "\n",
        "# Создадим таблицу из массива случайных чисел."
      ]
    },
    {
      "cell_type": "code",
      "metadata": {
        "colab": {
          "base_uri": "https://localhost:8080/",
          "height": 343
        },
        "id": "d1XGpD66M2V0",
        "outputId": "d04270c9-d32f-4f88-a9af-a862d2a53d26"
      },
      "source": [
        "df=pd.DataFrame(np.random.randn(10,4),\n",
        "                columns=['A','B','C','D'])\n",
        "df"
      ],
      "execution_count": null,
      "outputs": [
        {
          "data": {
            "text/html": [
              "<div>\n",
              "<style scoped>\n",
              "    .dataframe tbody tr th:only-of-type {\n",
              "        vertical-align: middle;\n",
              "    }\n",
              "\n",
              "    .dataframe tbody tr th {\n",
              "        vertical-align: top;\n",
              "    }\n",
              "\n",
              "    .dataframe thead th {\n",
              "        text-align: right;\n",
              "    }\n",
              "</style>\n",
              "<table border=\"1\" class=\"dataframe\">\n",
              "  <thead>\n",
              "    <tr style=\"text-align: right;\">\n",
              "      <th></th>\n",
              "      <th>A</th>\n",
              "      <th>B</th>\n",
              "      <th>C</th>\n",
              "      <th>D</th>\n",
              "    </tr>\n",
              "  </thead>\n",
              "  <tbody>\n",
              "    <tr>\n",
              "      <th>0</th>\n",
              "      <td>-1.365757</td>\n",
              "      <td>0.166776</td>\n",
              "      <td>1.245281</td>\n",
              "      <td>2.245667</td>\n",
              "    </tr>\n",
              "    <tr>\n",
              "      <th>1</th>\n",
              "      <td>-1.947380</td>\n",
              "      <td>-1.028626</td>\n",
              "      <td>-0.876797</td>\n",
              "      <td>-0.537015</td>\n",
              "    </tr>\n",
              "    <tr>\n",
              "      <th>2</th>\n",
              "      <td>-0.842865</td>\n",
              "      <td>-0.698408</td>\n",
              "      <td>-1.699498</td>\n",
              "      <td>0.028327</td>\n",
              "    </tr>\n",
              "    <tr>\n",
              "      <th>3</th>\n",
              "      <td>-0.798442</td>\n",
              "      <td>-0.654934</td>\n",
              "      <td>-0.074141</td>\n",
              "      <td>0.162620</td>\n",
              "    </tr>\n",
              "    <tr>\n",
              "      <th>4</th>\n",
              "      <td>0.178860</td>\n",
              "      <td>-1.250828</td>\n",
              "      <td>-0.222141</td>\n",
              "      <td>-2.020656</td>\n",
              "    </tr>\n",
              "    <tr>\n",
              "      <th>5</th>\n",
              "      <td>-1.192994</td>\n",
              "      <td>0.599316</td>\n",
              "      <td>-1.516119</td>\n",
              "      <td>0.078504</td>\n",
              "    </tr>\n",
              "    <tr>\n",
              "      <th>6</th>\n",
              "      <td>2.786770</td>\n",
              "      <td>0.002498</td>\n",
              "      <td>-0.637580</td>\n",
              "      <td>-0.749934</td>\n",
              "    </tr>\n",
              "    <tr>\n",
              "      <th>7</th>\n",
              "      <td>-0.039702</td>\n",
              "      <td>-0.179725</td>\n",
              "      <td>-1.174513</td>\n",
              "      <td>-0.637183</td>\n",
              "    </tr>\n",
              "    <tr>\n",
              "      <th>8</th>\n",
              "      <td>0.132785</td>\n",
              "      <td>-0.114371</td>\n",
              "      <td>1.097083</td>\n",
              "      <td>-0.084387</td>\n",
              "    </tr>\n",
              "    <tr>\n",
              "      <th>9</th>\n",
              "      <td>0.081789</td>\n",
              "      <td>0.232711</td>\n",
              "      <td>1.441983</td>\n",
              "      <td>0.761819</td>\n",
              "    </tr>\n",
              "  </tbody>\n",
              "</table>\n",
              "</div>"
            ],
            "text/plain": [
              "          A         B         C         D\n",
              "0 -1.365757  0.166776  1.245281  2.245667\n",
              "1 -1.947380 -1.028626 -0.876797 -0.537015\n",
              "2 -0.842865 -0.698408 -1.699498  0.028327\n",
              "3 -0.798442 -0.654934 -0.074141  0.162620\n",
              "4  0.178860 -1.250828 -0.222141 -2.020656\n",
              "5 -1.192994  0.599316 -1.516119  0.078504\n",
              "6  2.786770  0.002498 -0.637580 -0.749934\n",
              "7 -0.039702 -0.179725 -1.174513 -0.637183\n",
              "8  0.132785 -0.114371  1.097083 -0.084387\n",
              "9  0.081789  0.232711  1.441983  0.761819"
            ]
          },
          "execution_count": 119,
          "metadata": {
            "tags": []
          },
          "output_type": "execute_result"
        }
      ]
    },
    {
      "cell_type": "code",
      "metadata": {
        "colab": {
          "base_uri": "https://localhost:8080/",
          "height": 343
        },
        "id": "IaZvs1QNM2V1",
        "outputId": "82b05547-cbb6-4452-f92d-8537f17d97dd"
      },
      "source": [
        "df2=pd.DataFrame(np.random.randn(7,3),columns=['A','B','C'])\n",
        "df+df2"
      ],
      "execution_count": null,
      "outputs": [
        {
          "data": {
            "text/html": [
              "<div>\n",
              "<style scoped>\n",
              "    .dataframe tbody tr th:only-of-type {\n",
              "        vertical-align: middle;\n",
              "    }\n",
              "\n",
              "    .dataframe tbody tr th {\n",
              "        vertical-align: top;\n",
              "    }\n",
              "\n",
              "    .dataframe thead th {\n",
              "        text-align: right;\n",
              "    }\n",
              "</style>\n",
              "<table border=\"1\" class=\"dataframe\">\n",
              "  <thead>\n",
              "    <tr style=\"text-align: right;\">\n",
              "      <th></th>\n",
              "      <th>A</th>\n",
              "      <th>B</th>\n",
              "      <th>C</th>\n",
              "      <th>D</th>\n",
              "    </tr>\n",
              "  </thead>\n",
              "  <tbody>\n",
              "    <tr>\n",
              "      <th>0</th>\n",
              "      <td>-2.273236</td>\n",
              "      <td>1.548149</td>\n",
              "      <td>4.048129</td>\n",
              "      <td>NaN</td>\n",
              "    </tr>\n",
              "    <tr>\n",
              "      <th>1</th>\n",
              "      <td>-1.501784</td>\n",
              "      <td>-1.790077</td>\n",
              "      <td>-0.112229</td>\n",
              "      <td>NaN</td>\n",
              "    </tr>\n",
              "    <tr>\n",
              "      <th>2</th>\n",
              "      <td>-1.850350</td>\n",
              "      <td>-0.949256</td>\n",
              "      <td>-2.315275</td>\n",
              "      <td>NaN</td>\n",
              "    </tr>\n",
              "    <tr>\n",
              "      <th>3</th>\n",
              "      <td>-0.442794</td>\n",
              "      <td>-2.286746</td>\n",
              "      <td>0.061018</td>\n",
              "      <td>NaN</td>\n",
              "    </tr>\n",
              "    <tr>\n",
              "      <th>4</th>\n",
              "      <td>1.661436</td>\n",
              "      <td>-3.884183</td>\n",
              "      <td>1.252139</td>\n",
              "      <td>NaN</td>\n",
              "    </tr>\n",
              "    <tr>\n",
              "      <th>5</th>\n",
              "      <td>-1.010928</td>\n",
              "      <td>0.558776</td>\n",
              "      <td>-2.969977</td>\n",
              "      <td>NaN</td>\n",
              "    </tr>\n",
              "    <tr>\n",
              "      <th>6</th>\n",
              "      <td>2.477933</td>\n",
              "      <td>-0.988038</td>\n",
              "      <td>-2.129796</td>\n",
              "      <td>NaN</td>\n",
              "    </tr>\n",
              "    <tr>\n",
              "      <th>7</th>\n",
              "      <td>NaN</td>\n",
              "      <td>NaN</td>\n",
              "      <td>NaN</td>\n",
              "      <td>NaN</td>\n",
              "    </tr>\n",
              "    <tr>\n",
              "      <th>8</th>\n",
              "      <td>NaN</td>\n",
              "      <td>NaN</td>\n",
              "      <td>NaN</td>\n",
              "      <td>NaN</td>\n",
              "    </tr>\n",
              "    <tr>\n",
              "      <th>9</th>\n",
              "      <td>NaN</td>\n",
              "      <td>NaN</td>\n",
              "      <td>NaN</td>\n",
              "      <td>NaN</td>\n",
              "    </tr>\n",
              "  </tbody>\n",
              "</table>\n",
              "</div>"
            ],
            "text/plain": [
              "          A         B         C   D\n",
              "0 -2.273236  1.548149  4.048129 NaN\n",
              "1 -1.501784 -1.790077 -0.112229 NaN\n",
              "2 -1.850350 -0.949256 -2.315275 NaN\n",
              "3 -0.442794 -2.286746  0.061018 NaN\n",
              "4  1.661436 -3.884183  1.252139 NaN\n",
              "5 -1.010928  0.558776 -2.969977 NaN\n",
              "6  2.477933 -0.988038 -2.129796 NaN\n",
              "7       NaN       NaN       NaN NaN\n",
              "8       NaN       NaN       NaN NaN\n",
              "9       NaN       NaN       NaN NaN"
            ]
          },
          "execution_count": 120,
          "metadata": {
            "tags": []
          },
          "output_type": "execute_result"
        }
      ]
    },
    {
      "cell_type": "code",
      "metadata": {
        "colab": {
          "base_uri": "https://localhost:8080/",
          "height": 343
        },
        "id": "QpTX2KqQM2V2",
        "outputId": "10368498-c83f-4cc9-c38d-a3ff3ca53d5f"
      },
      "source": [
        "2*df+3"
      ],
      "execution_count": null,
      "outputs": [
        {
          "data": {
            "text/html": [
              "<div>\n",
              "<style scoped>\n",
              "    .dataframe tbody tr th:only-of-type {\n",
              "        vertical-align: middle;\n",
              "    }\n",
              "\n",
              "    .dataframe tbody tr th {\n",
              "        vertical-align: top;\n",
              "    }\n",
              "\n",
              "    .dataframe thead th {\n",
              "        text-align: right;\n",
              "    }\n",
              "</style>\n",
              "<table border=\"1\" class=\"dataframe\">\n",
              "  <thead>\n",
              "    <tr style=\"text-align: right;\">\n",
              "      <th></th>\n",
              "      <th>A</th>\n",
              "      <th>B</th>\n",
              "      <th>C</th>\n",
              "      <th>D</th>\n",
              "    </tr>\n",
              "  </thead>\n",
              "  <tbody>\n",
              "    <tr>\n",
              "      <th>0</th>\n",
              "      <td>0.268485</td>\n",
              "      <td>3.333552</td>\n",
              "      <td>5.490563</td>\n",
              "      <td>7.491333</td>\n",
              "    </tr>\n",
              "    <tr>\n",
              "      <th>1</th>\n",
              "      <td>-0.894759</td>\n",
              "      <td>0.942748</td>\n",
              "      <td>1.246406</td>\n",
              "      <td>1.925971</td>\n",
              "    </tr>\n",
              "    <tr>\n",
              "      <th>2</th>\n",
              "      <td>1.314271</td>\n",
              "      <td>1.603185</td>\n",
              "      <td>-0.398997</td>\n",
              "      <td>3.056653</td>\n",
              "    </tr>\n",
              "    <tr>\n",
              "      <th>3</th>\n",
              "      <td>1.403117</td>\n",
              "      <td>1.690132</td>\n",
              "      <td>2.851717</td>\n",
              "      <td>3.325241</td>\n",
              "    </tr>\n",
              "    <tr>\n",
              "      <th>4</th>\n",
              "      <td>3.357720</td>\n",
              "      <td>0.498343</td>\n",
              "      <td>2.555717</td>\n",
              "      <td>-1.041313</td>\n",
              "    </tr>\n",
              "    <tr>\n",
              "      <th>5</th>\n",
              "      <td>0.614011</td>\n",
              "      <td>4.198632</td>\n",
              "      <td>-0.032238</td>\n",
              "      <td>3.157009</td>\n",
              "    </tr>\n",
              "    <tr>\n",
              "      <th>6</th>\n",
              "      <td>8.573541</td>\n",
              "      <td>3.004996</td>\n",
              "      <td>1.724839</td>\n",
              "      <td>1.500132</td>\n",
              "    </tr>\n",
              "    <tr>\n",
              "      <th>7</th>\n",
              "      <td>2.920595</td>\n",
              "      <td>2.640549</td>\n",
              "      <td>0.650974</td>\n",
              "      <td>1.725635</td>\n",
              "    </tr>\n",
              "    <tr>\n",
              "      <th>8</th>\n",
              "      <td>3.265571</td>\n",
              "      <td>2.771259</td>\n",
              "      <td>5.194167</td>\n",
              "      <td>2.831226</td>\n",
              "    </tr>\n",
              "    <tr>\n",
              "      <th>9</th>\n",
              "      <td>3.163578</td>\n",
              "      <td>3.465422</td>\n",
              "      <td>5.883967</td>\n",
              "      <td>4.523638</td>\n",
              "    </tr>\n",
              "  </tbody>\n",
              "</table>\n",
              "</div>"
            ],
            "text/plain": [
              "          A         B         C         D\n",
              "0  0.268485  3.333552  5.490563  7.491333\n",
              "1 -0.894759  0.942748  1.246406  1.925971\n",
              "2  1.314271  1.603185 -0.398997  3.056653\n",
              "3  1.403117  1.690132  2.851717  3.325241\n",
              "4  3.357720  0.498343  2.555717 -1.041313\n",
              "5  0.614011  4.198632 -0.032238  3.157009\n",
              "6  8.573541  3.004996  1.724839  1.500132\n",
              "7  2.920595  2.640549  0.650974  1.725635\n",
              "8  3.265571  2.771259  5.194167  2.831226\n",
              "9  3.163578  3.465422  5.883967  4.523638"
            ]
          },
          "execution_count": 121,
          "metadata": {
            "tags": []
          },
          "output_type": "execute_result"
        }
      ]
    },
    {
      "cell_type": "code",
      "metadata": {
        "colab": {
          "base_uri": "https://localhost:8080/",
          "height": 343
        },
        "id": "hg8QBQzKM2V9",
        "outputId": "f6b040c8-dd47-4a40-9a8b-d3dd072b1562"
      },
      "source": [
        "np.sin(df)"
      ],
      "execution_count": null,
      "outputs": [
        {
          "data": {
            "text/html": [
              "<div>\n",
              "<style scoped>\n",
              "    .dataframe tbody tr th:only-of-type {\n",
              "        vertical-align: middle;\n",
              "    }\n",
              "\n",
              "    .dataframe tbody tr th {\n",
              "        vertical-align: top;\n",
              "    }\n",
              "\n",
              "    .dataframe thead th {\n",
              "        text-align: right;\n",
              "    }\n",
              "</style>\n",
              "<table border=\"1\" class=\"dataframe\">\n",
              "  <thead>\n",
              "    <tr style=\"text-align: right;\">\n",
              "      <th></th>\n",
              "      <th>A</th>\n",
              "      <th>B</th>\n",
              "      <th>C</th>\n",
              "      <th>D</th>\n",
              "    </tr>\n",
              "  </thead>\n",
              "  <tbody>\n",
              "    <tr>\n",
              "      <th>0</th>\n",
              "      <td>-0.979053</td>\n",
              "      <td>0.166004</td>\n",
              "      <td>0.947486</td>\n",
              "      <td>0.780788</td>\n",
              "    </tr>\n",
              "    <tr>\n",
              "      <th>1</th>\n",
              "      <td>-0.929927</td>\n",
              "      <td>-0.856591</td>\n",
              "      <td>-0.768694</td>\n",
              "      <td>-0.511573</td>\n",
              "    </tr>\n",
              "    <tr>\n",
              "      <th>2</th>\n",
              "      <td>-0.746552</td>\n",
              "      <td>-0.642999</td>\n",
              "      <td>-0.991729</td>\n",
              "      <td>0.028323</td>\n",
              "    </tr>\n",
              "    <tr>\n",
              "      <th>3</th>\n",
              "      <td>-0.716270</td>\n",
              "      <td>-0.609107</td>\n",
              "      <td>-0.074074</td>\n",
              "      <td>0.161904</td>\n",
              "    </tr>\n",
              "    <tr>\n",
              "      <th>4</th>\n",
              "      <td>0.177908</td>\n",
              "      <td>-0.949245</td>\n",
              "      <td>-0.220319</td>\n",
              "      <td>-0.900508</td>\n",
              "    </tr>\n",
              "    <tr>\n",
              "      <th>5</th>\n",
              "      <td>-0.929478</td>\n",
              "      <td>0.564078</td>\n",
              "      <td>-0.998506</td>\n",
              "      <td>0.078424</td>\n",
              "    </tr>\n",
              "    <tr>\n",
              "      <th>6</th>\n",
              "      <td>0.347424</td>\n",
              "      <td>0.002498</td>\n",
              "      <td>-0.595253</td>\n",
              "      <td>-0.681590</td>\n",
              "    </tr>\n",
              "    <tr>\n",
              "      <th>7</th>\n",
              "      <td>-0.039692</td>\n",
              "      <td>-0.178759</td>\n",
              "      <td>-0.922502</td>\n",
              "      <td>-0.594933</td>\n",
              "    </tr>\n",
              "    <tr>\n",
              "      <th>8</th>\n",
              "      <td>0.132396</td>\n",
              "      <td>-0.114122</td>\n",
              "      <td>0.889881</td>\n",
              "      <td>-0.084287</td>\n",
              "    </tr>\n",
              "    <tr>\n",
              "      <th>9</th>\n",
              "      <td>0.081698</td>\n",
              "      <td>0.230616</td>\n",
              "      <td>0.991715</td>\n",
              "      <td>0.690239</td>\n",
              "    </tr>\n",
              "  </tbody>\n",
              "</table>\n",
              "</div>"
            ],
            "text/plain": [
              "          A         B         C         D\n",
              "0 -0.979053  0.166004  0.947486  0.780788\n",
              "1 -0.929927 -0.856591 -0.768694 -0.511573\n",
              "2 -0.746552 -0.642999 -0.991729  0.028323\n",
              "3 -0.716270 -0.609107 -0.074074  0.161904\n",
              "4  0.177908 -0.949245 -0.220319 -0.900508\n",
              "5 -0.929478  0.564078 -0.998506  0.078424\n",
              "6  0.347424  0.002498 -0.595253 -0.681590\n",
              "7 -0.039692 -0.178759 -0.922502 -0.594933\n",
              "8  0.132396 -0.114122  0.889881 -0.084287\n",
              "9  0.081698  0.230616  0.991715  0.690239"
            ]
          },
          "execution_count": 122,
          "metadata": {
            "tags": []
          },
          "output_type": "execute_result"
        }
      ]
    },
    {
      "cell_type": "code",
      "metadata": {
        "colab": {
          "base_uri": "https://localhost:8080/",
          "height": 284
        },
        "id": "ku1btLB0M2WA",
        "outputId": "09c45891-a9b9-4452-a8d6-45095e7ec191"
      },
      "source": [
        "df.describe()"
      ],
      "execution_count": null,
      "outputs": [
        {
          "data": {
            "text/html": [
              "<div>\n",
              "<style scoped>\n",
              "    .dataframe tbody tr th:only-of-type {\n",
              "        vertical-align: middle;\n",
              "    }\n",
              "\n",
              "    .dataframe tbody tr th {\n",
              "        vertical-align: top;\n",
              "    }\n",
              "\n",
              "    .dataframe thead th {\n",
              "        text-align: right;\n",
              "    }\n",
              "</style>\n",
              "<table border=\"1\" class=\"dataframe\">\n",
              "  <thead>\n",
              "    <tr style=\"text-align: right;\">\n",
              "      <th></th>\n",
              "      <th>A</th>\n",
              "      <th>B</th>\n",
              "      <th>C</th>\n",
              "      <th>D</th>\n",
              "    </tr>\n",
              "  </thead>\n",
              "  <tbody>\n",
              "    <tr>\n",
              "      <th>count</th>\n",
              "      <td>10.000000</td>\n",
              "      <td>10.000000</td>\n",
              "      <td>10.000000</td>\n",
              "      <td>10.000000</td>\n",
              "    </tr>\n",
              "    <tr>\n",
              "      <th>mean</th>\n",
              "      <td>-0.300694</td>\n",
              "      <td>-0.292559</td>\n",
              "      <td>-0.241644</td>\n",
              "      <td>-0.075224</td>\n",
              "    </tr>\n",
              "    <tr>\n",
              "      <th>std</th>\n",
              "      <td>1.305908</td>\n",
              "      <td>0.593482</td>\n",
              "      <td>1.156923</td>\n",
              "      <td>1.102884</td>\n",
              "    </tr>\n",
              "    <tr>\n",
              "      <th>min</th>\n",
              "      <td>-1.947380</td>\n",
              "      <td>-1.250828</td>\n",
              "      <td>-1.699498</td>\n",
              "      <td>-2.020656</td>\n",
              "    </tr>\n",
              "    <tr>\n",
              "      <th>25%</th>\n",
              "      <td>-1.105462</td>\n",
              "      <td>-0.687539</td>\n",
              "      <td>-1.100084</td>\n",
              "      <td>-0.612141</td>\n",
              "    </tr>\n",
              "    <tr>\n",
              "      <th>50%</th>\n",
              "      <td>-0.419072</td>\n",
              "      <td>-0.147048</td>\n",
              "      <td>-0.429861</td>\n",
              "      <td>-0.028030</td>\n",
              "    </tr>\n",
              "    <tr>\n",
              "      <th>75%</th>\n",
              "      <td>0.120036</td>\n",
              "      <td>0.125706</td>\n",
              "      <td>0.804277</td>\n",
              "      <td>0.141591</td>\n",
              "    </tr>\n",
              "    <tr>\n",
              "      <th>max</th>\n",
              "      <td>2.786770</td>\n",
              "      <td>0.599316</td>\n",
              "      <td>1.441983</td>\n",
              "      <td>2.245667</td>\n",
              "    </tr>\n",
              "  </tbody>\n",
              "</table>\n",
              "</div>"
            ],
            "text/plain": [
              "               A          B          C          D\n",
              "count  10.000000  10.000000  10.000000  10.000000\n",
              "mean   -0.300694  -0.292559  -0.241644  -0.075224\n",
              "std     1.305908   0.593482   1.156923   1.102884\n",
              "min    -1.947380  -1.250828  -1.699498  -2.020656\n",
              "25%    -1.105462  -0.687539  -1.100084  -0.612141\n",
              "50%    -0.419072  -0.147048  -0.429861  -0.028030\n",
              "75%     0.120036   0.125706   0.804277   0.141591\n",
              "max     2.786770   0.599316   1.441983   2.245667"
            ]
          },
          "execution_count": 123,
          "metadata": {
            "tags": []
          },
          "output_type": "execute_result"
        }
      ]
    },
    {
      "cell_type": "code",
      "metadata": {
        "colab": {
          "base_uri": "https://localhost:8080/",
          "height": 343
        },
        "id": "sMOlHDFsM2WG",
        "outputId": "9620ef38-336f-4aaa-f49a-89ca28763ee8"
      },
      "source": [
        "df.sort_values(by='B')"
      ],
      "execution_count": null,
      "outputs": [
        {
          "data": {
            "text/html": [
              "<div>\n",
              "<style scoped>\n",
              "    .dataframe tbody tr th:only-of-type {\n",
              "        vertical-align: middle;\n",
              "    }\n",
              "\n",
              "    .dataframe tbody tr th {\n",
              "        vertical-align: top;\n",
              "    }\n",
              "\n",
              "    .dataframe thead th {\n",
              "        text-align: right;\n",
              "    }\n",
              "</style>\n",
              "<table border=\"1\" class=\"dataframe\">\n",
              "  <thead>\n",
              "    <tr style=\"text-align: right;\">\n",
              "      <th></th>\n",
              "      <th>A</th>\n",
              "      <th>B</th>\n",
              "      <th>C</th>\n",
              "      <th>D</th>\n",
              "    </tr>\n",
              "  </thead>\n",
              "  <tbody>\n",
              "    <tr>\n",
              "      <th>4</th>\n",
              "      <td>0.178860</td>\n",
              "      <td>-1.250828</td>\n",
              "      <td>-0.222141</td>\n",
              "      <td>-2.020656</td>\n",
              "    </tr>\n",
              "    <tr>\n",
              "      <th>1</th>\n",
              "      <td>-1.947380</td>\n",
              "      <td>-1.028626</td>\n",
              "      <td>-0.876797</td>\n",
              "      <td>-0.537015</td>\n",
              "    </tr>\n",
              "    <tr>\n",
              "      <th>2</th>\n",
              "      <td>-0.842865</td>\n",
              "      <td>-0.698408</td>\n",
              "      <td>-1.699498</td>\n",
              "      <td>0.028327</td>\n",
              "    </tr>\n",
              "    <tr>\n",
              "      <th>3</th>\n",
              "      <td>-0.798442</td>\n",
              "      <td>-0.654934</td>\n",
              "      <td>-0.074141</td>\n",
              "      <td>0.162620</td>\n",
              "    </tr>\n",
              "    <tr>\n",
              "      <th>7</th>\n",
              "      <td>-0.039702</td>\n",
              "      <td>-0.179725</td>\n",
              "      <td>-1.174513</td>\n",
              "      <td>-0.637183</td>\n",
              "    </tr>\n",
              "    <tr>\n",
              "      <th>8</th>\n",
              "      <td>0.132785</td>\n",
              "      <td>-0.114371</td>\n",
              "      <td>1.097083</td>\n",
              "      <td>-0.084387</td>\n",
              "    </tr>\n",
              "    <tr>\n",
              "      <th>6</th>\n",
              "      <td>2.786770</td>\n",
              "      <td>0.002498</td>\n",
              "      <td>-0.637580</td>\n",
              "      <td>-0.749934</td>\n",
              "    </tr>\n",
              "    <tr>\n",
              "      <th>0</th>\n",
              "      <td>-1.365757</td>\n",
              "      <td>0.166776</td>\n",
              "      <td>1.245281</td>\n",
              "      <td>2.245667</td>\n",
              "    </tr>\n",
              "    <tr>\n",
              "      <th>9</th>\n",
              "      <td>0.081789</td>\n",
              "      <td>0.232711</td>\n",
              "      <td>1.441983</td>\n",
              "      <td>0.761819</td>\n",
              "    </tr>\n",
              "    <tr>\n",
              "      <th>5</th>\n",
              "      <td>-1.192994</td>\n",
              "      <td>0.599316</td>\n",
              "      <td>-1.516119</td>\n",
              "      <td>0.078504</td>\n",
              "    </tr>\n",
              "  </tbody>\n",
              "</table>\n",
              "</div>"
            ],
            "text/plain": [
              "          A         B         C         D\n",
              "4  0.178860 -1.250828 -0.222141 -2.020656\n",
              "1 -1.947380 -1.028626 -0.876797 -0.537015\n",
              "2 -0.842865 -0.698408 -1.699498  0.028327\n",
              "3 -0.798442 -0.654934 -0.074141  0.162620\n",
              "7 -0.039702 -0.179725 -1.174513 -0.637183\n",
              "8  0.132785 -0.114371  1.097083 -0.084387\n",
              "6  2.786770  0.002498 -0.637580 -0.749934\n",
              "0 -1.365757  0.166776  1.245281  2.245667\n",
              "9  0.081789  0.232711  1.441983  0.761819\n",
              "5 -1.192994  0.599316 -1.516119  0.078504"
            ]
          },
          "execution_count": 124,
          "metadata": {
            "tags": []
          },
          "output_type": "execute_result"
        }
      ]
    },
    {
      "cell_type": "code",
      "metadata": {
        "colab": {
          "base_uri": "https://localhost:8080/",
          "height": 343
        },
        "id": "BxG8rEgbM2WI",
        "outputId": "03e37c2d-8225-4b2e-fc8d-76b4a68d38b1"
      },
      "source": [
        "df.sort_values(by='B')+df"
      ],
      "execution_count": null,
      "outputs": [
        {
          "data": {
            "text/html": [
              "<div>\n",
              "<style scoped>\n",
              "    .dataframe tbody tr th:only-of-type {\n",
              "        vertical-align: middle;\n",
              "    }\n",
              "\n",
              "    .dataframe tbody tr th {\n",
              "        vertical-align: top;\n",
              "    }\n",
              "\n",
              "    .dataframe thead th {\n",
              "        text-align: right;\n",
              "    }\n",
              "</style>\n",
              "<table border=\"1\" class=\"dataframe\">\n",
              "  <thead>\n",
              "    <tr style=\"text-align: right;\">\n",
              "      <th></th>\n",
              "      <th>A</th>\n",
              "      <th>B</th>\n",
              "      <th>C</th>\n",
              "      <th>D</th>\n",
              "    </tr>\n",
              "  </thead>\n",
              "  <tbody>\n",
              "    <tr>\n",
              "      <th>0</th>\n",
              "      <td>-2.731515</td>\n",
              "      <td>0.333552</td>\n",
              "      <td>2.490563</td>\n",
              "      <td>4.491333</td>\n",
              "    </tr>\n",
              "    <tr>\n",
              "      <th>1</th>\n",
              "      <td>-3.894759</td>\n",
              "      <td>-2.057252</td>\n",
              "      <td>-1.753594</td>\n",
              "      <td>-1.074029</td>\n",
              "    </tr>\n",
              "    <tr>\n",
              "      <th>2</th>\n",
              "      <td>-1.685729</td>\n",
              "      <td>-1.396815</td>\n",
              "      <td>-3.398997</td>\n",
              "      <td>0.056653</td>\n",
              "    </tr>\n",
              "    <tr>\n",
              "      <th>3</th>\n",
              "      <td>-1.596883</td>\n",
              "      <td>-1.309868</td>\n",
              "      <td>-0.148283</td>\n",
              "      <td>0.325241</td>\n",
              "    </tr>\n",
              "    <tr>\n",
              "      <th>4</th>\n",
              "      <td>0.357720</td>\n",
              "      <td>-2.501657</td>\n",
              "      <td>-0.444283</td>\n",
              "      <td>-4.041313</td>\n",
              "    </tr>\n",
              "    <tr>\n",
              "      <th>5</th>\n",
              "      <td>-2.385989</td>\n",
              "      <td>1.198632</td>\n",
              "      <td>-3.032238</td>\n",
              "      <td>0.157009</td>\n",
              "    </tr>\n",
              "    <tr>\n",
              "      <th>6</th>\n",
              "      <td>5.573541</td>\n",
              "      <td>0.004996</td>\n",
              "      <td>-1.275161</td>\n",
              "      <td>-1.499868</td>\n",
              "    </tr>\n",
              "    <tr>\n",
              "      <th>7</th>\n",
              "      <td>-0.079405</td>\n",
              "      <td>-0.359451</td>\n",
              "      <td>-2.349026</td>\n",
              "      <td>-1.274365</td>\n",
              "    </tr>\n",
              "    <tr>\n",
              "      <th>8</th>\n",
              "      <td>0.265571</td>\n",
              "      <td>-0.228741</td>\n",
              "      <td>2.194167</td>\n",
              "      <td>-0.168774</td>\n",
              "    </tr>\n",
              "    <tr>\n",
              "      <th>9</th>\n",
              "      <td>0.163578</td>\n",
              "      <td>0.465422</td>\n",
              "      <td>2.883967</td>\n",
              "      <td>1.523638</td>\n",
              "    </tr>\n",
              "  </tbody>\n",
              "</table>\n",
              "</div>"
            ],
            "text/plain": [
              "          A         B         C         D\n",
              "0 -2.731515  0.333552  2.490563  4.491333\n",
              "1 -3.894759 -2.057252 -1.753594 -1.074029\n",
              "2 -1.685729 -1.396815 -3.398997  0.056653\n",
              "3 -1.596883 -1.309868 -0.148283  0.325241\n",
              "4  0.357720 -2.501657 -0.444283 -4.041313\n",
              "5 -2.385989  1.198632 -3.032238  0.157009\n",
              "6  5.573541  0.004996 -1.275161 -1.499868\n",
              "7 -0.079405 -0.359451 -2.349026 -1.274365\n",
              "8  0.265571 -0.228741  2.194167 -0.168774\n",
              "9  0.163578  0.465422  2.883967  1.523638"
            ]
          },
          "execution_count": 125,
          "metadata": {
            "tags": []
          },
          "output_type": "execute_result"
        }
      ]
    },
    {
      "cell_type": "code",
      "metadata": {
        "id": "itQo61__M2WL"
      },
      "source": [
        ""
      ],
      "execution_count": null,
      "outputs": []
    },
    {
      "cell_type": "markdown",
      "metadata": {
        "id": "AISWuE3GM2WM"
      },
      "source": [
        "Атрибут iloc подобен loc: первый индекс - номер строки, второй - номер столбца. Это целые числа, конец диапазона на включается (как обычно в питоне)."
      ]
    },
    {
      "cell_type": "code",
      "metadata": {
        "colab": {
          "base_uri": "https://localhost:8080/",
          "height": 101
        },
        "id": "1jHMjQAnM2WM",
        "outputId": "78ec2ba7-8349-4672-8739-1e80bd136327"
      },
      "source": [
        "df.iloc[2]"
      ],
      "execution_count": null,
      "outputs": [
        {
          "data": {
            "text/plain": [
              "A   -0.842865\n",
              "B   -0.698408\n",
              "C   -1.699498\n",
              "D    0.028327\n",
              "Name: 2, dtype: float64"
            ]
          },
          "execution_count": 126,
          "metadata": {
            "tags": []
          },
          "output_type": "execute_result"
        }
      ]
    },
    {
      "cell_type": "code",
      "metadata": {
        "colab": {
          "base_uri": "https://localhost:8080/",
          "height": 106
        },
        "id": "Mi3GNSZ7M2WO",
        "outputId": "7727d8c6-ac19-40d7-c76f-a81647a107f4"
      },
      "source": [
        "df.iloc[1:3]"
      ],
      "execution_count": null,
      "outputs": [
        {
          "data": {
            "text/html": [
              "<div>\n",
              "<style scoped>\n",
              "    .dataframe tbody tr th:only-of-type {\n",
              "        vertical-align: middle;\n",
              "    }\n",
              "\n",
              "    .dataframe tbody tr th {\n",
              "        vertical-align: top;\n",
              "    }\n",
              "\n",
              "    .dataframe thead th {\n",
              "        text-align: right;\n",
              "    }\n",
              "</style>\n",
              "<table border=\"1\" class=\"dataframe\">\n",
              "  <thead>\n",
              "    <tr style=\"text-align: right;\">\n",
              "      <th></th>\n",
              "      <th>A</th>\n",
              "      <th>B</th>\n",
              "      <th>C</th>\n",
              "      <th>D</th>\n",
              "    </tr>\n",
              "  </thead>\n",
              "  <tbody>\n",
              "    <tr>\n",
              "      <th>1</th>\n",
              "      <td>-1.947380</td>\n",
              "      <td>-1.028626</td>\n",
              "      <td>-0.876797</td>\n",
              "      <td>-0.537015</td>\n",
              "    </tr>\n",
              "    <tr>\n",
              "      <th>2</th>\n",
              "      <td>-0.842865</td>\n",
              "      <td>-0.698408</td>\n",
              "      <td>-1.699498</td>\n",
              "      <td>0.028327</td>\n",
              "    </tr>\n",
              "  </tbody>\n",
              "</table>\n",
              "</div>"
            ],
            "text/plain": [
              "          A         B         C         D\n",
              "1 -1.947380 -1.028626 -0.876797 -0.537015\n",
              "2 -0.842865 -0.698408 -1.699498  0.028327"
            ]
          },
          "execution_count": 127,
          "metadata": {
            "tags": []
          },
          "output_type": "execute_result"
        }
      ]
    },
    {
      "cell_type": "code",
      "metadata": {
        "colab": {
          "base_uri": "https://localhost:8080/",
          "height": 106
        },
        "id": "FxC3Tzx-M2WR",
        "outputId": "7ad4ae9e-681f-40ea-b3f8-df214bd76223"
      },
      "source": [
        "df.iloc[1:3,0:2]"
      ],
      "execution_count": null,
      "outputs": [
        {
          "data": {
            "text/html": [
              "<div>\n",
              "<style scoped>\n",
              "    .dataframe tbody tr th:only-of-type {\n",
              "        vertical-align: middle;\n",
              "    }\n",
              "\n",
              "    .dataframe tbody tr th {\n",
              "        vertical-align: top;\n",
              "    }\n",
              "\n",
              "    .dataframe thead th {\n",
              "        text-align: right;\n",
              "    }\n",
              "</style>\n",
              "<table border=\"1\" class=\"dataframe\">\n",
              "  <thead>\n",
              "    <tr style=\"text-align: right;\">\n",
              "      <th></th>\n",
              "      <th>A</th>\n",
              "      <th>B</th>\n",
              "    </tr>\n",
              "  </thead>\n",
              "  <tbody>\n",
              "    <tr>\n",
              "      <th>1</th>\n",
              "      <td>-1.947380</td>\n",
              "      <td>-1.028626</td>\n",
              "    </tr>\n",
              "    <tr>\n",
              "      <th>2</th>\n",
              "      <td>-0.842865</td>\n",
              "      <td>-0.698408</td>\n",
              "    </tr>\n",
              "  </tbody>\n",
              "</table>\n",
              "</div>"
            ],
            "text/plain": [
              "          A         B\n",
              "1 -1.947380 -1.028626\n",
              "2 -0.842865 -0.698408"
            ]
          },
          "execution_count": 128,
          "metadata": {
            "tags": []
          },
          "output_type": "execute_result"
        }
      ]
    },
    {
      "cell_type": "markdown",
      "metadata": {
        "id": "iAfAnWt2M2WS"
      },
      "source": [
        "кумулятивные суммы"
      ]
    },
    {
      "cell_type": "code",
      "metadata": {
        "colab": {
          "base_uri": "https://localhost:8080/",
          "height": 343
        },
        "id": "rGPy8XsfYffH",
        "outputId": "40ba8dc1-8a40-436b-ffcf-732c08a6483b"
      },
      "source": [
        "df"
      ],
      "execution_count": null,
      "outputs": [
        {
          "data": {
            "text/html": [
              "<div>\n",
              "<style scoped>\n",
              "    .dataframe tbody tr th:only-of-type {\n",
              "        vertical-align: middle;\n",
              "    }\n",
              "\n",
              "    .dataframe tbody tr th {\n",
              "        vertical-align: top;\n",
              "    }\n",
              "\n",
              "    .dataframe thead th {\n",
              "        text-align: right;\n",
              "    }\n",
              "</style>\n",
              "<table border=\"1\" class=\"dataframe\">\n",
              "  <thead>\n",
              "    <tr style=\"text-align: right;\">\n",
              "      <th></th>\n",
              "      <th>A</th>\n",
              "      <th>B</th>\n",
              "      <th>C</th>\n",
              "      <th>D</th>\n",
              "    </tr>\n",
              "  </thead>\n",
              "  <tbody>\n",
              "    <tr>\n",
              "      <th>0</th>\n",
              "      <td>-1.365757</td>\n",
              "      <td>0.166776</td>\n",
              "      <td>1.245281</td>\n",
              "      <td>2.245667</td>\n",
              "    </tr>\n",
              "    <tr>\n",
              "      <th>1</th>\n",
              "      <td>-1.947380</td>\n",
              "      <td>-1.028626</td>\n",
              "      <td>-0.876797</td>\n",
              "      <td>-0.537015</td>\n",
              "    </tr>\n",
              "    <tr>\n",
              "      <th>2</th>\n",
              "      <td>-0.842865</td>\n",
              "      <td>-0.698408</td>\n",
              "      <td>-1.699498</td>\n",
              "      <td>0.028327</td>\n",
              "    </tr>\n",
              "    <tr>\n",
              "      <th>3</th>\n",
              "      <td>-0.798442</td>\n",
              "      <td>-0.654934</td>\n",
              "      <td>-0.074141</td>\n",
              "      <td>0.162620</td>\n",
              "    </tr>\n",
              "    <tr>\n",
              "      <th>4</th>\n",
              "      <td>0.178860</td>\n",
              "      <td>-1.250828</td>\n",
              "      <td>-0.222141</td>\n",
              "      <td>-2.020656</td>\n",
              "    </tr>\n",
              "    <tr>\n",
              "      <th>5</th>\n",
              "      <td>-1.192994</td>\n",
              "      <td>0.599316</td>\n",
              "      <td>-1.516119</td>\n",
              "      <td>0.078504</td>\n",
              "    </tr>\n",
              "    <tr>\n",
              "      <th>6</th>\n",
              "      <td>2.786770</td>\n",
              "      <td>0.002498</td>\n",
              "      <td>-0.637580</td>\n",
              "      <td>-0.749934</td>\n",
              "    </tr>\n",
              "    <tr>\n",
              "      <th>7</th>\n",
              "      <td>-0.039702</td>\n",
              "      <td>-0.179725</td>\n",
              "      <td>-1.174513</td>\n",
              "      <td>-0.637183</td>\n",
              "    </tr>\n",
              "    <tr>\n",
              "      <th>8</th>\n",
              "      <td>0.132785</td>\n",
              "      <td>-0.114371</td>\n",
              "      <td>1.097083</td>\n",
              "      <td>-0.084387</td>\n",
              "    </tr>\n",
              "    <tr>\n",
              "      <th>9</th>\n",
              "      <td>0.081789</td>\n",
              "      <td>0.232711</td>\n",
              "      <td>1.441983</td>\n",
              "      <td>0.761819</td>\n",
              "    </tr>\n",
              "  </tbody>\n",
              "</table>\n",
              "</div>"
            ],
            "text/plain": [
              "          A         B         C         D\n",
              "0 -1.365757  0.166776  1.245281  2.245667\n",
              "1 -1.947380 -1.028626 -0.876797 -0.537015\n",
              "2 -0.842865 -0.698408 -1.699498  0.028327\n",
              "3 -0.798442 -0.654934 -0.074141  0.162620\n",
              "4  0.178860 -1.250828 -0.222141 -2.020656\n",
              "5 -1.192994  0.599316 -1.516119  0.078504\n",
              "6  2.786770  0.002498 -0.637580 -0.749934\n",
              "7 -0.039702 -0.179725 -1.174513 -0.637183\n",
              "8  0.132785 -0.114371  1.097083 -0.084387\n",
              "9  0.081789  0.232711  1.441983  0.761819"
            ]
          },
          "execution_count": 135,
          "metadata": {
            "tags": []
          },
          "output_type": "execute_result"
        }
      ]
    },
    {
      "cell_type": "code",
      "metadata": {
        "colab": {
          "base_uri": "https://localhost:8080/",
          "height": 343
        },
        "id": "okRBZTk8M2WT",
        "outputId": "5d5ebd98-ceac-43b0-d514-d0c527e27ee9"
      },
      "source": [
        "cs=df.cumsum(axis=0)\n",
        "cs"
      ],
      "execution_count": null,
      "outputs": [
        {
          "data": {
            "text/html": [
              "<div>\n",
              "<style scoped>\n",
              "    .dataframe tbody tr th:only-of-type {\n",
              "        vertical-align: middle;\n",
              "    }\n",
              "\n",
              "    .dataframe tbody tr th {\n",
              "        vertical-align: top;\n",
              "    }\n",
              "\n",
              "    .dataframe thead th {\n",
              "        text-align: right;\n",
              "    }\n",
              "</style>\n",
              "<table border=\"1\" class=\"dataframe\">\n",
              "  <thead>\n",
              "    <tr style=\"text-align: right;\">\n",
              "      <th></th>\n",
              "      <th>A</th>\n",
              "      <th>B</th>\n",
              "      <th>C</th>\n",
              "      <th>D</th>\n",
              "    </tr>\n",
              "  </thead>\n",
              "  <tbody>\n",
              "    <tr>\n",
              "      <th>0</th>\n",
              "      <td>-1.365757</td>\n",
              "      <td>0.166776</td>\n",
              "      <td>1.245281</td>\n",
              "      <td>2.245667</td>\n",
              "    </tr>\n",
              "    <tr>\n",
              "      <th>1</th>\n",
              "      <td>-3.313137</td>\n",
              "      <td>-0.861850</td>\n",
              "      <td>0.368484</td>\n",
              "      <td>1.708652</td>\n",
              "    </tr>\n",
              "    <tr>\n",
              "      <th>2</th>\n",
              "      <td>-4.156002</td>\n",
              "      <td>-1.560258</td>\n",
              "      <td>-1.331014</td>\n",
              "      <td>1.736979</td>\n",
              "    </tr>\n",
              "    <tr>\n",
              "      <th>3</th>\n",
              "      <td>-4.954443</td>\n",
              "      <td>-2.215192</td>\n",
              "      <td>-1.405155</td>\n",
              "      <td>1.899599</td>\n",
              "    </tr>\n",
              "    <tr>\n",
              "      <th>4</th>\n",
              "      <td>-4.775584</td>\n",
              "      <td>-3.466020</td>\n",
              "      <td>-1.627297</td>\n",
              "      <td>-0.121057</td>\n",
              "    </tr>\n",
              "    <tr>\n",
              "      <th>5</th>\n",
              "      <td>-5.968578</td>\n",
              "      <td>-2.866704</td>\n",
              "      <td>-3.143416</td>\n",
              "      <td>-0.042553</td>\n",
              "    </tr>\n",
              "    <tr>\n",
              "      <th>6</th>\n",
              "      <td>-3.181808</td>\n",
              "      <td>-2.864206</td>\n",
              "      <td>-3.780996</td>\n",
              "      <td>-0.792487</td>\n",
              "    </tr>\n",
              "    <tr>\n",
              "      <th>7</th>\n",
              "      <td>-3.221510</td>\n",
              "      <td>-3.043932</td>\n",
              "      <td>-4.955509</td>\n",
              "      <td>-1.429670</td>\n",
              "    </tr>\n",
              "    <tr>\n",
              "      <th>8</th>\n",
              "      <td>-3.088724</td>\n",
              "      <td>-3.158302</td>\n",
              "      <td>-3.858426</td>\n",
              "      <td>-1.514057</td>\n",
              "    </tr>\n",
              "    <tr>\n",
              "      <th>9</th>\n",
              "      <td>-3.006936</td>\n",
              "      <td>-2.925591</td>\n",
              "      <td>-2.416442</td>\n",
              "      <td>-0.752238</td>\n",
              "    </tr>\n",
              "  </tbody>\n",
              "</table>\n",
              "</div>"
            ],
            "text/plain": [
              "          A         B         C         D\n",
              "0 -1.365757  0.166776  1.245281  2.245667\n",
              "1 -3.313137 -0.861850  0.368484  1.708652\n",
              "2 -4.156002 -1.560258 -1.331014  1.736979\n",
              "3 -4.954443 -2.215192 -1.405155  1.899599\n",
              "4 -4.775584 -3.466020 -1.627297 -0.121057\n",
              "5 -5.968578 -2.866704 -3.143416 -0.042553\n",
              "6 -3.181808 -2.864206 -3.780996 -0.792487\n",
              "7 -3.221510 -3.043932 -4.955509 -1.429670\n",
              "8 -3.088724 -3.158302 -3.858426 -1.514057\n",
              "9 -3.006936 -2.925591 -2.416442 -0.752238"
            ]
          },
          "execution_count": 136,
          "metadata": {
            "tags": []
          },
          "output_type": "execute_result"
        }
      ]
    },
    {
      "cell_type": "code",
      "metadata": {
        "colab": {
          "base_uri": "https://localhost:8080/",
          "height": 265
        },
        "id": "qJ6npqeYM2WU",
        "outputId": "99a3a508-7deb-42b8-cc35-d9d8d82b9681"
      },
      "source": [
        "import matplotlib.pyplot as plt\n",
        "plt.plot(cs);"
      ],
      "execution_count": null,
      "outputs": [
        {
          "data": {
            "image/png": "[encoded data removed]",
            "text/plain": [
              "<Figure size 432x288 with 1 Axes>"
            ]
          },
          "metadata": {
            "needs_background": "light",
            "tags": []
          },
          "output_type": "display_data"
        }
      ]
    },
    {
      "cell_type": "code",
      "metadata": {
        "id": "TMYs73t1ixSS"
      },
      "source": [
        ""
      ],
      "execution_count": null,
      "outputs": []
    },
    {
      "cell_type": "code",
      "metadata": {
        "id": "D-oAxzVaixSS"
      },
      "source": [
        ""
      ],
      "execution_count": null,
      "outputs": []
    },
    {
      "cell_type": "code",
      "metadata": {
        "id": "G4aKFne5ixSS"
      },
      "source": [
        ""
      ],
      "execution_count": null,
      "outputs": []
    },
    {
      "cell_type": "code",
      "metadata": {
        "id": "scjybhqWixST"
      },
      "source": [
        ""
      ],
      "execution_count": null,
      "outputs": []
    },
    {
      "cell_type": "code",
      "metadata": {
        "id": "fmLqNdSSixST"
      },
      "source": [
        ""
      ],
      "execution_count": null,
      "outputs": []
    },
    {
      "cell_type": "code",
      "metadata": {
        "id": "xXGBG5nTixST"
      },
      "source": [
        ""
      ],
      "execution_count": null,
      "outputs": []
    },
    {
      "cell_type": "code",
      "metadata": {
        "id": "lddRc3vkixSU"
      },
      "source": [
        ""
      ],
      "execution_count": null,
      "outputs": []
    },
    {
      "cell_type": "code",
      "metadata": {
        "id": "fo2pCDkQixSU"
      },
      "source": [
        ""
      ],
      "execution_count": null,
      "outputs": []
    },
    {
      "cell_type": "code",
      "metadata": {
        "id": "R4xlU5SKixSV"
      },
      "source": [
        ""
      ],
      "execution_count": null,
      "outputs": []
    },
    {
      "cell_type": "markdown",
      "metadata": {
        "id": "JqUN04vPK065"
      },
      "source": [
        "## Список материалов для самостоятельного изучения"
      ]
    },
    {
      "cell_type": "markdown",
      "metadata": {
        "id": "a6m68ZUgK065"
      },
      "source": [
        "*Статья на Хабре по основам NumPy - https://habr.com/post/121031/*  \n",
        "\n",
        "*100 задач по NumPy для любителей посидеть вечерком за чашечкой программирования* - https://pythonworld.ru/numpy/100-exercises.html  \n",
        "\n",
        "*Очень крутой, продвинутый ноутбук по NumPy* - https://nbviewer.jupyter.org/github/vlad17/np-learn/blob/master/presentation.ipynb\n",
        "\n",
        "*Штука, которая вам в будущем может пригодиться ;)* - https://stackoverflow.com/questions/27948363/numpy-broadcast-to-perform-euclidean-distance-vectorized/35814006  \n",
        "\n",
        "*Лекции по SciPy и NumPy* - http://www.scipy-lectures.org/index.html"
      ]
    },
    {
      "cell_type": "code",
      "metadata": {
        "id": "BqBoF_NSi4R2"
      },
      "source": [
        ""
      ],
      "execution_count": null,
      "outputs": []
    }
  ]
}