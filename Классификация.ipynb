{
  "nbformat": 4,
  "nbformat_minor": 0,
  "metadata": {
    "colab": {
      "name": "Классификация",
      "provenance": [],
      "collapsed_sections": [],
      "toc_visible": true
    },
    "kernelspec": {
      "name": "python3",
      "display_name": "Python 3"
    }
  },
  "cells": [
    {
      "cell_type": "markdown",
      "metadata": {
        "id": "dBPyQKgGNGMb"
      },
      "source": [
        "# Введение\n",
        "\n",
        "---"
      ]
    },
    {
      "cell_type": "markdown",
      "metadata": {
        "id": "h-IHfHKNwRmP"
      },
      "source": [
        "**В этой тетради мы**\n",
        "\n",
        "* Рассмотрим задачу предсказания дохода пользователй;\n",
        "* Продолжим знакомство с основными библиотеками для работы с данными: Pandas, Matplotlib и Scikit-learn;\n",
        "* Научимся обрабатывать категориальные признаки;\n",
        "* Обучим модели решающих деревьев;\n",
        "* Научимся считать важные метрики задачи классификации.\n",
        "\n",
        "---\n",
        "\n"
      ]
    },
    {
      "cell_type": "markdown",
      "metadata": {
        "id": "Z2DiJyA-iYUt"
      },
      "source": [
        "# Предсказание   дохода\n",
        "\n",
        "Не секрет, что таргетированные предложения успешно используются для привлечения новых клиентов, а также продвижения различных предложений. Доход - один из наиболее важных для банка признаков при формировании портрета клиента для таргетного маркетинга. При этом, на самом деле, банку важна не аккуратная точечная оценка дохода, а оценка попадания дохода в некоторый интервал. \n",
        "\n",
        "Идеальный вариант - это разбиение некоторого целевого интервала на несколько групп. Однако это приведет к решению многоклассовой задачи. Мы рассмотрим более простой вариант: предсказание бинарного дохода клиентов по социально-демографическим признакам (возраст, вид занятости и т.д.).\n",
        "\n",
        "\n",
        "**Бизнес-постановка задачи**\n",
        "\n",
        "Банк по анкетным данным оценивает категорию клиента. В нашем случае имеется две группы клиентов: которые зарабатывают больше 50000$ в год и меньше.\n",
        "\n",
        "Применение модели:\n",
        "* Научившись  предсказывать доход клиента, банк получает возможность более качественно предлагать свои услуги для разных групп пользователей. \n",
        "\n",
        "<img src=\"https://veralline.com/uploads/images/comparison/2019/06/12/ebe9161e14.jpg\" alt=\"Drawing\" style=\"width: 50px;\" width=\"480\"/>\n",
        "\n"
      ]
    },
    {
      "cell_type": "markdown",
      "metadata": {
        "id": "aQKQZ5VLh8SW"
      },
      "source": [
        "**Постановка задачи анализа данных**\n",
        "\n",
        "Целью данной задачи является построение модели **классификации пользователей**: на вход модель будет принимать данные о человеке, а на выходе она должна предсказывать бинарный уровень дохода человека (больше или меньше 50000$ за год)."
      ]
    },
    {
      "cell_type": "markdown",
      "metadata": {
        "id": "S2RhTgMkiPsd"
      },
      "source": [
        "## Обзор доступных данных\n",
        "\n",
        "Мы будем использовать данные переписи населения США в 1994 году с платформы UCI https://archive.ics.uci.edu/ml/datasets/Adult.\n",
        "\n",
        "В выборке 32561 наблюдение и 13 переменных, одна из которых - целевая (**income**). Выборка была разбита на две части для обучения и для тестирования модели размерами 24420 и 8141 соответственно. "
      ]
    },
    {
      "cell_type": "markdown",
      "metadata": {
        "id": "6ZjPG2GXjl4g"
      },
      "source": [
        "**Доступные признаки**\n",
        "\n",
        "| Название признака | Значение | Число уникальных значений |\n",
        "| :- | :- | :- |\n",
        "| age | Возраст | 73|\n",
        "| workclass | Тип работодателя | 9 |\n",
        "| education | Уровень образования | 16 |\n",
        "| marital-status | Семейное положение | 7 |\n",
        "| occupation | Профессия | 15 | \n",
        "| relationship | Тип семейных отношений | 6 |\n",
        "| race | Раса | 5 | \n",
        "| sex | Пол | 2 |\n",
        "| capital-gain | Прирост капитала | 119 |\n",
        "| capital-loss | Падение капитала | 92 |\n",
        "| hours-per-week | Количество часов работы в неделю | 94 |\n",
        "| native-country | Страна проживания | 42 |\n",
        "| income | Уровень дохода | 2 | \n"
      ]
    },
    {
      "cell_type": "markdown",
      "metadata": {
        "id": "-beJmjgUVQdN"
      },
      "source": [
        "---\n",
        "\n",
        "\n",
        "# План анализа данных\n",
        "\n",
        "  1. Загрузить данные для обучения;\n",
        "  2. Обработать данные перед обучением модели;\n",
        "  3. Обучить модель на обучающей выборке;\n",
        "  4. Провалидировать модель на тестовой выборке.\n",
        "\n",
        "\n",
        "\n",
        "---\n"
      ]
    },
    {
      "cell_type": "markdown",
      "metadata": {
        "id": "HH__AccPVShF"
      },
      "source": [
        "# 1. Загрузить данные для обучения"
      ]
    },
    {
      "cell_type": "markdown",
      "metadata": {
        "id": "VxC-55lNVcRq"
      },
      "source": [
        "## 1.1. Загружаем библиотеки\n"
      ]
    },
    {
      "cell_type": "markdown",
      "metadata": {
        "id": "Hy2Fjzfo0GCD"
      },
      "source": [
        "\n",
        "<img src=\"https://storage.ning.com/topology/rest/1.0/file/get/1157930838?profile=RESIZE_710x\" alt=\"Drawing\" style=\"width: 50px;\" width=\"620\"/>\n"
      ]
    },
    {
      "cell_type": "markdown",
      "metadata": {
        "id": "nQZVvqhVxpNv"
      },
      "source": [
        "Для решения задачи нам понадобятся уже знакомые: \n",
        "* библиотека **pandas** для работы с табличными данными (Excel, CSV и др.);\n",
        "* библиотека **matplotlib** для работы с двумерной и трехмерной графиков;\n",
        "* библиотека **scikit-learn**, де-факто наиболее популярный, разносторонний, хорошо документированный и постоянно обогащающийся инструмент для построения моделей машинного обучения.\n",
        "\n",
        "\n"
      ]
    },
    {
      "cell_type": "markdown",
      "metadata": {
        "id": "R3o5XDQ6034k"
      },
      "source": [
        "Чтобы загрузить любую библиотеку для работы, нужно написать\n",
        "\n",
        "```\n",
        "import имя_библиотеки as короткое_имя_библиотеки\n",
        "``` \n",
        "\n"
      ]
    },
    {
      "cell_type": "code",
      "metadata": {
        "id": "lQq3pQRJ1B-B"
      },
      "source": [
        "# импортируем Pandas\n",
        "import pandas as pd\n",
        "\n",
        "# импортируем модуль pyplot из matplotlib\n",
        "import matplotlib.pyplot as plt\n",
        "\n",
        "#магическая команда, указывает, что графики нужно строить прямо в ноутбуке: \n",
        "%matplotlib inline "
      ],
      "execution_count": 1,
      "outputs": []
    },
    {
      "cell_type": "markdown",
      "metadata": {
        "id": "S5FRxlcNyj-v"
      },
      "source": [
        "Из библиотеки **scikit-learn** нам потребуется большое количество различных функций, поэтому будем их импортировать по мере необходимости."
      ]
    },
    {
      "cell_type": "markdown",
      "metadata": {
        "id": "QWesniPhVdN3"
      },
      "source": [
        "\n",
        "<img src=\"https://upload.wikimedia.org/wikipedia/commons/thumb/1/1a/NumPy_logo.svg/1550px-NumPy_logo.svg.png\" alt=\"Drawing\" style=\"width: 50px;\" width=\"480\"/>\n",
        "\n",
        "\n",
        "На прошлых семинарах мы не использовали библиотеку **numpy**, но обычно без нее не обходится ни одно решение задачи машинного обучения. \n",
        "\n",
        "**Numpy** служит для обработки массивов чисел. В данную библиотеку входит огромное количество математических функций. Например, с помощью нее можно быстро создавать массивы, производить над ними быстрые вычисления, сортировать и многое другое."
      ]
    },
    {
      "cell_type": "code",
      "metadata": {
        "id": "xpMN76hYVl49"
      },
      "source": [
        "import numpy as np"
      ],
      "execution_count": 2,
      "outputs": []
    },
    {
      "cell_type": "markdown",
      "metadata": {
        "id": "dJAsU12uXtJc"
      },
      "source": [
        "Некоторые библиотеки могут выводить на экран предупреждения, которые важно учитывать в \"боевых\" задачах. Но в учебной тетради мы укажем Python'у игнорировать их."
      ]
    },
    {
      "cell_type": "code",
      "metadata": {
        "id": "ATvUoJIjXyoS"
      },
      "source": [
        "import warnings\n",
        "warnings.filterwarnings(\"ignore\")"
      ],
      "execution_count": 3,
      "outputs": []
    },
    {
      "cell_type": "markdown",
      "metadata": {
        "id": "4Y4KR8xhY7DT"
      },
      "source": [
        "## 1.2. Загрузим данные"
      ]
    },
    {
      "cell_type": "markdown",
      "metadata": {
        "id": "xwD6A5v3B73s"
      },
      "source": [
        "Данные, которые мы будем использовать для решения задачи, состоят из двух частей: часть для обучения и часть для тестирования модели.\n",
        "\n",
        "Для работы с данными в Colab их нужно загрузить с помощью команды `!wget`. Для того, чтобы игнорировать сообщения в процессе загрузки, используем магическую команду `%%capture` в первой строке."
      ]
    },
    {
      "cell_type": "code",
      "metadata": {
        "id": "PcIX5bQHSVvR"
      },
      "source": [
        "#так нужно делать только в Google Colab\n",
        "%%capture\n",
        "!wget https://www.dropbox.com/s/1hfrcm09qtvoeoz/train.csv\n",
        "!wget https://www.dropbox.com/s/jj7c8r0x57zda0a/test.csv"
      ],
      "execution_count": 4,
      "outputs": []
    },
    {
      "cell_type": "markdown",
      "metadata": {
        "id": "GQdKwjHuCEmv"
      },
      "source": [
        "Наши данные в формате `csv` - comma separated values, то есть значения, разделенные запятой. Обычно data scientists работают с табличными данными, которые представлены именно в таком виде. Чтобы загрузить такие данные, будем использовать функцию **`pd.read_csv()`** из библиотеки `pandas`.  В функцию передаем один **атрибут**: название файла с данными в виде таблицы."
      ]
    },
    {
      "cell_type": "code",
      "metadata": {
        "id": "IxJX3snvCSWk"
      },
      "source": [
        "training_data = pd.read_csv('train.csv')\n",
        "test_data = pd.read_csv('test.csv')"
      ],
      "execution_count": 5,
      "outputs": []
    },
    {
      "cell_type": "markdown",
      "metadata": {
        "id": "X7mMDOTfZ7ts"
      },
      "source": [
        "Проверим, что данные загрузились правильно: посмотрим, что находится в начале нашего файла с помощью метода `head()`."
      ]
    },
    {
      "cell_type": "code",
      "metadata": {
        "id": "wRwTO3aOTDyJ",
        "colab": {
          "base_uri": "https://localhost:8080/",
          "height": 206
        },
        "outputId": "b15b1ca1-7a41-4ad1-ddce-fb28a1f1faec"
      },
      "source": [
        "training_data.head()"
      ],
      "execution_count": 6,
      "outputs": [
        {
          "output_type": "execute_result",
          "data": {
            "text/html": [
              "\n",
              "  <div id=\"df-e07b9504-7dde-43a9-9235-763cf28d22ab\">\n",
              "    <div class=\"colab-df-container\">\n",
              "      <div>\n",
              "<style scoped>\n",
              "    .dataframe tbody tr th:only-of-type {\n",
              "        vertical-align: middle;\n",
              "    }\n",
              "\n",
              "    .dataframe tbody tr th {\n",
              "        vertical-align: top;\n",
              "    }\n",
              "\n",
              "    .dataframe thead th {\n",
              "        text-align: right;\n",
              "    }\n",
              "</style>\n",
              "<table border=\"1\" class=\"dataframe\">\n",
              "  <thead>\n",
              "    <tr style=\"text-align: right;\">\n",
              "      <th></th>\n",
              "      <th>age</th>\n",
              "      <th>workclass</th>\n",
              "      <th>education</th>\n",
              "      <th>marital-status</th>\n",
              "      <th>occupation</th>\n",
              "      <th>relationship</th>\n",
              "      <th>race</th>\n",
              "      <th>sex</th>\n",
              "      <th>capital-gain</th>\n",
              "      <th>capital-loss</th>\n",
              "      <th>hours-per-week</th>\n",
              "      <th>native-country</th>\n",
              "      <th>income</th>\n",
              "    </tr>\n",
              "  </thead>\n",
              "  <tbody>\n",
              "    <tr>\n",
              "      <th>0</th>\n",
              "      <td>49</td>\n",
              "      <td>Private</td>\n",
              "      <td>HS-grad</td>\n",
              "      <td>Married-civ-spouse</td>\n",
              "      <td>Craft-repair</td>\n",
              "      <td>Husband</td>\n",
              "      <td>White</td>\n",
              "      <td>Male</td>\n",
              "      <td>0.0</td>\n",
              "      <td>0.0</td>\n",
              "      <td>40</td>\n",
              "      <td>United-States</td>\n",
              "      <td>0</td>\n",
              "    </tr>\n",
              "    <tr>\n",
              "      <th>1</th>\n",
              "      <td>27</td>\n",
              "      <td>NaN</td>\n",
              "      <td>HS-grad</td>\n",
              "      <td>Married-civ-spouse</td>\n",
              "      <td>Machine-op-inspct</td>\n",
              "      <td>Husband</td>\n",
              "      <td>White</td>\n",
              "      <td>Male</td>\n",
              "      <td>0.0</td>\n",
              "      <td>0.0</td>\n",
              "      <td>45</td>\n",
              "      <td>United-States</td>\n",
              "      <td>0</td>\n",
              "    </tr>\n",
              "    <tr>\n",
              "      <th>2</th>\n",
              "      <td>44</td>\n",
              "      <td>NaN</td>\n",
              "      <td>11th</td>\n",
              "      <td>Married-civ-spouse</td>\n",
              "      <td>Other-service</td>\n",
              "      <td>Husband</td>\n",
              "      <td>Black</td>\n",
              "      <td>Male</td>\n",
              "      <td>0.0</td>\n",
              "      <td>0.0</td>\n",
              "      <td>60</td>\n",
              "      <td>United-States</td>\n",
              "      <td>0</td>\n",
              "    </tr>\n",
              "    <tr>\n",
              "      <th>3</th>\n",
              "      <td>59</td>\n",
              "      <td>Private</td>\n",
              "      <td>Bachelors</td>\n",
              "      <td>Separated</td>\n",
              "      <td>Adm-clerical</td>\n",
              "      <td>Unmarried</td>\n",
              "      <td>White</td>\n",
              "      <td>Male</td>\n",
              "      <td>0.0</td>\n",
              "      <td>0.0</td>\n",
              "      <td>60</td>\n",
              "      <td>United-States</td>\n",
              "      <td>0</td>\n",
              "    </tr>\n",
              "    <tr>\n",
              "      <th>4</th>\n",
              "      <td>54</td>\n",
              "      <td>Private</td>\n",
              "      <td>Bachelors</td>\n",
              "      <td>Divorced</td>\n",
              "      <td>Sales</td>\n",
              "      <td>Not-in-family</td>\n",
              "      <td>White</td>\n",
              "      <td>Female</td>\n",
              "      <td>0.0</td>\n",
              "      <td>1408.0</td>\n",
              "      <td>38</td>\n",
              "      <td>United-States</td>\n",
              "      <td>0</td>\n",
              "    </tr>\n",
              "  </tbody>\n",
              "</table>\n",
              "</div>\n",
              "      <button class=\"colab-df-convert\" onclick=\"convertToInteractive('df-e07b9504-7dde-43a9-9235-763cf28d22ab')\"\n",
              "              title=\"Convert this dataframe to an interactive table.\"\n",
              "              style=\"display:none;\">\n",
              "        \n",
              "  <svg xmlns=\"http://www.w3.org/2000/svg\" height=\"24px\"viewBox=\"0 0 24 24\"\n",
              "       width=\"24px\">\n",
              "    <path d=\"M0 0h24v24H0V0z\" fill=\"none\"/>\n",
              "    <path d=\"M18.56 5.44l.94 2.06.94-2.06 2.06-.94-2.06-.94-.94-2.06-.94 2.06-2.06.94zm-11 1L8.5 8.5l.94-2.06 2.06-.94-2.06-.94L8.5 2.5l-.94 2.06-2.06.94zm10 10l.94 2.06.94-2.06 2.06-.94-2.06-.94-.94-2.06-.94 2.06-2.06.94z\"/><path d=\"M17.41 7.96l-1.37-1.37c-.4-.4-.92-.59-1.43-.59-.52 0-1.04.2-1.43.59L10.3 9.45l-7.72 7.72c-.78.78-.78 2.05 0 2.83L4 21.41c.39.39.9.59 1.41.59.51 0 1.02-.2 1.41-.59l7.78-7.78 2.81-2.81c.8-.78.8-2.07 0-2.86zM5.41 20L4 18.59l7.72-7.72 1.47 1.35L5.41 20z\"/>\n",
              "  </svg>\n",
              "      </button>\n",
              "      \n",
              "  <style>\n",
              "    .colab-df-container {\n",
              "      display:flex;\n",
              "      flex-wrap:wrap;\n",
              "      gap: 12px;\n",
              "    }\n",
              "\n",
              "    .colab-df-convert {\n",
              "      background-color: #E8F0FE;\n",
              "      border: none;\n",
              "      border-radius: 50%;\n",
              "      cursor: pointer;\n",
              "      display: none;\n",
              "      fill: #1967D2;\n",
              "      height: 32px;\n",
              "      padding: 0 0 0 0;\n",
              "      width: 32px;\n",
              "    }\n",
              "\n",
              "    .colab-df-convert:hover {\n",
              "      background-color: #E2EBFA;\n",
              "      box-shadow: 0px 1px 2px rgba(60, 64, 67, 0.3), 0px 1px 3px 1px rgba(60, 64, 67, 0.15);\n",
              "      fill: #174EA6;\n",
              "    }\n",
              "\n",
              "    [theme=dark] .colab-df-convert {\n",
              "      background-color: #3B4455;\n",
              "      fill: #D2E3FC;\n",
              "    }\n",
              "\n",
              "    [theme=dark] .colab-df-convert:hover {\n",
              "      background-color: #434B5C;\n",
              "      box-shadow: 0px 1px 3px 1px rgba(0, 0, 0, 0.15);\n",
              "      filter: drop-shadow(0px 1px 2px rgba(0, 0, 0, 0.3));\n",
              "      fill: #FFFFFF;\n",
              "    }\n",
              "  </style>\n",
              "\n",
              "      <script>\n",
              "        const buttonEl =\n",
              "          document.querySelector('#df-e07b9504-7dde-43a9-9235-763cf28d22ab button.colab-df-convert');\n",
              "        buttonEl.style.display =\n",
              "          google.colab.kernel.accessAllowed ? 'block' : 'none';\n",
              "\n",
              "        async function convertToInteractive(key) {\n",
              "          const element = document.querySelector('#df-e07b9504-7dde-43a9-9235-763cf28d22ab');\n",
              "          const dataTable =\n",
              "            await google.colab.kernel.invokeFunction('convertToInteractive',\n",
              "                                                     [key], {});\n",
              "          if (!dataTable) return;\n",
              "\n",
              "          const docLinkHtml = 'Like what you see? Visit the ' +\n",
              "            '<a target=\"_blank\" href=https://colab.research.google.com/notebooks/data_table.ipynb>data table notebook</a>'\n",
              "            + ' to learn more about interactive tables.';\n",
              "          element.innerHTML = '';\n",
              "          dataTable['output_type'] = 'display_data';\n",
              "          await google.colab.output.renderOutput(dataTable, element);\n",
              "          const docLink = document.createElement('div');\n",
              "          docLink.innerHTML = docLinkHtml;\n",
              "          element.appendChild(docLink);\n",
              "        }\n",
              "      </script>\n",
              "    </div>\n",
              "  </div>\n",
              "  "
            ],
            "text/plain": [
              "   age workclass  education  ... hours-per-week native-country income\n",
              "0   49   Private    HS-grad  ...             40  United-States      0\n",
              "1   27       NaN    HS-grad  ...             45  United-States      0\n",
              "2   44       NaN       11th  ...             60  United-States      0\n",
              "3   59   Private  Bachelors  ...             60  United-States      0\n",
              "4   54   Private  Bachelors  ...             38  United-States      0\n",
              "\n",
              "[5 rows x 13 columns]"
            ]
          },
          "metadata": {},
          "execution_count": 6
        }
      ]
    },
    {
      "cell_type": "markdown",
      "metadata": {
        "id": "q73WSH86CpLG"
      },
      "source": [
        "Проверим размерности наших файлов:"
      ]
    },
    {
      "cell_type": "code",
      "metadata": {
        "id": "KFkoCnueTLNo",
        "colab": {
          "base_uri": "https://localhost:8080/"
        },
        "outputId": "55874dcc-e64f-42b2-f5b7-57382e43bb68"
      },
      "source": [
        "training_data.shape, test_data.shape"
      ],
      "execution_count": 7,
      "outputs": [
        {
          "output_type": "execute_result",
          "data": {
            "text/plain": [
              "((24420, 13), (8141, 13))"
            ]
          },
          "metadata": {},
          "execution_count": 7
        }
      ]
    },
    {
      "cell_type": "markdown",
      "metadata": {
        "id": "pBQO2lYwLjWL"
      },
      "source": [
        "**Работаем с целевой переменной**\n",
        "\n",
        "Целевой переменной данной задачи является переменная **income**, обозначающая бинарный уровень дохода человека: доход выше или ниже 50000$ в год. \n",
        "\n",
        "Для удобства сразу отделим целевую переменную от остальных признаков. Чтобы удалить признак из таблицы необходимо воспользоваться методом `drop()`.\n"
      ]
    },
    {
      "cell_type": "code",
      "metadata": {
        "id": "R7nASgBNLqs7"
      },
      "source": [
        "target_name = 'income'"
      ],
      "execution_count": 8,
      "outputs": []
    },
    {
      "cell_type": "code",
      "metadata": {
        "id": "aQEHV1oWiJm5"
      },
      "source": [
        "training_target = training_data[target_name]\n",
        "test_target = test_data[target_name]\n",
        "\n",
        "training_points = training_data.drop(columns=[target_name])\n",
        "test_points = test_data.drop(columns=[target_name])"
      ],
      "execution_count": 9,
      "outputs": []
    },
    {
      "cell_type": "markdown",
      "metadata": {
        "id": "GZVzIXWCiUL0"
      },
      "source": [
        "**Упражнение.** Проанализируем наши данные с точки зрения сбалансированности задачи. Подсчитаем соотношения между людьми, которые имеют доход больше или меньше 50000$. Для этого воспользуемся методом `value_counts()` и сразу укажем параметр ` normalize=True`, чтобы посчитать не абсолютные значения, а пропорции.\n",
        "\n",
        "*Подсказка: замените #YOUR_CODE_HERE на правильный код.*"
      ]
    },
    {
      "cell_type": "code",
      "metadata": {
        "id": "1mQwk5PJidAs",
        "colab": {
          "base_uri": "https://localhost:8080/"
        },
        "outputId": "6b440853-b4fc-4427-af8a-c8739f1092a7"
      },
      "source": [
        "training_target.value_counts(normalize=True)"
      ],
      "execution_count": 10,
      "outputs": [
        {
          "output_type": "execute_result",
          "data": {
            "text/plain": [
              "0    0.757821\n",
              "1    0.242179\n",
              "Name: income, dtype: float64"
            ]
          },
          "metadata": {},
          "execution_count": 10
        }
      ]
    },
    {
      "cell_type": "markdown",
      "metadata": {
        "id": "UeUYHhsXipCF"
      },
      "source": [
        "Таким образом, имеем задачу **несбалансированной бинарной классификации**. "
      ]
    },
    {
      "cell_type": "markdown",
      "metadata": {
        "id": "wb9oWB7Qasok"
      },
      "source": [
        "## 1.3. Посмотрим общую статистику по числовым данным\n",
        "\n",
        "В этот раз мы не будем останавливаться на подробном исследовании данных, а проанализируем их несколькими быстрыми способами. \n",
        "\n",
        "В первую очередь, посмотрим на статистики загруженной выборки. Для этого вызовем метод `describe()` для наших данных. \n",
        "\n",
        "Для удобства отображения мы транспонируем результат: меняем местами столбцы и строки.\n",
        "\n",
        "*Замечание:* метод `describe()` выводит статистики только для числовых переменных.\n"
      ]
    },
    {
      "cell_type": "code",
      "metadata": {
        "id": "3qsVchVHTOHj",
        "colab": {
          "base_uri": "https://localhost:8080/",
          "height": 175
        },
        "outputId": "5f2cb2f5-3049-4bdb-b1a6-6f68f7e8ac41"
      },
      "source": [
        "training_points.describe().T"
      ],
      "execution_count": 11,
      "outputs": [
        {
          "output_type": "execute_result",
          "data": {
            "text/html": [
              "\n",
              "  <div id=\"df-98c1f99c-88e0-4050-a627-a675448650f1\">\n",
              "    <div class=\"colab-df-container\">\n",
              "      <div>\n",
              "<style scoped>\n",
              "    .dataframe tbody tr th:only-of-type {\n",
              "        vertical-align: middle;\n",
              "    }\n",
              "\n",
              "    .dataframe tbody tr th {\n",
              "        vertical-align: top;\n",
              "    }\n",
              "\n",
              "    .dataframe thead th {\n",
              "        text-align: right;\n",
              "    }\n",
              "</style>\n",
              "<table border=\"1\" class=\"dataframe\">\n",
              "  <thead>\n",
              "    <tr style=\"text-align: right;\">\n",
              "      <th></th>\n",
              "      <th>count</th>\n",
              "      <th>mean</th>\n",
              "      <th>std</th>\n",
              "      <th>min</th>\n",
              "      <th>25%</th>\n",
              "      <th>50%</th>\n",
              "      <th>75%</th>\n",
              "      <th>max</th>\n",
              "    </tr>\n",
              "  </thead>\n",
              "  <tbody>\n",
              "    <tr>\n",
              "      <th>age</th>\n",
              "      <td>24420.0</td>\n",
              "      <td>38.598116</td>\n",
              "      <td>13.638458</td>\n",
              "      <td>17.0</td>\n",
              "      <td>28.0</td>\n",
              "      <td>37.0</td>\n",
              "      <td>48.0</td>\n",
              "      <td>90.0</td>\n",
              "    </tr>\n",
              "    <tr>\n",
              "      <th>capital-gain</th>\n",
              "      <td>23705.0</td>\n",
              "      <td>1051.724067</td>\n",
              "      <td>7199.945441</td>\n",
              "      <td>0.0</td>\n",
              "      <td>0.0</td>\n",
              "      <td>0.0</td>\n",
              "      <td>0.0</td>\n",
              "      <td>99999.0</td>\n",
              "    </tr>\n",
              "    <tr>\n",
              "      <th>capital-loss</th>\n",
              "      <td>23936.0</td>\n",
              "      <td>88.409592</td>\n",
              "      <td>404.466154</td>\n",
              "      <td>0.0</td>\n",
              "      <td>0.0</td>\n",
              "      <td>0.0</td>\n",
              "      <td>0.0</td>\n",
              "      <td>4356.0</td>\n",
              "    </tr>\n",
              "    <tr>\n",
              "      <th>hours-per-week</th>\n",
              "      <td>24420.0</td>\n",
              "      <td>40.386568</td>\n",
              "      <td>12.299621</td>\n",
              "      <td>1.0</td>\n",
              "      <td>40.0</td>\n",
              "      <td>40.0</td>\n",
              "      <td>45.0</td>\n",
              "      <td>99.0</td>\n",
              "    </tr>\n",
              "  </tbody>\n",
              "</table>\n",
              "</div>\n",
              "      <button class=\"colab-df-convert\" onclick=\"convertToInteractive('df-98c1f99c-88e0-4050-a627-a675448650f1')\"\n",
              "              title=\"Convert this dataframe to an interactive table.\"\n",
              "              style=\"display:none;\">\n",
              "        \n",
              "  <svg xmlns=\"http://www.w3.org/2000/svg\" height=\"24px\"viewBox=\"0 0 24 24\"\n",
              "       width=\"24px\">\n",
              "    <path d=\"M0 0h24v24H0V0z\" fill=\"none\"/>\n",
              "    <path d=\"M18.56 5.44l.94 2.06.94-2.06 2.06-.94-2.06-.94-.94-2.06-.94 2.06-2.06.94zm-11 1L8.5 8.5l.94-2.06 2.06-.94-2.06-.94L8.5 2.5l-.94 2.06-2.06.94zm10 10l.94 2.06.94-2.06 2.06-.94-2.06-.94-.94-2.06-.94 2.06-2.06.94z\"/><path d=\"M17.41 7.96l-1.37-1.37c-.4-.4-.92-.59-1.43-.59-.52 0-1.04.2-1.43.59L10.3 9.45l-7.72 7.72c-.78.78-.78 2.05 0 2.83L4 21.41c.39.39.9.59 1.41.59.51 0 1.02-.2 1.41-.59l7.78-7.78 2.81-2.81c.8-.78.8-2.07 0-2.86zM5.41 20L4 18.59l7.72-7.72 1.47 1.35L5.41 20z\"/>\n",
              "  </svg>\n",
              "      </button>\n",
              "      \n",
              "  <style>\n",
              "    .colab-df-container {\n",
              "      display:flex;\n",
              "      flex-wrap:wrap;\n",
              "      gap: 12px;\n",
              "    }\n",
              "\n",
              "    .colab-df-convert {\n",
              "      background-color: #E8F0FE;\n",
              "      border: none;\n",
              "      border-radius: 50%;\n",
              "      cursor: pointer;\n",
              "      display: none;\n",
              "      fill: #1967D2;\n",
              "      height: 32px;\n",
              "      padding: 0 0 0 0;\n",
              "      width: 32px;\n",
              "    }\n",
              "\n",
              "    .colab-df-convert:hover {\n",
              "      background-color: #E2EBFA;\n",
              "      box-shadow: 0px 1px 2px rgba(60, 64, 67, 0.3), 0px 1px 3px 1px rgba(60, 64, 67, 0.15);\n",
              "      fill: #174EA6;\n",
              "    }\n",
              "\n",
              "    [theme=dark] .colab-df-convert {\n",
              "      background-color: #3B4455;\n",
              "      fill: #D2E3FC;\n",
              "    }\n",
              "\n",
              "    [theme=dark] .colab-df-convert:hover {\n",
              "      background-color: #434B5C;\n",
              "      box-shadow: 0px 1px 3px 1px rgba(0, 0, 0, 0.15);\n",
              "      filter: drop-shadow(0px 1px 2px rgba(0, 0, 0, 0.3));\n",
              "      fill: #FFFFFF;\n",
              "    }\n",
              "  </style>\n",
              "\n",
              "      <script>\n",
              "        const buttonEl =\n",
              "          document.querySelector('#df-98c1f99c-88e0-4050-a627-a675448650f1 button.colab-df-convert');\n",
              "        buttonEl.style.display =\n",
              "          google.colab.kernel.accessAllowed ? 'block' : 'none';\n",
              "\n",
              "        async function convertToInteractive(key) {\n",
              "          const element = document.querySelector('#df-98c1f99c-88e0-4050-a627-a675448650f1');\n",
              "          const dataTable =\n",
              "            await google.colab.kernel.invokeFunction('convertToInteractive',\n",
              "                                                     [key], {});\n",
              "          if (!dataTable) return;\n",
              "\n",
              "          const docLinkHtml = 'Like what you see? Visit the ' +\n",
              "            '<a target=\"_blank\" href=https://colab.research.google.com/notebooks/data_table.ipynb>data table notebook</a>'\n",
              "            + ' to learn more about interactive tables.';\n",
              "          element.innerHTML = '';\n",
              "          dataTable['output_type'] = 'display_data';\n",
              "          await google.colab.output.renderOutput(dataTable, element);\n",
              "          const docLink = document.createElement('div');\n",
              "          docLink.innerHTML = docLinkHtml;\n",
              "          element.appendChild(docLink);\n",
              "        }\n",
              "      </script>\n",
              "    </div>\n",
              "  </div>\n",
              "  "
            ],
            "text/plain": [
              "                  count         mean          std  ...   50%   75%      max\n",
              "age             24420.0    38.598116    13.638458  ...  37.0  48.0     90.0\n",
              "capital-gain    23705.0  1051.724067  7199.945441  ...   0.0   0.0  99999.0\n",
              "capital-loss    23936.0    88.409592   404.466154  ...   0.0   0.0   4356.0\n",
              "hours-per-week  24420.0    40.386568    12.299621  ...  40.0  45.0     99.0\n",
              "\n",
              "[4 rows x 8 columns]"
            ]
          },
          "metadata": {},
          "execution_count": 11
        }
      ]
    },
    {
      "cell_type": "markdown",
      "metadata": {
        "id": "frrjCG08biUq"
      },
      "source": [
        "\n",
        "Обратим внимание на общие статистики показателей в данных:\n",
        "* **count** -- количество значений, которые не являются пропущенными (`NaN`);\n",
        "* **mean**, **std** -- среднее и разброс данных в соответствующем поле;\n",
        "* остальные статистики -- минимальное и максимальное значения, и квантили."
      ]
    },
    {
      "cell_type": "markdown",
      "metadata": {
        "id": "mrKWZfGqo4tt"
      },
      "source": [
        "**Упражнение.** Посмотрите на гистограммы призаков в таблице `training_points` с помощью метода `hist()`, установите размер картинки `figsize=(12,8)`. \n",
        "\n",
        "*Подсказка: замените #YOUR_CODE_HERE на правильный код.*"
      ]
    },
    {
      "cell_type": "code",
      "metadata": {
        "id": "-dkUNB3honuW",
        "colab": {
          "base_uri": "https://localhost:8080/",
          "height": 499
        },
        "outputId": "af242a35-8dca-455b-e6e8-7c5945567697"
      },
      "source": [
        "training_points.hist(figsize=(12,8));"
      ],
      "execution_count": 12,
      "outputs": [
        {
          "output_type": "display_data",
          "data": {
            "image/png": "[encoded data removed]",
            "text/plain": [
              "<Figure size 864x576 with 4 Axes>"
            ]
          },
          "metadata": {
            "needs_background": "light"
          }
        }
      ]
    },
    {
      "cell_type": "markdown",
      "metadata": {
        "id": "Q2UidrVYDVC8"
      },
      "source": [
        "Что мы можем увидеть из двух результатов?\n",
        "* Числовых переменных в исходных данных только 4;\n",
        "* Возраст пользователя варьируется в диапазоне от 17 до 90 лет и в среднем составляет 39 лет;\n",
        "* Видим пропуски в признаках capital-gain и capital-loss (значение count меньше размера данных). По гистограмме можно заметить, что большое количество значений в этих признаках - это просто нули;"
      ]
    },
    {
      "cell_type": "markdown",
      "metadata": {
        "id": "Y8tSidMjcZDb"
      },
      "source": [
        "# 2. Обработать данные перед обучением модели"
      ]
    },
    {
      "cell_type": "markdown",
      "metadata": {
        "id": "bELiiw08d6d2"
      },
      "source": [
        "## 2.1. Проверяем данные на наличие пропусков и типов переменных\n",
        "\n",
        "**Упражнение.** Начнем с проверки общей информации о данных. Для того чтобы это сделать, нужно вызвать у переменной метод `info()`.\n",
        "\n",
        "*Подсказка: замените #YOUR_CODE_HERE на правильный код.*"
      ]
    },
    {
      "cell_type": "code",
      "metadata": {
        "id": "uWw94acacZY0",
        "colab": {
          "base_uri": "https://localhost:8080/"
        },
        "outputId": "c06e5788-55d8-46e9-c420-224c22adb5d2"
      },
      "source": [
        "training_points.info()"
      ],
      "execution_count": 13,
      "outputs": [
        {
          "output_type": "stream",
          "name": "stdout",
          "text": [
            "<class 'pandas.core.frame.DataFrame'>\n",
            "RangeIndex: 24420 entries, 0 to 24419\n",
            "Data columns (total 12 columns):\n",
            " #   Column          Non-Null Count  Dtype  \n",
            "---  ------          --------------  -----  \n",
            " 0   age             24420 non-null  int64  \n",
            " 1   workclass       23223 non-null  object \n",
            " 2   education       23443 non-null  object \n",
            " 3   marital-status  24420 non-null  object \n",
            " 4   occupation      24420 non-null  object \n",
            " 5   relationship    24420 non-null  object \n",
            " 6   race            24420 non-null  object \n",
            " 7   sex             24420 non-null  object \n",
            " 8   capital-gain    23705 non-null  float64\n",
            " 9   capital-loss    23936 non-null  float64\n",
            " 10  hours-per-week  24420 non-null  int64  \n",
            " 11  native-country  24420 non-null  object \n",
            "dtypes: float64(2), int64(2), object(8)\n",
            "memory usage: 2.2+ MB\n"
          ]
        }
      ]
    },
    {
      "cell_type": "markdown",
      "metadata": {
        "id": "PqNXnlFTpt7Q"
      },
      "source": [
        "Типы в наших данных:\n",
        "* 8 признаков типа **object** - обычно это строковые значения;\n",
        "* 3 признака типа **int64** - целочисленные значения;\n",
        "* 2 признака типа **float64** - числа с плавающей запятой. "
      ]
    },
    {
      "cell_type": "markdown",
      "metadata": {
        "id": "LA9sLCkDZsqX"
      },
      "source": [
        "Кроме этого, мы видим, что признаки *workclass, education, capital-gain и capital-loss* имеют пропуски в данных.\n",
        "\n",
        "## 2.2 Обработка пропусков в данных\n",
        "\n",
        "Далеко не все алгоритмы умеют работать с пропусками в данных. Кроме этого, удачно заполнив пропуски, мы сможем лучше восстановить распределение данных, а значит лучше построить моделей. \n",
        "\n",
        "Самые популярные методы для обработки пропусков:\n",
        "- Удаление значений с пропусками (не желательно при большом количестве пропусков, потому что теряются данные);\n",
        "- Заполнение средним/медианным значением;\n",
        "- Заполненние самым частым значением;\n",
        "- Заполнение случайным значением.\n",
        "\n",
        "**Важно:** тестовую выборку мы всегда обрабатываем также, как и обучающую выборку. "
      ]
    },
    {
      "cell_type": "markdown",
      "metadata": {
        "id": "U-JNSWkAbFUp"
      },
      "source": [
        "Ранее мы заметили, что самые частые значения в признаках **capital-loss** и **capital-gain** являются 0, поэтому для этих признаков мы не будем придумывать что-то более сложное и заполним пропуски нулями. Для этого используем метод `fillna()` с параметром 0. "
      ]
    },
    {
      "cell_type": "code",
      "metadata": {
        "id": "_PTZtLrzbE4h"
      },
      "source": [
        "training_points['capital-loss'] = training_points['capital-loss'].fillna(0)\n",
        "training_points['capital-gain'] = training_points['capital-gain'].fillna(0)"
      ],
      "execution_count": 14,
      "outputs": []
    },
    {
      "cell_type": "markdown",
      "metadata": {
        "id": "WONBs7YvRoL_"
      },
      "source": [
        "Сделаем то же самое для тестовой выборки:"
      ]
    },
    {
      "cell_type": "code",
      "metadata": {
        "id": "hj-bIyDWRqpO"
      },
      "source": [
        "test_points['capital-loss'] = test_points['capital-loss'].fillna(0)\n",
        "test_points['capital-gain'] = test_points['capital-gain'].fillna(0)"
      ],
      "execution_count": 15,
      "outputs": []
    },
    {
      "cell_type": "markdown",
      "metadata": {
        "id": "wtuT1tCedQEq"
      },
      "source": [
        "*Напоминание*:\n",
        "* бинарные признаки - это признаки, которые могут принимать только два значения, например, пол.\n",
        "* категориальные признаки - это такие признаки, которые определяют факт принадлежности объекта к некоторой категории. Например, уровень образования у человека, цвет у машины, семейство у животных и т.д.\n",
        "* количественные признаки - это признаки, которые не являются бинарными или категориальными :)\n",
        "\n",
        "\n",
        "Признаки **workclass** и **education** являются категориальными признаками, поэтому методы заполнения средними или медианными значениями в данном случае просто не работают. Для простоты снова воспользуемся заполнением наиболее частым значением. Для этого сначала определим их в наших признаках, использовав комбинацию методов `value_counts()` и `head()`."
      ]
    },
    {
      "cell_type": "code",
      "metadata": {
        "id": "e37oK2iIoECy",
        "colab": {
          "base_uri": "https://localhost:8080/"
        },
        "outputId": "aacfccfd-fe43-4e18-f937-e576f0ede4fa"
      },
      "source": [
        "training_points['workclass'].value_counts(True).head()"
      ],
      "execution_count": 16,
      "outputs": [
        {
          "output_type": "execute_result",
          "data": {
            "text/plain": [
              "Private             0.696766\n",
              "Self-emp-not-inc    0.077595\n",
              "Local-gov           0.065323\n",
              "?                   0.055247\n",
              "State-gov           0.040348\n",
              "Name: workclass, dtype: float64"
            ]
          },
          "metadata": {},
          "execution_count": 16
        }
      ]
    },
    {
      "cell_type": "code",
      "metadata": {
        "id": "1WqmG6k0oMkj",
        "colab": {
          "base_uri": "https://localhost:8080/"
        },
        "outputId": "b161ee1e-3b6e-4781-8f26-762858c9acfd"
      },
      "source": [
        "training_points['education'].value_counts(True).head()"
      ],
      "execution_count": 17,
      "outputs": [
        {
          "output_type": "execute_result",
          "data": {
            "text/plain": [
              "HS-grad         0.322484\n",
              "Some-college    0.223137\n",
              "Bachelors       0.165550\n",
              "Masters         0.052510\n",
              "Assoc-voc       0.042785\n",
              "Name: education, dtype: float64"
            ]
          },
          "metadata": {},
          "execution_count": 17
        }
      ]
    },
    {
      "cell_type": "markdown",
      "metadata": {
        "id": "pCmBSBylob1h"
      },
      "source": [
        "Наиболее частое значение признака **workclass** - Private, признака **education** - HS-grad. \n",
        "\n",
        "Теперь явно заполним пропуски:"
      ]
    },
    {
      "cell_type": "code",
      "metadata": {
        "id": "aACIVqSOoRkz"
      },
      "source": [
        "training_points['workclass'] = training_points['workclass'].fillna('Private')\n",
        "training_points['education'] = training_points['education'].fillna('HS-grad')"
      ],
      "execution_count": 18,
      "outputs": []
    },
    {
      "cell_type": "markdown",
      "metadata": {
        "id": "dVzdpK0ARwYM"
      },
      "source": [
        "Сделаем то же самое для тестовой выборки:"
      ]
    },
    {
      "cell_type": "code",
      "metadata": {
        "id": "-UWZxaU8Ry3d"
      },
      "source": [
        "test_points['workclass'] = test_points['workclass'].fillna('Private')\n",
        "test_points['education'] = test_points['education'].fillna('HS-grad')"
      ],
      "execution_count": 19,
      "outputs": []
    },
    {
      "cell_type": "markdown",
      "metadata": {
        "id": "DqAWXAZbCWHJ"
      },
      "source": [
        "*Замечание:* для категориальных признаков пропущенные значения также можно заполнить, создав новую специальную категорию для них. Обратите внимание на 4-ое значение наиболее частой категории в признаке **workclass**. "
      ]
    },
    {
      "cell_type": "markdown",
      "metadata": {
        "id": "LuWI69Ta2tFI"
      },
      "source": [
        "## 2.3 Предобработка категориальных переменных"
      ]
    },
    {
      "cell_type": "markdown",
      "metadata": {
        "id": "LczY5qg93YpH"
      },
      "source": [
        "В данных 8 столбцов являются категориальными признаками. При чём в нашей задаче эти признаки **текстовые**. Машине сложно обрабатывать текстовые признаки, поэтому нам необходимо закодировать их, то есть преобразовать в числовые. \n",
        "\n",
        "Для начала необходимо выделить категорильные признаки:"
      ]
    },
    {
      "cell_type": "code",
      "metadata": {
        "id": "mOVzv1WQ3jt9"
      },
      "source": [
        "categorical_features = ['workclass', 'education', 'marital-status', \n",
        "                        'occupation', 'relationship', 'race', 'sex', \n",
        "                        'native-country']\n",
        "\n",
        "non_categorical_features = ['age', 'capital-gain', 'capital-loss', \n",
        "                            'hours-per-week']"
      ],
      "execution_count": 20,
      "outputs": []
    },
    {
      "cell_type": "markdown",
      "metadata": {
        "id": "K_zOsUG4INUK"
      },
      "source": [
        "Посмотрим на столбцы категориальных переменных:"
      ]
    },
    {
      "cell_type": "code",
      "metadata": {
        "id": "z92yPN_bHfsg",
        "colab": {
          "base_uri": "https://localhost:8080/",
          "height": 206
        },
        "outputId": "246ba576-19c6-40b1-b216-f2a3572842d6"
      },
      "source": [
        "training_points[categorical_features].head()"
      ],
      "execution_count": 21,
      "outputs": [
        {
          "output_type": "execute_result",
          "data": {
            "text/html": [
              "\n",
              "  <div id=\"df-4cf618b6-4b5c-4e9d-9bf1-de90d9857ea7\">\n",
              "    <div class=\"colab-df-container\">\n",
              "      <div>\n",
              "<style scoped>\n",
              "    .dataframe tbody tr th:only-of-type {\n",
              "        vertical-align: middle;\n",
              "    }\n",
              "\n",
              "    .dataframe tbody tr th {\n",
              "        vertical-align: top;\n",
              "    }\n",
              "\n",
              "    .dataframe thead th {\n",
              "        text-align: right;\n",
              "    }\n",
              "</style>\n",
              "<table border=\"1\" class=\"dataframe\">\n",
              "  <thead>\n",
              "    <tr style=\"text-align: right;\">\n",
              "      <th></th>\n",
              "      <th>workclass</th>\n",
              "      <th>education</th>\n",
              "      <th>marital-status</th>\n",
              "      <th>occupation</th>\n",
              "      <th>relationship</th>\n",
              "      <th>race</th>\n",
              "      <th>sex</th>\n",
              "      <th>native-country</th>\n",
              "    </tr>\n",
              "  </thead>\n",
              "  <tbody>\n",
              "    <tr>\n",
              "      <th>0</th>\n",
              "      <td>Private</td>\n",
              "      <td>HS-grad</td>\n",
              "      <td>Married-civ-spouse</td>\n",
              "      <td>Craft-repair</td>\n",
              "      <td>Husband</td>\n",
              "      <td>White</td>\n",
              "      <td>Male</td>\n",
              "      <td>United-States</td>\n",
              "    </tr>\n",
              "    <tr>\n",
              "      <th>1</th>\n",
              "      <td>Private</td>\n",
              "      <td>HS-grad</td>\n",
              "      <td>Married-civ-spouse</td>\n",
              "      <td>Machine-op-inspct</td>\n",
              "      <td>Husband</td>\n",
              "      <td>White</td>\n",
              "      <td>Male</td>\n",
              "      <td>United-States</td>\n",
              "    </tr>\n",
              "    <tr>\n",
              "      <th>2</th>\n",
              "      <td>Private</td>\n",
              "      <td>11th</td>\n",
              "      <td>Married-civ-spouse</td>\n",
              "      <td>Other-service</td>\n",
              "      <td>Husband</td>\n",
              "      <td>Black</td>\n",
              "      <td>Male</td>\n",
              "      <td>United-States</td>\n",
              "    </tr>\n",
              "    <tr>\n",
              "      <th>3</th>\n",
              "      <td>Private</td>\n",
              "      <td>Bachelors</td>\n",
              "      <td>Separated</td>\n",
              "      <td>Adm-clerical</td>\n",
              "      <td>Unmarried</td>\n",
              "      <td>White</td>\n",
              "      <td>Male</td>\n",
              "      <td>United-States</td>\n",
              "    </tr>\n",
              "    <tr>\n",
              "      <th>4</th>\n",
              "      <td>Private</td>\n",
              "      <td>Bachelors</td>\n",
              "      <td>Divorced</td>\n",
              "      <td>Sales</td>\n",
              "      <td>Not-in-family</td>\n",
              "      <td>White</td>\n",
              "      <td>Female</td>\n",
              "      <td>United-States</td>\n",
              "    </tr>\n",
              "  </tbody>\n",
              "</table>\n",
              "</div>\n",
              "      <button class=\"colab-df-convert\" onclick=\"convertToInteractive('df-4cf618b6-4b5c-4e9d-9bf1-de90d9857ea7')\"\n",
              "              title=\"Convert this dataframe to an interactive table.\"\n",
              "              style=\"display:none;\">\n",
              "        \n",
              "  <svg xmlns=\"http://www.w3.org/2000/svg\" height=\"24px\"viewBox=\"0 0 24 24\"\n",
              "       width=\"24px\">\n",
              "    <path d=\"M0 0h24v24H0V0z\" fill=\"none\"/>\n",
              "    <path d=\"M18.56 5.44l.94 2.06.94-2.06 2.06-.94-2.06-.94-.94-2.06-.94 2.06-2.06.94zm-11 1L8.5 8.5l.94-2.06 2.06-.94-2.06-.94L8.5 2.5l-.94 2.06-2.06.94zm10 10l.94 2.06.94-2.06 2.06-.94-2.06-.94-.94-2.06-.94 2.06-2.06.94z\"/><path d=\"M17.41 7.96l-1.37-1.37c-.4-.4-.92-.59-1.43-.59-.52 0-1.04.2-1.43.59L10.3 9.45l-7.72 7.72c-.78.78-.78 2.05 0 2.83L4 21.41c.39.39.9.59 1.41.59.51 0 1.02-.2 1.41-.59l7.78-7.78 2.81-2.81c.8-.78.8-2.07 0-2.86zM5.41 20L4 18.59l7.72-7.72 1.47 1.35L5.41 20z\"/>\n",
              "  </svg>\n",
              "      </button>\n",
              "      \n",
              "  <style>\n",
              "    .colab-df-container {\n",
              "      display:flex;\n",
              "      flex-wrap:wrap;\n",
              "      gap: 12px;\n",
              "    }\n",
              "\n",
              "    .colab-df-convert {\n",
              "      background-color: #E8F0FE;\n",
              "      border: none;\n",
              "      border-radius: 50%;\n",
              "      cursor: pointer;\n",
              "      display: none;\n",
              "      fill: #1967D2;\n",
              "      height: 32px;\n",
              "      padding: 0 0 0 0;\n",
              "      width: 32px;\n",
              "    }\n",
              "\n",
              "    .colab-df-convert:hover {\n",
              "      background-color: #E2EBFA;\n",
              "      box-shadow: 0px 1px 2px rgba(60, 64, 67, 0.3), 0px 1px 3px 1px rgba(60, 64, 67, 0.15);\n",
              "      fill: #174EA6;\n",
              "    }\n",
              "\n",
              "    [theme=dark] .colab-df-convert {\n",
              "      background-color: #3B4455;\n",
              "      fill: #D2E3FC;\n",
              "    }\n",
              "\n",
              "    [theme=dark] .colab-df-convert:hover {\n",
              "      background-color: #434B5C;\n",
              "      box-shadow: 0px 1px 3px 1px rgba(0, 0, 0, 0.15);\n",
              "      filter: drop-shadow(0px 1px 2px rgba(0, 0, 0, 0.3));\n",
              "      fill: #FFFFFF;\n",
              "    }\n",
              "  </style>\n",
              "\n",
              "      <script>\n",
              "        const buttonEl =\n",
              "          document.querySelector('#df-4cf618b6-4b5c-4e9d-9bf1-de90d9857ea7 button.colab-df-convert');\n",
              "        buttonEl.style.display =\n",
              "          google.colab.kernel.accessAllowed ? 'block' : 'none';\n",
              "\n",
              "        async function convertToInteractive(key) {\n",
              "          const element = document.querySelector('#df-4cf618b6-4b5c-4e9d-9bf1-de90d9857ea7');\n",
              "          const dataTable =\n",
              "            await google.colab.kernel.invokeFunction('convertToInteractive',\n",
              "                                                     [key], {});\n",
              "          if (!dataTable) return;\n",
              "\n",
              "          const docLinkHtml = 'Like what you see? Visit the ' +\n",
              "            '<a target=\"_blank\" href=https://colab.research.google.com/notebooks/data_table.ipynb>data table notebook</a>'\n",
              "            + ' to learn more about interactive tables.';\n",
              "          element.innerHTML = '';\n",
              "          dataTable['output_type'] = 'display_data';\n",
              "          await google.colab.output.renderOutput(dataTable, element);\n",
              "          const docLink = document.createElement('div');\n",
              "          docLink.innerHTML = docLinkHtml;\n",
              "          element.appendChild(docLink);\n",
              "        }\n",
              "      </script>\n",
              "    </div>\n",
              "  </div>\n",
              "  "
            ],
            "text/plain": [
              "  workclass  education      marital-status  ...   race     sex native-country\n",
              "0   Private    HS-grad  Married-civ-spouse  ...  White    Male  United-States\n",
              "1   Private    HS-grad  Married-civ-spouse  ...  White    Male  United-States\n",
              "2   Private       11th  Married-civ-spouse  ...  Black    Male  United-States\n",
              "3   Private  Bachelors           Separated  ...  White    Male  United-States\n",
              "4   Private  Bachelors            Divorced  ...  White  Female  United-States\n",
              "\n",
              "[5 rows x 8 columns]"
            ]
          },
          "metadata": {},
          "execution_count": 21
        }
      ]
    },
    {
      "cell_type": "markdown",
      "metadata": {
        "id": "JV1YC8_VGkj0"
      },
      "source": [
        "Мы рассмотрим два популярных метода кодирования категориальных признаков:\n",
        "* Label Encoding, которому соответствует класс `LabelEncoder()` из библиотеки **sklearn**\n",
        "* One Hot Encoding, которому соответствует класс `OneHotEncoder()` из библиотеки **sklearn**"
      ]
    },
    {
      "cell_type": "markdown",
      "metadata": {
        "id": "rU7NAImLB4pW"
      },
      "source": [
        "**Label Encoding**\n",
        "\n",
        "Первый способ кодирования категориальных признаков заключается в том, чтобы просто присвоить каждой категории уникальный номер, и заменить значения признаков на соответствующие номера. При таком способе кодирования количество признаков не меняется.\n",
        "\n",
        "Например, в колонке Numerical записан результат Label Encoding:\n",
        "\n",
        "<a href=\"https://drive.google.com/uc?id=1G-FeQGfSRYMiWQCFBKj7x93IP8Hr_u_g\n",
        "\" target=\"_blank\"><img src=\"https://drive.google.com/uc?id=1G-FeQGfSRYMiWQCFBKj7x93IP8Hr_u_g\" \n",
        "alt=\"IMAGE ALT TEXT HERE\" width=\"360\" border=\"0\" /></a>\n",
        "\n",
        "Мы сделали следующее отображение:\n",
        "* Human перевели в 1;\n",
        "* Penguin перевели в 2; \n",
        "* Octopus перевели в 3;\n",
        "* Alien перевели в 4.\n",
        "\n",
        "\n",
        "\n",
        "Мы уже имели дело с таким способом кодирования переменных на первом и втором семинаре, но кодировали признаки не самостоятельно, а использовали подготовленные данные. "
      ]
    },
    {
      "cell_type": "markdown",
      "metadata": {
        "id": "bnxPXWrSWvKl"
      },
      "source": [
        "**Дополнительная часть. Код для Label Encoding**\n",
        "\n",
        "Импортируем метод из библиотеки **sklearn**:"
      ]
    },
    {
      "cell_type": "code",
      "metadata": {
        "id": "7azZpi4UW4Is"
      },
      "source": [
        "from sklearn.preprocessing import LabelEncoder"
      ],
      "execution_count": 22,
      "outputs": []
    },
    {
      "cell_type": "markdown",
      "metadata": {
        "id": "zGMBsIy1W7fT"
      },
      "source": [
        "Чтобы воспользоваться данным классом, необходимо сперва создать прототип кодировщика: "
      ]
    },
    {
      "cell_type": "code",
      "metadata": {
        "id": "4K_zKpD-WVat"
      },
      "source": [
        "label_encoder = LabelEncoder()"
      ],
      "execution_count": 23,
      "outputs": []
    },
    {
      "cell_type": "markdown",
      "metadata": {
        "id": "hO9Sb5NCXAID"
      },
      "source": [
        "Так как нам нужно закодировать сразу список признаков, мы будем делать это в цикле. Рассматриваем каждый категориальный признак из списка `categorical_features` и далее:\n",
        "\n",
        "1. Методу `fit_transform()` передаем в качестве аргумента признак **обучающей** выборки\n",
        "2. Методу `transform()` передаем в качестве аргумента признак **тестовой** выборки"
      ]
    },
    {
      "cell_type": "code",
      "metadata": {
        "id": "tO_CPuksXEUG"
      },
      "source": [
        "for feature in categorical_features:\n",
        "    training_points[feature] = label_encoder.fit_transform(training_points[feature])\n",
        "    test_points[feature] = label_encoder.transform(test_points[feature])"
      ],
      "execution_count": 24,
      "outputs": []
    },
    {
      "cell_type": "code",
      "metadata": {
        "id": "2vwfdRf9XKDi",
        "colab": {
          "base_uri": "https://localhost:8080/",
          "height": 206
        },
        "outputId": "fb8468af-a90a-41b9-f555-cbd174f7ca1b"
      },
      "source": [
        "training_points.head()"
      ],
      "execution_count": 25,
      "outputs": [
        {
          "output_type": "execute_result",
          "data": {
            "text/html": [
              "\n",
              "  <div id=\"df-60ea5640-71c4-4d61-932b-a9c33caa38b1\">\n",
              "    <div class=\"colab-df-container\">\n",
              "      <div>\n",
              "<style scoped>\n",
              "    .dataframe tbody tr th:only-of-type {\n",
              "        vertical-align: middle;\n",
              "    }\n",
              "\n",
              "    .dataframe tbody tr th {\n",
              "        vertical-align: top;\n",
              "    }\n",
              "\n",
              "    .dataframe thead th {\n",
              "        text-align: right;\n",
              "    }\n",
              "</style>\n",
              "<table border=\"1\" class=\"dataframe\">\n",
              "  <thead>\n",
              "    <tr style=\"text-align: right;\">\n",
              "      <th></th>\n",
              "      <th>age</th>\n",
              "      <th>workclass</th>\n",
              "      <th>education</th>\n",
              "      <th>marital-status</th>\n",
              "      <th>occupation</th>\n",
              "      <th>relationship</th>\n",
              "      <th>race</th>\n",
              "      <th>sex</th>\n",
              "      <th>capital-gain</th>\n",
              "      <th>capital-loss</th>\n",
              "      <th>hours-per-week</th>\n",
              "      <th>native-country</th>\n",
              "    </tr>\n",
              "  </thead>\n",
              "  <tbody>\n",
              "    <tr>\n",
              "      <th>0</th>\n",
              "      <td>49</td>\n",
              "      <td>4</td>\n",
              "      <td>11</td>\n",
              "      <td>2</td>\n",
              "      <td>3</td>\n",
              "      <td>0</td>\n",
              "      <td>4</td>\n",
              "      <td>1</td>\n",
              "      <td>0.0</td>\n",
              "      <td>0.0</td>\n",
              "      <td>40</td>\n",
              "      <td>39</td>\n",
              "    </tr>\n",
              "    <tr>\n",
              "      <th>1</th>\n",
              "      <td>27</td>\n",
              "      <td>4</td>\n",
              "      <td>11</td>\n",
              "      <td>2</td>\n",
              "      <td>7</td>\n",
              "      <td>0</td>\n",
              "      <td>4</td>\n",
              "      <td>1</td>\n",
              "      <td>0.0</td>\n",
              "      <td>0.0</td>\n",
              "      <td>45</td>\n",
              "      <td>39</td>\n",
              "    </tr>\n",
              "    <tr>\n",
              "      <th>2</th>\n",
              "      <td>44</td>\n",
              "      <td>4</td>\n",
              "      <td>1</td>\n",
              "      <td>2</td>\n",
              "      <td>8</td>\n",
              "      <td>0</td>\n",
              "      <td>2</td>\n",
              "      <td>1</td>\n",
              "      <td>0.0</td>\n",
              "      <td>0.0</td>\n",
              "      <td>60</td>\n",
              "      <td>39</td>\n",
              "    </tr>\n",
              "    <tr>\n",
              "      <th>3</th>\n",
              "      <td>59</td>\n",
              "      <td>4</td>\n",
              "      <td>9</td>\n",
              "      <td>5</td>\n",
              "      <td>1</td>\n",
              "      <td>4</td>\n",
              "      <td>4</td>\n",
              "      <td>1</td>\n",
              "      <td>0.0</td>\n",
              "      <td>0.0</td>\n",
              "      <td>60</td>\n",
              "      <td>39</td>\n",
              "    </tr>\n",
              "    <tr>\n",
              "      <th>4</th>\n",
              "      <td>54</td>\n",
              "      <td>4</td>\n",
              "      <td>9</td>\n",
              "      <td>0</td>\n",
              "      <td>12</td>\n",
              "      <td>1</td>\n",
              "      <td>4</td>\n",
              "      <td>0</td>\n",
              "      <td>0.0</td>\n",
              "      <td>1408.0</td>\n",
              "      <td>38</td>\n",
              "      <td>39</td>\n",
              "    </tr>\n",
              "  </tbody>\n",
              "</table>\n",
              "</div>\n",
              "      <button class=\"colab-df-convert\" onclick=\"convertToInteractive('df-60ea5640-71c4-4d61-932b-a9c33caa38b1')\"\n",
              "              title=\"Convert this dataframe to an interactive table.\"\n",
              "              style=\"display:none;\">\n",
              "        \n",
              "  <svg xmlns=\"http://www.w3.org/2000/svg\" height=\"24px\"viewBox=\"0 0 24 24\"\n",
              "       width=\"24px\">\n",
              "    <path d=\"M0 0h24v24H0V0z\" fill=\"none\"/>\n",
              "    <path d=\"M18.56 5.44l.94 2.06.94-2.06 2.06-.94-2.06-.94-.94-2.06-.94 2.06-2.06.94zm-11 1L8.5 8.5l.94-2.06 2.06-.94-2.06-.94L8.5 2.5l-.94 2.06-2.06.94zm10 10l.94 2.06.94-2.06 2.06-.94-2.06-.94-.94-2.06-.94 2.06-2.06.94z\"/><path d=\"M17.41 7.96l-1.37-1.37c-.4-.4-.92-.59-1.43-.59-.52 0-1.04.2-1.43.59L10.3 9.45l-7.72 7.72c-.78.78-.78 2.05 0 2.83L4 21.41c.39.39.9.59 1.41.59.51 0 1.02-.2 1.41-.59l7.78-7.78 2.81-2.81c.8-.78.8-2.07 0-2.86zM5.41 20L4 18.59l7.72-7.72 1.47 1.35L5.41 20z\"/>\n",
              "  </svg>\n",
              "      </button>\n",
              "      \n",
              "  <style>\n",
              "    .colab-df-container {\n",
              "      display:flex;\n",
              "      flex-wrap:wrap;\n",
              "      gap: 12px;\n",
              "    }\n",
              "\n",
              "    .colab-df-convert {\n",
              "      background-color: #E8F0FE;\n",
              "      border: none;\n",
              "      border-radius: 50%;\n",
              "      cursor: pointer;\n",
              "      display: none;\n",
              "      fill: #1967D2;\n",
              "      height: 32px;\n",
              "      padding: 0 0 0 0;\n",
              "      width: 32px;\n",
              "    }\n",
              "\n",
              "    .colab-df-convert:hover {\n",
              "      background-color: #E2EBFA;\n",
              "      box-shadow: 0px 1px 2px rgba(60, 64, 67, 0.3), 0px 1px 3px 1px rgba(60, 64, 67, 0.15);\n",
              "      fill: #174EA6;\n",
              "    }\n",
              "\n",
              "    [theme=dark] .colab-df-convert {\n",
              "      background-color: #3B4455;\n",
              "      fill: #D2E3FC;\n",
              "    }\n",
              "\n",
              "    [theme=dark] .colab-df-convert:hover {\n",
              "      background-color: #434B5C;\n",
              "      box-shadow: 0px 1px 3px 1px rgba(0, 0, 0, 0.15);\n",
              "      filter: drop-shadow(0px 1px 2px rgba(0, 0, 0, 0.3));\n",
              "      fill: #FFFFFF;\n",
              "    }\n",
              "  </style>\n",
              "\n",
              "      <script>\n",
              "        const buttonEl =\n",
              "          document.querySelector('#df-60ea5640-71c4-4d61-932b-a9c33caa38b1 button.colab-df-convert');\n",
              "        buttonEl.style.display =\n",
              "          google.colab.kernel.accessAllowed ? 'block' : 'none';\n",
              "\n",
              "        async function convertToInteractive(key) {\n",
              "          const element = document.querySelector('#df-60ea5640-71c4-4d61-932b-a9c33caa38b1');\n",
              "          const dataTable =\n",
              "            await google.colab.kernel.invokeFunction('convertToInteractive',\n",
              "                                                     [key], {});\n",
              "          if (!dataTable) return;\n",
              "\n",
              "          const docLinkHtml = 'Like what you see? Visit the ' +\n",
              "            '<a target=\"_blank\" href=https://colab.research.google.com/notebooks/data_table.ipynb>data table notebook</a>'\n",
              "            + ' to learn more about interactive tables.';\n",
              "          element.innerHTML = '';\n",
              "          dataTable['output_type'] = 'display_data';\n",
              "          await google.colab.output.renderOutput(dataTable, element);\n",
              "          const docLink = document.createElement('div');\n",
              "          docLink.innerHTML = docLinkHtml;\n",
              "          element.appendChild(docLink);\n",
              "        }\n",
              "      </script>\n",
              "    </div>\n",
              "  </div>\n",
              "  "
            ],
            "text/plain": [
              "   age  workclass  education  ...  capital-loss  hours-per-week  native-country\n",
              "0   49          4         11  ...           0.0              40              39\n",
              "1   27          4         11  ...           0.0              45              39\n",
              "2   44          4          1  ...           0.0              60              39\n",
              "3   59          4          9  ...           0.0              60              39\n",
              "4   54          4          9  ...        1408.0              38              39\n",
              "\n",
              "[5 rows x 12 columns]"
            ]
          },
          "metadata": {},
          "execution_count": 25
        }
      ]
    },
    {
      "cell_type": "markdown",
      "metadata": {
        "id": "Jix5ZNaAXMQa"
      },
      "source": [
        "Видим, что количество признаков не поменялось и вместо текстовых значений стоят числовые переменные."
      ]
    },
    {
      "cell_type": "markdown",
      "metadata": {
        "id": "qrrLueZ5GrG3"
      },
      "source": [
        "**One Hot Encoding**\n",
        "\n",
        "Проблема кодирования предыдущим способом в том, что, кодируя категории числами и оставляя их в одном столбце, мы неявно задаем порядок данных. Так в нашем примере Human < Penguin < Octopus < Alien. Хотя на самом деле такой связи нет!\n",
        "\n",
        "Избавить от этой проблемы позволяет One Hot Encoding. В ходе него все категории признаков отображаются в расширенное представление. Его мы и будем использовать для обработки выборки. "
      ]
    },
    {
      "cell_type": "code",
      "metadata": {
        "id": "Lb0enkTDJwVz"
      },
      "source": [
        "from sklearn.preprocessing import OneHotEncoder"
      ],
      "execution_count": 26,
      "outputs": []
    },
    {
      "cell_type": "markdown",
      "metadata": {
        "id": "7tThKoaw-9p5"
      },
      "source": [
        "\n",
        "\n",
        "<a href=\"https://drive.google.com/uc?id=1mBoRFNVQtcPdb31J8DaimQqywyfdI4a8\n",
        "\" target=\"_blank\"><img src=\"https://drive.google.com/uc?id=1mBoRFNVQtcPdb31J8DaimQqywyfdI4a8\" \n",
        "alt=\"IMAGE ALT TEXT HERE\" width=\"800\" border=\"0\" /></a>\n",
        "\n",
        "При таком подходе для каждого категориального признака появляется столько новых колонок, сколько есть возможных категорий (на картинке выше 4 новых переменных). При этом 1 стоит в том случае, если какая-то категория присутствует у выбранного объекта. \n",
        "\n",
        "Можно сразу отметить важный недостаток данного подхода: если категорий будет много у признака, то количество новых колонок может очень сильно вырасти. Это приведет к переполнению памяти или снижению скорости обучения алгоритма. В наших данных категорий не много.\n",
        "\n",
        "Чтобы воспользоваться классом `OneHotEncoder()`, необходимо сперва создать прототип кодировщика:"
      ]
    },
    {
      "cell_type": "code",
      "metadata": {
        "id": "yqya39gTMtRf"
      },
      "source": [
        "onehot_encoder = OneHotEncoder()"
      ],
      "execution_count": 27,
      "outputs": []
    },
    {
      "cell_type": "markdown",
      "metadata": {
        "id": "YmG12fR5UW52"
      },
      "source": [
        "Для данного класса можно передать сразу все переменные, которые содержат категориальные признаки:\n",
        "\n",
        "1. Методу `fit_transform()` передаем в качестве аргумента признаки **обучающей** выборки\n",
        "2. Методу `transform()` передаем в качестве аргумента признаки **тестовой** выборки\n",
        "3. С помощью метода `get_feature_names()` получим список новых названий колонок"
      ]
    },
    {
      "cell_type": "code",
      "metadata": {
        "id": "AagXdR9FM36l",
        "colab": {
          "base_uri": "https://localhost:8080/"
        },
        "outputId": "1fc4415d-5b82-435a-c3d7-594d697bde87"
      },
      "source": [
        "# 'учим' и сразу применяем преобразование к выборке, результат переводим в массив\n",
        "training_points_onehot = onehot_encoder.fit_transform(training_points[categorical_features]).toarray()\n",
        "\n",
        "# применяем полученное преобразование к тестовой выборке, результат переводим в массив\n",
        "test_points_onehot = onehot_encoder.transform(test_points[categorical_features]).toarray()\n",
        "\n",
        "# запишем полученные названия новых колонок в отдельную переменную\n",
        "columns = onehot_encoder.get_feature_names(categorical_features)\n",
        "columns[:10]"
      ],
      "execution_count": 28,
      "outputs": [
        {
          "output_type": "execute_result",
          "data": {
            "text/plain": [
              "array(['workclass_0', 'workclass_1', 'workclass_2', 'workclass_3',\n",
              "       'workclass_4', 'workclass_5', 'workclass_6', 'workclass_7',\n",
              "       'workclass_8', 'education_0'], dtype=object)"
            ]
          },
          "metadata": {},
          "execution_count": 28
        }
      ]
    },
    {
      "cell_type": "markdown",
      "metadata": {
        "id": "ZFuhWnr_UsrJ"
      },
      "source": [
        "Поскольку объект train_onehot (и test_onehot) не являются объектами класса `DataFrame()`, с которым нам проще работать, то явно преобразуем их в этот тип. Для этого передадим значения в класс `DataFrame()` и зададим названия колонок с помощью переменной `columns`."
      ]
    },
    {
      "cell_type": "code",
      "metadata": {
        "id": "Yl3cWbSEUr0R"
      },
      "source": [
        "training_points_onehot = pd.DataFrame(training_points_onehot, columns=columns)\n",
        "test_points_onehot = pd.DataFrame(test_points_onehot, columns=columns)"
      ],
      "execution_count": 29,
      "outputs": []
    },
    {
      "cell_type": "markdown",
      "metadata": {
        "id": "TR4dzFeJXUv9"
      },
      "source": [
        "И наконец, запишем в новую переменную полученный результат, удалив все незакодированные категориальные признаки из новой таблицы. "
      ]
    },
    {
      "cell_type": "code",
      "metadata": {
        "id": "HK13EuhBXUBy"
      },
      "source": [
        "# соединяем новую табличку с исходной\n",
        "training_points_new = pd.concat([training_points, training_points_onehot], axis=1)\n",
        "test_points_new = pd.concat([test_points, test_points_onehot], axis=1)\n",
        "\n",
        "# удаляем старые категориальные признаки\n",
        "training_points_new = training_points_new.drop(columns=categorical_features)\n",
        "test_points_new = test_points_new.drop(columns=categorical_features)"
      ],
      "execution_count": 30,
      "outputs": []
    },
    {
      "cell_type": "code",
      "metadata": {
        "id": "-kGtHQVbZF7C",
        "colab": {
          "base_uri": "https://localhost:8080/",
          "height": 334
        },
        "outputId": "3c9a411d-7b6b-4c07-a0ad-1b8033514658"
      },
      "source": [
        "training_points_new.head()"
      ],
      "execution_count": 31,
      "outputs": [
        {
          "output_type": "execute_result",
          "data": {
            "text/html": [
              "\n",
              "  <div id=\"df-12843aea-875d-4577-a903-dfb81d135cb8\">\n",
              "    <div class=\"colab-df-container\">\n",
              "      <div>\n",
              "<style scoped>\n",
              "    .dataframe tbody tr th:only-of-type {\n",
              "        vertical-align: middle;\n",
              "    }\n",
              "\n",
              "    .dataframe tbody tr th {\n",
              "        vertical-align: top;\n",
              "    }\n",
              "\n",
              "    .dataframe thead th {\n",
              "        text-align: right;\n",
              "    }\n",
              "</style>\n",
              "<table border=\"1\" class=\"dataframe\">\n",
              "  <thead>\n",
              "    <tr style=\"text-align: right;\">\n",
              "      <th></th>\n",
              "      <th>age</th>\n",
              "      <th>capital-gain</th>\n",
              "      <th>capital-loss</th>\n",
              "      <th>hours-per-week</th>\n",
              "      <th>workclass_0</th>\n",
              "      <th>workclass_1</th>\n",
              "      <th>workclass_2</th>\n",
              "      <th>workclass_3</th>\n",
              "      <th>workclass_4</th>\n",
              "      <th>workclass_5</th>\n",
              "      <th>workclass_6</th>\n",
              "      <th>workclass_7</th>\n",
              "      <th>workclass_8</th>\n",
              "      <th>education_0</th>\n",
              "      <th>education_1</th>\n",
              "      <th>education_2</th>\n",
              "      <th>education_3</th>\n",
              "      <th>education_4</th>\n",
              "      <th>education_5</th>\n",
              "      <th>education_6</th>\n",
              "      <th>education_7</th>\n",
              "      <th>education_8</th>\n",
              "      <th>education_9</th>\n",
              "      <th>education_10</th>\n",
              "      <th>education_11</th>\n",
              "      <th>education_12</th>\n",
              "      <th>education_13</th>\n",
              "      <th>education_14</th>\n",
              "      <th>education_15</th>\n",
              "      <th>marital-status_0</th>\n",
              "      <th>marital-status_1</th>\n",
              "      <th>marital-status_2</th>\n",
              "      <th>marital-status_3</th>\n",
              "      <th>marital-status_4</th>\n",
              "      <th>marital-status_5</th>\n",
              "      <th>marital-status_6</th>\n",
              "      <th>occupation_0</th>\n",
              "      <th>occupation_1</th>\n",
              "      <th>occupation_2</th>\n",
              "      <th>occupation_3</th>\n",
              "      <th>...</th>\n",
              "      <th>native-country_2</th>\n",
              "      <th>native-country_3</th>\n",
              "      <th>native-country_4</th>\n",
              "      <th>native-country_5</th>\n",
              "      <th>native-country_6</th>\n",
              "      <th>native-country_7</th>\n",
              "      <th>native-country_8</th>\n",
              "      <th>native-country_9</th>\n",
              "      <th>native-country_10</th>\n",
              "      <th>native-country_11</th>\n",
              "      <th>native-country_12</th>\n",
              "      <th>native-country_13</th>\n",
              "      <th>native-country_14</th>\n",
              "      <th>native-country_15</th>\n",
              "      <th>native-country_16</th>\n",
              "      <th>native-country_17</th>\n",
              "      <th>native-country_18</th>\n",
              "      <th>native-country_19</th>\n",
              "      <th>native-country_20</th>\n",
              "      <th>native-country_21</th>\n",
              "      <th>native-country_22</th>\n",
              "      <th>native-country_23</th>\n",
              "      <th>native-country_24</th>\n",
              "      <th>native-country_25</th>\n",
              "      <th>native-country_26</th>\n",
              "      <th>native-country_27</th>\n",
              "      <th>native-country_28</th>\n",
              "      <th>native-country_29</th>\n",
              "      <th>native-country_30</th>\n",
              "      <th>native-country_31</th>\n",
              "      <th>native-country_32</th>\n",
              "      <th>native-country_33</th>\n",
              "      <th>native-country_34</th>\n",
              "      <th>native-country_35</th>\n",
              "      <th>native-country_36</th>\n",
              "      <th>native-country_37</th>\n",
              "      <th>native-country_38</th>\n",
              "      <th>native-country_39</th>\n",
              "      <th>native-country_40</th>\n",
              "      <th>native-country_41</th>\n",
              "    </tr>\n",
              "  </thead>\n",
              "  <tbody>\n",
              "    <tr>\n",
              "      <th>0</th>\n",
              "      <td>49</td>\n",
              "      <td>0.0</td>\n",
              "      <td>0.0</td>\n",
              "      <td>40</td>\n",
              "      <td>0.0</td>\n",
              "      <td>0.0</td>\n",
              "      <td>0.0</td>\n",
              "      <td>0.0</td>\n",
              "      <td>1.0</td>\n",
              "      <td>0.0</td>\n",
              "      <td>0.0</td>\n",
              "      <td>0.0</td>\n",
              "      <td>0.0</td>\n",
              "      <td>0.0</td>\n",
              "      <td>0.0</td>\n",
              "      <td>0.0</td>\n",
              "      <td>0.0</td>\n",
              "      <td>0.0</td>\n",
              "      <td>0.0</td>\n",
              "      <td>0.0</td>\n",
              "      <td>0.0</td>\n",
              "      <td>0.0</td>\n",
              "      <td>0.0</td>\n",
              "      <td>0.0</td>\n",
              "      <td>1.0</td>\n",
              "      <td>0.0</td>\n",
              "      <td>0.0</td>\n",
              "      <td>0.0</td>\n",
              "      <td>0.0</td>\n",
              "      <td>0.0</td>\n",
              "      <td>0.0</td>\n",
              "      <td>1.0</td>\n",
              "      <td>0.0</td>\n",
              "      <td>0.0</td>\n",
              "      <td>0.0</td>\n",
              "      <td>0.0</td>\n",
              "      <td>0.0</td>\n",
              "      <td>0.0</td>\n",
              "      <td>0.0</td>\n",
              "      <td>1.0</td>\n",
              "      <td>...</td>\n",
              "      <td>0.0</td>\n",
              "      <td>0.0</td>\n",
              "      <td>0.0</td>\n",
              "      <td>0.0</td>\n",
              "      <td>0.0</td>\n",
              "      <td>0.0</td>\n",
              "      <td>0.0</td>\n",
              "      <td>0.0</td>\n",
              "      <td>0.0</td>\n",
              "      <td>0.0</td>\n",
              "      <td>0.0</td>\n",
              "      <td>0.0</td>\n",
              "      <td>0.0</td>\n",
              "      <td>0.0</td>\n",
              "      <td>0.0</td>\n",
              "      <td>0.0</td>\n",
              "      <td>0.0</td>\n",
              "      <td>0.0</td>\n",
              "      <td>0.0</td>\n",
              "      <td>0.0</td>\n",
              "      <td>0.0</td>\n",
              "      <td>0.0</td>\n",
              "      <td>0.0</td>\n",
              "      <td>0.0</td>\n",
              "      <td>0.0</td>\n",
              "      <td>0.0</td>\n",
              "      <td>0.0</td>\n",
              "      <td>0.0</td>\n",
              "      <td>0.0</td>\n",
              "      <td>0.0</td>\n",
              "      <td>0.0</td>\n",
              "      <td>0.0</td>\n",
              "      <td>0.0</td>\n",
              "      <td>0.0</td>\n",
              "      <td>0.0</td>\n",
              "      <td>0.0</td>\n",
              "      <td>0.0</td>\n",
              "      <td>1.0</td>\n",
              "      <td>0.0</td>\n",
              "      <td>0.0</td>\n",
              "    </tr>\n",
              "    <tr>\n",
              "      <th>1</th>\n",
              "      <td>27</td>\n",
              "      <td>0.0</td>\n",
              "      <td>0.0</td>\n",
              "      <td>45</td>\n",
              "      <td>0.0</td>\n",
              "      <td>0.0</td>\n",
              "      <td>0.0</td>\n",
              "      <td>0.0</td>\n",
              "      <td>1.0</td>\n",
              "      <td>0.0</td>\n",
              "      <td>0.0</td>\n",
              "      <td>0.0</td>\n",
              "      <td>0.0</td>\n",
              "      <td>0.0</td>\n",
              "      <td>0.0</td>\n",
              "      <td>0.0</td>\n",
              "      <td>0.0</td>\n",
              "      <td>0.0</td>\n",
              "      <td>0.0</td>\n",
              "      <td>0.0</td>\n",
              "      <td>0.0</td>\n",
              "      <td>0.0</td>\n",
              "      <td>0.0</td>\n",
              "      <td>0.0</td>\n",
              "      <td>1.0</td>\n",
              "      <td>0.0</td>\n",
              "      <td>0.0</td>\n",
              "      <td>0.0</td>\n",
              "      <td>0.0</td>\n",
              "      <td>0.0</td>\n",
              "      <td>0.0</td>\n",
              "      <td>1.0</td>\n",
              "      <td>0.0</td>\n",
              "      <td>0.0</td>\n",
              "      <td>0.0</td>\n",
              "      <td>0.0</td>\n",
              "      <td>0.0</td>\n",
              "      <td>0.0</td>\n",
              "      <td>0.0</td>\n",
              "      <td>0.0</td>\n",
              "      <td>...</td>\n",
              "      <td>0.0</td>\n",
              "      <td>0.0</td>\n",
              "      <td>0.0</td>\n",
              "      <td>0.0</td>\n",
              "      <td>0.0</td>\n",
              "      <td>0.0</td>\n",
              "      <td>0.0</td>\n",
              "      <td>0.0</td>\n",
              "      <td>0.0</td>\n",
              "      <td>0.0</td>\n",
              "      <td>0.0</td>\n",
              "      <td>0.0</td>\n",
              "      <td>0.0</td>\n",
              "      <td>0.0</td>\n",
              "      <td>0.0</td>\n",
              "      <td>0.0</td>\n",
              "      <td>0.0</td>\n",
              "      <td>0.0</td>\n",
              "      <td>0.0</td>\n",
              "      <td>0.0</td>\n",
              "      <td>0.0</td>\n",
              "      <td>0.0</td>\n",
              "      <td>0.0</td>\n",
              "      <td>0.0</td>\n",
              "      <td>0.0</td>\n",
              "      <td>0.0</td>\n",
              "      <td>0.0</td>\n",
              "      <td>0.0</td>\n",
              "      <td>0.0</td>\n",
              "      <td>0.0</td>\n",
              "      <td>0.0</td>\n",
              "      <td>0.0</td>\n",
              "      <td>0.0</td>\n",
              "      <td>0.0</td>\n",
              "      <td>0.0</td>\n",
              "      <td>0.0</td>\n",
              "      <td>0.0</td>\n",
              "      <td>1.0</td>\n",
              "      <td>0.0</td>\n",
              "      <td>0.0</td>\n",
              "    </tr>\n",
              "    <tr>\n",
              "      <th>2</th>\n",
              "      <td>44</td>\n",
              "      <td>0.0</td>\n",
              "      <td>0.0</td>\n",
              "      <td>60</td>\n",
              "      <td>0.0</td>\n",
              "      <td>0.0</td>\n",
              "      <td>0.0</td>\n",
              "      <td>0.0</td>\n",
              "      <td>1.0</td>\n",
              "      <td>0.0</td>\n",
              "      <td>0.0</td>\n",
              "      <td>0.0</td>\n",
              "      <td>0.0</td>\n",
              "      <td>0.0</td>\n",
              "      <td>1.0</td>\n",
              "      <td>0.0</td>\n",
              "      <td>0.0</td>\n",
              "      <td>0.0</td>\n",
              "      <td>0.0</td>\n",
              "      <td>0.0</td>\n",
              "      <td>0.0</td>\n",
              "      <td>0.0</td>\n",
              "      <td>0.0</td>\n",
              "      <td>0.0</td>\n",
              "      <td>0.0</td>\n",
              "      <td>0.0</td>\n",
              "      <td>0.0</td>\n",
              "      <td>0.0</td>\n",
              "      <td>0.0</td>\n",
              "      <td>0.0</td>\n",
              "      <td>0.0</td>\n",
              "      <td>1.0</td>\n",
              "      <td>0.0</td>\n",
              "      <td>0.0</td>\n",
              "      <td>0.0</td>\n",
              "      <td>0.0</td>\n",
              "      <td>0.0</td>\n",
              "      <td>0.0</td>\n",
              "      <td>0.0</td>\n",
              "      <td>0.0</td>\n",
              "      <td>...</td>\n",
              "      <td>0.0</td>\n",
              "      <td>0.0</td>\n",
              "      <td>0.0</td>\n",
              "      <td>0.0</td>\n",
              "      <td>0.0</td>\n",
              "      <td>0.0</td>\n",
              "      <td>0.0</td>\n",
              "      <td>0.0</td>\n",
              "      <td>0.0</td>\n",
              "      <td>0.0</td>\n",
              "      <td>0.0</td>\n",
              "      <td>0.0</td>\n",
              "      <td>0.0</td>\n",
              "      <td>0.0</td>\n",
              "      <td>0.0</td>\n",
              "      <td>0.0</td>\n",
              "      <td>0.0</td>\n",
              "      <td>0.0</td>\n",
              "      <td>0.0</td>\n",
              "      <td>0.0</td>\n",
              "      <td>0.0</td>\n",
              "      <td>0.0</td>\n",
              "      <td>0.0</td>\n",
              "      <td>0.0</td>\n",
              "      <td>0.0</td>\n",
              "      <td>0.0</td>\n",
              "      <td>0.0</td>\n",
              "      <td>0.0</td>\n",
              "      <td>0.0</td>\n",
              "      <td>0.0</td>\n",
              "      <td>0.0</td>\n",
              "      <td>0.0</td>\n",
              "      <td>0.0</td>\n",
              "      <td>0.0</td>\n",
              "      <td>0.0</td>\n",
              "      <td>0.0</td>\n",
              "      <td>0.0</td>\n",
              "      <td>1.0</td>\n",
              "      <td>0.0</td>\n",
              "      <td>0.0</td>\n",
              "    </tr>\n",
              "    <tr>\n",
              "      <th>3</th>\n",
              "      <td>59</td>\n",
              "      <td>0.0</td>\n",
              "      <td>0.0</td>\n",
              "      <td>60</td>\n",
              "      <td>0.0</td>\n",
              "      <td>0.0</td>\n",
              "      <td>0.0</td>\n",
              "      <td>0.0</td>\n",
              "      <td>1.0</td>\n",
              "      <td>0.0</td>\n",
              "      <td>0.0</td>\n",
              "      <td>0.0</td>\n",
              "      <td>0.0</td>\n",
              "      <td>0.0</td>\n",
              "      <td>0.0</td>\n",
              "      <td>0.0</td>\n",
              "      <td>0.0</td>\n",
              "      <td>0.0</td>\n",
              "      <td>0.0</td>\n",
              "      <td>0.0</td>\n",
              "      <td>0.0</td>\n",
              "      <td>0.0</td>\n",
              "      <td>1.0</td>\n",
              "      <td>0.0</td>\n",
              "      <td>0.0</td>\n",
              "      <td>0.0</td>\n",
              "      <td>0.0</td>\n",
              "      <td>0.0</td>\n",
              "      <td>0.0</td>\n",
              "      <td>0.0</td>\n",
              "      <td>0.0</td>\n",
              "      <td>0.0</td>\n",
              "      <td>0.0</td>\n",
              "      <td>0.0</td>\n",
              "      <td>1.0</td>\n",
              "      <td>0.0</td>\n",
              "      <td>0.0</td>\n",
              "      <td>1.0</td>\n",
              "      <td>0.0</td>\n",
              "      <td>0.0</td>\n",
              "      <td>...</td>\n",
              "      <td>0.0</td>\n",
              "      <td>0.0</td>\n",
              "      <td>0.0</td>\n",
              "      <td>0.0</td>\n",
              "      <td>0.0</td>\n",
              "      <td>0.0</td>\n",
              "      <td>0.0</td>\n",
              "      <td>0.0</td>\n",
              "      <td>0.0</td>\n",
              "      <td>0.0</td>\n",
              "      <td>0.0</td>\n",
              "      <td>0.0</td>\n",
              "      <td>0.0</td>\n",
              "      <td>0.0</td>\n",
              "      <td>0.0</td>\n",
              "      <td>0.0</td>\n",
              "      <td>0.0</td>\n",
              "      <td>0.0</td>\n",
              "      <td>0.0</td>\n",
              "      <td>0.0</td>\n",
              "      <td>0.0</td>\n",
              "      <td>0.0</td>\n",
              "      <td>0.0</td>\n",
              "      <td>0.0</td>\n",
              "      <td>0.0</td>\n",
              "      <td>0.0</td>\n",
              "      <td>0.0</td>\n",
              "      <td>0.0</td>\n",
              "      <td>0.0</td>\n",
              "      <td>0.0</td>\n",
              "      <td>0.0</td>\n",
              "      <td>0.0</td>\n",
              "      <td>0.0</td>\n",
              "      <td>0.0</td>\n",
              "      <td>0.0</td>\n",
              "      <td>0.0</td>\n",
              "      <td>0.0</td>\n",
              "      <td>1.0</td>\n",
              "      <td>0.0</td>\n",
              "      <td>0.0</td>\n",
              "    </tr>\n",
              "    <tr>\n",
              "      <th>4</th>\n",
              "      <td>54</td>\n",
              "      <td>0.0</td>\n",
              "      <td>1408.0</td>\n",
              "      <td>38</td>\n",
              "      <td>0.0</td>\n",
              "      <td>0.0</td>\n",
              "      <td>0.0</td>\n",
              "      <td>0.0</td>\n",
              "      <td>1.0</td>\n",
              "      <td>0.0</td>\n",
              "      <td>0.0</td>\n",
              "      <td>0.0</td>\n",
              "      <td>0.0</td>\n",
              "      <td>0.0</td>\n",
              "      <td>0.0</td>\n",
              "      <td>0.0</td>\n",
              "      <td>0.0</td>\n",
              "      <td>0.0</td>\n",
              "      <td>0.0</td>\n",
              "      <td>0.0</td>\n",
              "      <td>0.0</td>\n",
              "      <td>0.0</td>\n",
              "      <td>1.0</td>\n",
              "      <td>0.0</td>\n",
              "      <td>0.0</td>\n",
              "      <td>0.0</td>\n",
              "      <td>0.0</td>\n",
              "      <td>0.0</td>\n",
              "      <td>0.0</td>\n",
              "      <td>1.0</td>\n",
              "      <td>0.0</td>\n",
              "      <td>0.0</td>\n",
              "      <td>0.0</td>\n",
              "      <td>0.0</td>\n",
              "      <td>0.0</td>\n",
              "      <td>0.0</td>\n",
              "      <td>0.0</td>\n",
              "      <td>0.0</td>\n",
              "      <td>0.0</td>\n",
              "      <td>0.0</td>\n",
              "      <td>...</td>\n",
              "      <td>0.0</td>\n",
              "      <td>0.0</td>\n",
              "      <td>0.0</td>\n",
              "      <td>0.0</td>\n",
              "      <td>0.0</td>\n",
              "      <td>0.0</td>\n",
              "      <td>0.0</td>\n",
              "      <td>0.0</td>\n",
              "      <td>0.0</td>\n",
              "      <td>0.0</td>\n",
              "      <td>0.0</td>\n",
              "      <td>0.0</td>\n",
              "      <td>0.0</td>\n",
              "      <td>0.0</td>\n",
              "      <td>0.0</td>\n",
              "      <td>0.0</td>\n",
              "      <td>0.0</td>\n",
              "      <td>0.0</td>\n",
              "      <td>0.0</td>\n",
              "      <td>0.0</td>\n",
              "      <td>0.0</td>\n",
              "      <td>0.0</td>\n",
              "      <td>0.0</td>\n",
              "      <td>0.0</td>\n",
              "      <td>0.0</td>\n",
              "      <td>0.0</td>\n",
              "      <td>0.0</td>\n",
              "      <td>0.0</td>\n",
              "      <td>0.0</td>\n",
              "      <td>0.0</td>\n",
              "      <td>0.0</td>\n",
              "      <td>0.0</td>\n",
              "      <td>0.0</td>\n",
              "      <td>0.0</td>\n",
              "      <td>0.0</td>\n",
              "      <td>0.0</td>\n",
              "      <td>0.0</td>\n",
              "      <td>1.0</td>\n",
              "      <td>0.0</td>\n",
              "      <td>0.0</td>\n",
              "    </tr>\n",
              "  </tbody>\n",
              "</table>\n",
              "<p>5 rows × 106 columns</p>\n",
              "</div>\n",
              "      <button class=\"colab-df-convert\" onclick=\"convertToInteractive('df-12843aea-875d-4577-a903-dfb81d135cb8')\"\n",
              "              title=\"Convert this dataframe to an interactive table.\"\n",
              "              style=\"display:none;\">\n",
              "        \n",
              "  <svg xmlns=\"http://www.w3.org/2000/svg\" height=\"24px\"viewBox=\"0 0 24 24\"\n",
              "       width=\"24px\">\n",
              "    <path d=\"M0 0h24v24H0V0z\" fill=\"none\"/>\n",
              "    <path d=\"M18.56 5.44l.94 2.06.94-2.06 2.06-.94-2.06-.94-.94-2.06-.94 2.06-2.06.94zm-11 1L8.5 8.5l.94-2.06 2.06-.94-2.06-.94L8.5 2.5l-.94 2.06-2.06.94zm10 10l.94 2.06.94-2.06 2.06-.94-2.06-.94-.94-2.06-.94 2.06-2.06.94z\"/><path d=\"M17.41 7.96l-1.37-1.37c-.4-.4-.92-.59-1.43-.59-.52 0-1.04.2-1.43.59L10.3 9.45l-7.72 7.72c-.78.78-.78 2.05 0 2.83L4 21.41c.39.39.9.59 1.41.59.51 0 1.02-.2 1.41-.59l7.78-7.78 2.81-2.81c.8-.78.8-2.07 0-2.86zM5.41 20L4 18.59l7.72-7.72 1.47 1.35L5.41 20z\"/>\n",
              "  </svg>\n",
              "      </button>\n",
              "      \n",
              "  <style>\n",
              "    .colab-df-container {\n",
              "      display:flex;\n",
              "      flex-wrap:wrap;\n",
              "      gap: 12px;\n",
              "    }\n",
              "\n",
              "    .colab-df-convert {\n",
              "      background-color: #E8F0FE;\n",
              "      border: none;\n",
              "      border-radius: 50%;\n",
              "      cursor: pointer;\n",
              "      display: none;\n",
              "      fill: #1967D2;\n",
              "      height: 32px;\n",
              "      padding: 0 0 0 0;\n",
              "      width: 32px;\n",
              "    }\n",
              "\n",
              "    .colab-df-convert:hover {\n",
              "      background-color: #E2EBFA;\n",
              "      box-shadow: 0px 1px 2px rgba(60, 64, 67, 0.3), 0px 1px 3px 1px rgba(60, 64, 67, 0.15);\n",
              "      fill: #174EA6;\n",
              "    }\n",
              "\n",
              "    [theme=dark] .colab-df-convert {\n",
              "      background-color: #3B4455;\n",
              "      fill: #D2E3FC;\n",
              "    }\n",
              "\n",
              "    [theme=dark] .colab-df-convert:hover {\n",
              "      background-color: #434B5C;\n",
              "      box-shadow: 0px 1px 3px 1px rgba(0, 0, 0, 0.15);\n",
              "      filter: drop-shadow(0px 1px 2px rgba(0, 0, 0, 0.3));\n",
              "      fill: #FFFFFF;\n",
              "    }\n",
              "  </style>\n",
              "\n",
              "      <script>\n",
              "        const buttonEl =\n",
              "          document.querySelector('#df-12843aea-875d-4577-a903-dfb81d135cb8 button.colab-df-convert');\n",
              "        buttonEl.style.display =\n",
              "          google.colab.kernel.accessAllowed ? 'block' : 'none';\n",
              "\n",
              "        async function convertToInteractive(key) {\n",
              "          const element = document.querySelector('#df-12843aea-875d-4577-a903-dfb81d135cb8');\n",
              "          const dataTable =\n",
              "            await google.colab.kernel.invokeFunction('convertToInteractive',\n",
              "                                                     [key], {});\n",
              "          if (!dataTable) return;\n",
              "\n",
              "          const docLinkHtml = 'Like what you see? Visit the ' +\n",
              "            '<a target=\"_blank\" href=https://colab.research.google.com/notebooks/data_table.ipynb>data table notebook</a>'\n",
              "            + ' to learn more about interactive tables.';\n",
              "          element.innerHTML = '';\n",
              "          dataTable['output_type'] = 'display_data';\n",
              "          await google.colab.output.renderOutput(dataTable, element);\n",
              "          const docLink = document.createElement('div');\n",
              "          docLink.innerHTML = docLinkHtml;\n",
              "          element.appendChild(docLink);\n",
              "        }\n",
              "      </script>\n",
              "    </div>\n",
              "  </div>\n",
              "  "
            ],
            "text/plain": [
              "   age  capital-gain  ...  native-country_40  native-country_41\n",
              "0   49           0.0  ...                0.0                0.0\n",
              "1   27           0.0  ...                0.0                0.0\n",
              "2   44           0.0  ...                0.0                0.0\n",
              "3   59           0.0  ...                0.0                0.0\n",
              "4   54           0.0  ...                0.0                0.0\n",
              "\n",
              "[5 rows x 106 columns]"
            ]
          },
          "metadata": {},
          "execution_count": 31
        }
      ]
    },
    {
      "cell_type": "markdown",
      "metadata": {
        "id": "N-Dnf39-MniT"
      },
      "source": [
        "# 3. Обучить модель на обучащей выборке"
      ]
    },
    {
      "cell_type": "markdown",
      "metadata": {
        "id": "7r-ezPSPNRUG"
      },
      "source": [
        "## 3.1 Выбираем метод обучения классификатора"
      ]
    },
    {
      "cell_type": "markdown",
      "metadata": {
        "id": "BgvuYNQdNKyn"
      },
      "source": [
        "Для обучения классификатора воспользуемся самым популярным алгоритмом машинного обучения - градиентным бустингом над решающими деревьями из библиотеки **xgboost** или как его чаще называют просто xgboost.\n",
        "\n",
        "Градиентный бустинг над решающими деревьями имеет ряд преимуществ против других алгоритмов: \n",
        "* подходит сразу и для классификации, и для регрессии, и для задачи ранжирования;\n",
        "* имеет высокую обобщающую способность;\n",
        "* сложно допустить переобучение.\n",
        "\n",
        "А основное достоинство реализации данного алгоритма в библиотеке **xgboost** - высокая вычислительная эффективность. \n",
        "\n",
        "Таким образом, способность хорошо решить огромное количество задач, сделала этот алгоритм самым популярным в области Machine Learning."
      ]
    },
    {
      "cell_type": "code",
      "metadata": {
        "id": "PCCoYu85Nf_k"
      },
      "source": [
        "from xgboost import XGBClassifier"
      ],
      "execution_count": 32,
      "outputs": []
    },
    {
      "cell_type": "markdown",
      "metadata": {
        "id": "vSN0cNP3Pgsk"
      },
      "source": [
        "Создаем прототип класса модели:"
      ]
    },
    {
      "cell_type": "code",
      "metadata": {
        "id": "-2vLIQxBOqav",
        "colab": {
          "base_uri": "https://localhost:8080/"
        },
        "outputId": "849a3831-8962-4cf4-9d08-951f7a75799d"
      },
      "source": [
        "boosting_tree_model = XGBClassifier(n_estimators=500)\n",
        "boosting_tree_model"
      ],
      "execution_count": 33,
      "outputs": [
        {
          "output_type": "execute_result",
          "data": {
            "text/plain": [
              "XGBClassifier(n_estimators=500)"
            ]
          },
          "metadata": {},
          "execution_count": 33
        }
      ]
    },
    {
      "cell_type": "markdown",
      "metadata": {
        "id": "fFO7IrXcQH0Z"
      },
      "source": [
        "Наиболее важные гиперпараметры модели **XGBClassifier**:\n",
        "* гиперпараметр **n_estimators** определяет, сколько деревьев использовать в модели\n",
        "* гиперпараметр **max_depth** ограничивает максимальную глубину дерева"
      ]
    },
    {
      "cell_type": "markdown",
      "metadata": {
        "id": "DlQ9PWWRRd2k"
      },
      "source": [
        "## 3.2 Обучить модель"
      ]
    },
    {
      "cell_type": "markdown",
      "metadata": {
        "id": "SzkM2xc4Rjr2"
      },
      "source": [
        "Теперь, когда мы создали прототип модели, можем их обучить с помощью обучающей выборки.\n",
        "\n",
        "**Упражнение.** Обучите модель, вызвав метод `fit()` и передав ему на вход два аргумента: таблицу входных признаков и столбец значений целевой переменной - `(training_points_new, training_target)`.\n",
        "\n",
        "*Подсказка: замените YOUR_CODE_HERE на правильный код.*\n",
        "\n"
      ]
    },
    {
      "cell_type": "code",
      "metadata": {
        "id": "O4F-ldn66ypJ",
        "colab": {
          "base_uri": "https://localhost:8080/"
        },
        "outputId": "6e252008-f9d2-47a3-aaa2-5b2b719ba275"
      },
      "source": [
        "boosting_tree_model.fit(training_points_new, training_target)"
      ],
      "execution_count": 34,
      "outputs": [
        {
          "output_type": "execute_result",
          "data": {
            "text/plain": [
              "XGBClassifier(n_estimators=500)"
            ]
          },
          "metadata": {},
          "execution_count": 34
        }
      ]
    },
    {
      "cell_type": "markdown",
      "metadata": {
        "id": "IE8LyQyaSY6R"
      },
      "source": [
        "# 4. Провалидировать модель на тестовой выборке"
      ]
    },
    {
      "cell_type": "markdown",
      "metadata": {
        "id": "aP1dbcQwS6fM"
      },
      "source": [
        "**Упражнение**. Получите прогноз модели на тестовых данных с помощью модели **xgboost**. Для этого используйте метод `predict()`, передав ему на вход тестовую таблицу входных признаков.\n",
        "\n",
        "*Подсказка: замените YOUR_CODE_HERE на правильный код.*\n"
      ]
    },
    {
      "cell_type": "code",
      "metadata": {
        "id": "g_s_yA_iSMT9"
      },
      "source": [
        "prediction_boosting = boosting_tree_model.predict(test_points_new)"
      ],
      "execution_count": 35,
      "outputs": []
    },
    {
      "cell_type": "markdown",
      "metadata": {
        "id": "eO701_X2TW-o"
      },
      "source": [
        "## 4.1 Точность предсказания"
      ]
    },
    {
      "cell_type": "markdown",
      "metadata": {
        "id": "204llIBtTb9R"
      },
      "source": [
        "Посчитаем точность (**accuracy**) работы моделей. Напомним, что точность отражает, сколько в процентном соотношении от размера тестовой выборки модель угадала 1 и сколько угадала 0.\n",
        "\n",
        "Функция для подсчета точности реализована в библиотеке **sklearn** и называется `accuracy_score()`."
      ]
    },
    {
      "cell_type": "code",
      "metadata": {
        "id": "3FAqJoLYTTjP"
      },
      "source": [
        "from sklearn.metrics import accuracy_score"
      ],
      "execution_count": 36,
      "outputs": []
    },
    {
      "cell_type": "markdown",
      "metadata": {
        "id": "NskAdMXrT08L"
      },
      "source": [
        "В функцию `accuracy_score()` необходимо передать два аргумента:\n",
        "* истинные значения меток\n",
        "* предсказания модели\n",
        "\n",
        "**Упражнение.** Посчитайте `accuracy_score()` для полученных предсказаний. \n",
        "\n",
        "*Подсказка: замените YOUR_CODE_HERE на правильный код.*"
      ]
    },
    {
      "cell_type": "code",
      "metadata": {
        "id": "OXZHjRjXRfHz",
        "colab": {
          "base_uri": "https://localhost:8080/"
        },
        "outputId": "db131797-7e90-4ab5-b49f-01ad266c5589"
      },
      "source": [
        "accuracy_score(test_target, prediction_boosting)"
      ],
      "execution_count": 37,
      "outputs": [
        {
          "output_type": "execute_result",
          "data": {
            "text/plain": [
              "0.8785161528067805"
            ]
          },
          "metadata": {},
          "execution_count": 37
        }
      ]
    },
    {
      "cell_type": "markdown",
      "metadata": {
        "id": "Ns5mvVBVTz_2"
      },
      "source": [
        "Сравним значения точности для наших моделей с точностью для константного классификатора, модели, которая всегда бы предсказывала больший класс, в нашем случае 0. Для этого можно в функцию `accuracy_score()` в качестве второго аргумента передать массив нулей такого же размера. Это делается с помощью функции `zeros_like()` из библиотеки **numpy**."
      ]
    },
    {
      "cell_type": "code",
      "metadata": {
        "id": "vQs7EPs1Uup0",
        "colab": {
          "base_uri": "https://localhost:8080/"
        },
        "outputId": "2d3164e4-c1b0-4c93-e9c7-783a3dafeaf4"
      },
      "source": [
        "print('Accuracy Major Class: ', accuracy_score(test_target, np.zeros_like(test_target)).round(3))"
      ],
      "execution_count": 38,
      "outputs": [
        {
          "output_type": "stream",
          "name": "stdout",
          "text": [
            "Accuracy Major Class:  0.763\n"
          ]
        }
      ]
    },
    {
      "cell_type": "markdown",
      "metadata": {
        "id": "kaa6LmV6Wk_E"
      },
      "source": [
        "Мы получили, что алгоритм градиентного бустинга работает лучше, чем примитивный константный классификатор. Однако используя метрику **accuracy** мы не можем точно понять, где алгоритм ошибается чаще: при предсказании 0 класса или при предсказании 1 класса. У нас возникает потребность подробнее выяснить как респределены разного рода ошибок нашего алгоритма. Чем и мы займемся далее."
      ]
    },
    {
      "cell_type": "markdown",
      "metadata": {
        "id": "9JpN8tQ4XOfv"
      },
      "source": [
        "## 4.2 Таблица сопряженности модели классификаци"
      ]
    },
    {
      "cell_type": "markdown",
      "metadata": {
        "id": "8hlfckZvXf_I"
      },
      "source": [
        "Другой способ оценивать качество работы классификатора - использовать таблицу сопряженности. \n",
        "\n",
        "**Таблица сопряжённости** (матрица неточности, или Confusion matrix) содержит сводные показатели качества работы классификатора. \n",
        "* **Строки** соответствуют **фактическим** классам тестового набора;\n",
        "* **Cтолбцы** соответствуют **предсказанным** классом.\n",
        "\n",
        "Таблица содержит четыре сводных показателя, каждый из которых отражает количество объектов в одной и четырех\n",
        "категорий: \n",
        "* **Истинно позитивный** (*True positive*, **TP**) -- объект\n",
        "класса `1` был верно помечен меткой `1`;\n",
        "* **Ложно позитивный** (*False positive*, **FP**) -- объект\n",
        "фактически принадлежит классу `0`, но помечен меткой `1`;\n",
        "* **Истинно отрицательный** (*True negative*, **TN**) -- классификатор\n",
        "верно определил, что объект класса `0` принадлежит классу `0`;\n",
        "* **Ложно отрицательный** (*False negative*, **FN**) -- классификатор\n",
        "пометил объект меткой `0`, однако на самом деле объект принадлежит классу `1`.\n",
        "\n",
        "Замечание: ошибки False positive часто называют **ложной тревогой**, а False negative - **пропуском цели**. \n",
        "\n",
        "|                   |  Предсказано `0` |  Предсказано `1` |\n",
        "|:-------------------|:------------------|:------------------|\n",
        "|**Фактически** `0`  |       TN         |       FP         |\n",
        "|**Фактически** `1`  |       FN         |       TP         | \n",
        "\n",
        "Импортируем функцию для построения таблицы сопряженности из библиотеки **sklearn**."
      ]
    },
    {
      "cell_type": "code",
      "metadata": {
        "id": "KXYf4rOQU6k1"
      },
      "source": [
        "from sklearn.metrics import confusion_matrix"
      ],
      "execution_count": 39,
      "outputs": []
    },
    {
      "cell_type": "markdown",
      "metadata": {
        "id": "qO85cdKDZTZy"
      },
      "source": [
        "Посмотрим на таблицу сопряженности для градиентного бустинга. Для этого в функцию `confusion_matrix()` необходимо передать два аргумента:\n",
        "* Истинные значения меток\n",
        "* Предсказания модели\n",
        "\n",
        "Далее для удобства мы запишем полученную матрицу в удобный табличный вид, воспользовавшись классом `DataFrame()` из библиотеки **pandas**. "
      ]
    },
    {
      "cell_type": "code",
      "metadata": {
        "id": "ktRjQAmNZHPB",
        "colab": {
          "base_uri": "https://localhost:8080/",
          "height": 112
        },
        "outputId": "a11b2d1a-b406-4a56-83bf-1d9b5fd81d17"
      },
      "source": [
        "pd.DataFrame(confusion_matrix(test_target, prediction_boosting))"
      ],
      "execution_count": 40,
      "outputs": [
        {
          "output_type": "execute_result",
          "data": {
            "text/html": [
              "\n",
              "  <div id=\"df-7f569b8e-60fb-4bd9-8223-7bb2c74ee117\">\n",
              "    <div class=\"colab-df-container\">\n",
              "      <div>\n",
              "<style scoped>\n",
              "    .dataframe tbody tr th:only-of-type {\n",
              "        vertical-align: middle;\n",
              "    }\n",
              "\n",
              "    .dataframe tbody tr th {\n",
              "        vertical-align: top;\n",
              "    }\n",
              "\n",
              "    .dataframe thead th {\n",
              "        text-align: right;\n",
              "    }\n",
              "</style>\n",
              "<table border=\"1\" class=\"dataframe\">\n",
              "  <thead>\n",
              "    <tr style=\"text-align: right;\">\n",
              "      <th></th>\n",
              "      <th>0</th>\n",
              "      <th>1</th>\n",
              "    </tr>\n",
              "  </thead>\n",
              "  <tbody>\n",
              "    <tr>\n",
              "      <th>0</th>\n",
              "      <td>5886</td>\n",
              "      <td>328</td>\n",
              "    </tr>\n",
              "    <tr>\n",
              "      <th>1</th>\n",
              "      <td>661</td>\n",
              "      <td>1266</td>\n",
              "    </tr>\n",
              "  </tbody>\n",
              "</table>\n",
              "</div>\n",
              "      <button class=\"colab-df-convert\" onclick=\"convertToInteractive('df-7f569b8e-60fb-4bd9-8223-7bb2c74ee117')\"\n",
              "              title=\"Convert this dataframe to an interactive table.\"\n",
              "              style=\"display:none;\">\n",
              "        \n",
              "  <svg xmlns=\"http://www.w3.org/2000/svg\" height=\"24px\"viewBox=\"0 0 24 24\"\n",
              "       width=\"24px\">\n",
              "    <path d=\"M0 0h24v24H0V0z\" fill=\"none\"/>\n",
              "    <path d=\"M18.56 5.44l.94 2.06.94-2.06 2.06-.94-2.06-.94-.94-2.06-.94 2.06-2.06.94zm-11 1L8.5 8.5l.94-2.06 2.06-.94-2.06-.94L8.5 2.5l-.94 2.06-2.06.94zm10 10l.94 2.06.94-2.06 2.06-.94-2.06-.94-.94-2.06-.94 2.06-2.06.94z\"/><path d=\"M17.41 7.96l-1.37-1.37c-.4-.4-.92-.59-1.43-.59-.52 0-1.04.2-1.43.59L10.3 9.45l-7.72 7.72c-.78.78-.78 2.05 0 2.83L4 21.41c.39.39.9.59 1.41.59.51 0 1.02-.2 1.41-.59l7.78-7.78 2.81-2.81c.8-.78.8-2.07 0-2.86zM5.41 20L4 18.59l7.72-7.72 1.47 1.35L5.41 20z\"/>\n",
              "  </svg>\n",
              "      </button>\n",
              "      \n",
              "  <style>\n",
              "    .colab-df-container {\n",
              "      display:flex;\n",
              "      flex-wrap:wrap;\n",
              "      gap: 12px;\n",
              "    }\n",
              "\n",
              "    .colab-df-convert {\n",
              "      background-color: #E8F0FE;\n",
              "      border: none;\n",
              "      border-radius: 50%;\n",
              "      cursor: pointer;\n",
              "      display: none;\n",
              "      fill: #1967D2;\n",
              "      height: 32px;\n",
              "      padding: 0 0 0 0;\n",
              "      width: 32px;\n",
              "    }\n",
              "\n",
              "    .colab-df-convert:hover {\n",
              "      background-color: #E2EBFA;\n",
              "      box-shadow: 0px 1px 2px rgba(60, 64, 67, 0.3), 0px 1px 3px 1px rgba(60, 64, 67, 0.15);\n",
              "      fill: #174EA6;\n",
              "    }\n",
              "\n",
              "    [theme=dark] .colab-df-convert {\n",
              "      background-color: #3B4455;\n",
              "      fill: #D2E3FC;\n",
              "    }\n",
              "\n",
              "    [theme=dark] .colab-df-convert:hover {\n",
              "      background-color: #434B5C;\n",
              "      box-shadow: 0px 1px 3px 1px rgba(0, 0, 0, 0.15);\n",
              "      filter: drop-shadow(0px 1px 2px rgba(0, 0, 0, 0.3));\n",
              "      fill: #FFFFFF;\n",
              "    }\n",
              "  </style>\n",
              "\n",
              "      <script>\n",
              "        const buttonEl =\n",
              "          document.querySelector('#df-7f569b8e-60fb-4bd9-8223-7bb2c74ee117 button.colab-df-convert');\n",
              "        buttonEl.style.display =\n",
              "          google.colab.kernel.accessAllowed ? 'block' : 'none';\n",
              "\n",
              "        async function convertToInteractive(key) {\n",
              "          const element = document.querySelector('#df-7f569b8e-60fb-4bd9-8223-7bb2c74ee117');\n",
              "          const dataTable =\n",
              "            await google.colab.kernel.invokeFunction('convertToInteractive',\n",
              "                                                     [key], {});\n",
              "          if (!dataTable) return;\n",
              "\n",
              "          const docLinkHtml = 'Like what you see? Visit the ' +\n",
              "            '<a target=\"_blank\" href=https://colab.research.google.com/notebooks/data_table.ipynb>data table notebook</a>'\n",
              "            + ' to learn more about interactive tables.';\n",
              "          element.innerHTML = '';\n",
              "          dataTable['output_type'] = 'display_data';\n",
              "          await google.colab.output.renderOutput(dataTable, element);\n",
              "          const docLink = document.createElement('div');\n",
              "          docLink.innerHTML = docLinkHtml;\n",
              "          element.appendChild(docLink);\n",
              "        }\n",
              "      </script>\n",
              "    </div>\n",
              "  </div>\n",
              "  "
            ],
            "text/plain": [
              "      0     1\n",
              "0  5886   328\n",
              "1   661  1266"
            ]
          },
          "metadata": {},
          "execution_count": 40
        }
      ]
    },
    {
      "cell_type": "markdown",
      "metadata": {
        "id": "UXURuE8eZ_4w"
      },
      "source": [
        "## 4.3 Прогноз вероятности принадлежности к классу"
      ]
    },
    {
      "cell_type": "markdown",
      "metadata": {
        "id": "bjoM6dJAaFsk"
      },
      "source": [
        "Вместо прогноза меток классов модель может с помощью метода `predict_proba()` выдавать метки вероятности принадлежности к классам. Так как класса у нас 2, то матрица будет размером (количество объектов в тестовой выборке, 2)."
      ]
    },
    {
      "cell_type": "code",
      "metadata": {
        "id": "msz9z8MuZp0Z"
      },
      "source": [
        "pred_proba_boosting = boosting_tree_model.predict_proba(test_points_new)"
      ],
      "execution_count": 41,
      "outputs": []
    },
    {
      "cell_type": "markdown",
      "metadata": {
        "id": "Ws9PJm5eaeE8"
      },
      "source": [
        "Посмотри на первые значения данной матрицы:"
      ]
    },
    {
      "cell_type": "code",
      "metadata": {
        "id": "RWHzhNPzaba1",
        "colab": {
          "base_uri": "https://localhost:8080/"
        },
        "outputId": "64377cf1-3f6c-4931-9049-f265e6093807"
      },
      "source": [
        "pred_proba_boosting[:5]"
      ],
      "execution_count": 42,
      "outputs": [
        {
          "output_type": "execute_result",
          "data": {
            "text/plain": [
              "array([[0.99160427, 0.00839571],\n",
              "       [0.39992696, 0.60007304],\n",
              "       [0.28652787, 0.7134721 ],\n",
              "       [0.97641563, 0.02358435],\n",
              "       [0.9852391 , 0.01476089]], dtype=float32)"
            ]
          },
          "metadata": {},
          "execution_count": 42
        }
      ]
    },
    {
      "cell_type": "markdown",
      "metadata": {
        "id": "RooaJr4PaubY"
      },
      "source": [
        "Вероятность принадлежности ко второму классу - во втором столбце матрицы вероятностей."
      ]
    },
    {
      "cell_type": "code",
      "metadata": {
        "id": "ULsBdslqakeP"
      },
      "source": [
        "pred_proba_boosting = pred_proba_boosting[:, 1]"
      ],
      "execution_count": 43,
      "outputs": []
    },
    {
      "cell_type": "markdown",
      "metadata": {
        "id": "roEuvcTLbOuG"
      },
      "source": [
        "Посмотрим на распределение предсказанной классификатором вероятности дефолта, метки `1`."
      ]
    },
    {
      "cell_type": "code",
      "metadata": {
        "id": "l1XzSPaHayiK",
        "colab": {
          "base_uri": "https://localhost:8080/",
          "height": 343
        },
        "outputId": "1031737f-bdb3-4a5d-c639-f9b9d665f3a9"
      },
      "source": [
        "plt.figure(figsize=(8, 5))\n",
        "\n",
        "plt.hist(pred_proba_boosting, bins=100)\n",
        "plt.vlines(0.5, 0, 2500)\n",
        "\n",
        "plt.xlabel('Предсказанная вероятность дохода', fontsize=20)\n",
        "plt.ylabel('Количество людей', fontsize=20);"
      ],
      "execution_count": 44,
      "outputs": [
        {
          "output_type": "display_data",
          "data": {
            "image/png": "[encoded data removed]",
            "text/plain": [
              "<Figure size 576x360 with 1 Axes>"
            ]
          },
          "metadata": {
            "needs_background": "light"
          }
        }
      ]
    },
    {
      "cell_type": "markdown",
      "metadata": {
        "id": "I2wm-gqabX3O"
      },
      "source": [
        "Поскольку количество нулевого класса больше, поэтому видим смещение распределения в левую сторону."
      ]
    },
    {
      "cell_type": "markdown",
      "metadata": {
        "id": "m2VP6iK0cH7H"
      },
      "source": [
        "## 4.4 Выбор порога классификатора"
      ]
    },
    {
      "cell_type": "markdown",
      "metadata": {
        "id": "czAtxX-scRHk"
      },
      "source": [
        "На самом деле, при вызове метода `predict()` классификатор преобразует полученные вероятности в метки. По умолчанию для этого используется сравнение с порогом  0.5: \n",
        "\n",
        "> Eсли вероятность объекта меньше порога, то этот объект относится к классу 0, если больше - к классу 1\n",
        "\n",
        "**За что отвечает порог классификатора?**\n",
        "\n",
        "> Порог классификатора контролирует соотношение между количеством False positive и False negative.\n",
        "\n",
        "* Если мы задаем слишком высокий порог классификатора, то он редко предсказывает 1, но часто 0, таким образом, увеличивается количество False negative и уменьшается количество False positive. \n",
        "* Если же порог низкий - мы часто предсказываем 1, а 0 реже, значит увеличивается количество False positive и уменьшается False negative.\n",
        "\n",
        "Посмотрим на то, как влияет порог на матрицу сопряженности.  \n"
      ]
    },
    {
      "cell_type": "code",
      "metadata": {
        "id": "RBuFVJbqa4TN"
      },
      "source": [
        "def get_confusion_matrix(y_true, y_proba, threshold):\n",
        "  # сравниваем вероятности с порогом\n",
        "  y_pred = y_proba > threshold\n",
        "\n",
        "  # преобразуем матрицу сопряженности в DataFrame для удобства \n",
        "  conf_matrix = pd.DataFrame(confusion_matrix(y_true, y_pred))\n",
        "\n",
        "  return conf_matrix"
      ],
      "execution_count": 45,
      "outputs": []
    },
    {
      "cell_type": "code",
      "metadata": {
        "id": "VSU41Vn3eAdK",
        "colab": {
          "base_uri": "https://localhost:8080/",
          "height": 112
        },
        "outputId": "0bb687a9-715a-4548-d2da-cb56af57fcf6"
      },
      "source": [
        "get_confusion_matrix(test_target, pred_proba_boosting, 0.5)"
      ],
      "execution_count": 46,
      "outputs": [
        {
          "output_type": "execute_result",
          "data": {
            "text/html": [
              "\n",
              "  <div id=\"df-05804a50-5846-4deb-9f14-d83c60efb410\">\n",
              "    <div class=\"colab-df-container\">\n",
              "      <div>\n",
              "<style scoped>\n",
              "    .dataframe tbody tr th:only-of-type {\n",
              "        vertical-align: middle;\n",
              "    }\n",
              "\n",
              "    .dataframe tbody tr th {\n",
              "        vertical-align: top;\n",
              "    }\n",
              "\n",
              "    .dataframe thead th {\n",
              "        text-align: right;\n",
              "    }\n",
              "</style>\n",
              "<table border=\"1\" class=\"dataframe\">\n",
              "  <thead>\n",
              "    <tr style=\"text-align: right;\">\n",
              "      <th></th>\n",
              "      <th>0</th>\n",
              "      <th>1</th>\n",
              "    </tr>\n",
              "  </thead>\n",
              "  <tbody>\n",
              "    <tr>\n",
              "      <th>0</th>\n",
              "      <td>5886</td>\n",
              "      <td>328</td>\n",
              "    </tr>\n",
              "    <tr>\n",
              "      <th>1</th>\n",
              "      <td>661</td>\n",
              "      <td>1266</td>\n",
              "    </tr>\n",
              "  </tbody>\n",
              "</table>\n",
              "</div>\n",
              "      <button class=\"colab-df-convert\" onclick=\"convertToInteractive('df-05804a50-5846-4deb-9f14-d83c60efb410')\"\n",
              "              title=\"Convert this dataframe to an interactive table.\"\n",
              "              style=\"display:none;\">\n",
              "        \n",
              "  <svg xmlns=\"http://www.w3.org/2000/svg\" height=\"24px\"viewBox=\"0 0 24 24\"\n",
              "       width=\"24px\">\n",
              "    <path d=\"M0 0h24v24H0V0z\" fill=\"none\"/>\n",
              "    <path d=\"M18.56 5.44l.94 2.06.94-2.06 2.06-.94-2.06-.94-.94-2.06-.94 2.06-2.06.94zm-11 1L8.5 8.5l.94-2.06 2.06-.94-2.06-.94L8.5 2.5l-.94 2.06-2.06.94zm10 10l.94 2.06.94-2.06 2.06-.94-2.06-.94-.94-2.06-.94 2.06-2.06.94z\"/><path d=\"M17.41 7.96l-1.37-1.37c-.4-.4-.92-.59-1.43-.59-.52 0-1.04.2-1.43.59L10.3 9.45l-7.72 7.72c-.78.78-.78 2.05 0 2.83L4 21.41c.39.39.9.59 1.41.59.51 0 1.02-.2 1.41-.59l7.78-7.78 2.81-2.81c.8-.78.8-2.07 0-2.86zM5.41 20L4 18.59l7.72-7.72 1.47 1.35L5.41 20z\"/>\n",
              "  </svg>\n",
              "      </button>\n",
              "      \n",
              "  <style>\n",
              "    .colab-df-container {\n",
              "      display:flex;\n",
              "      flex-wrap:wrap;\n",
              "      gap: 12px;\n",
              "    }\n",
              "\n",
              "    .colab-df-convert {\n",
              "      background-color: #E8F0FE;\n",
              "      border: none;\n",
              "      border-radius: 50%;\n",
              "      cursor: pointer;\n",
              "      display: none;\n",
              "      fill: #1967D2;\n",
              "      height: 32px;\n",
              "      padding: 0 0 0 0;\n",
              "      width: 32px;\n",
              "    }\n",
              "\n",
              "    .colab-df-convert:hover {\n",
              "      background-color: #E2EBFA;\n",
              "      box-shadow: 0px 1px 2px rgba(60, 64, 67, 0.3), 0px 1px 3px 1px rgba(60, 64, 67, 0.15);\n",
              "      fill: #174EA6;\n",
              "    }\n",
              "\n",
              "    [theme=dark] .colab-df-convert {\n",
              "      background-color: #3B4455;\n",
              "      fill: #D2E3FC;\n",
              "    }\n",
              "\n",
              "    [theme=dark] .colab-df-convert:hover {\n",
              "      background-color: #434B5C;\n",
              "      box-shadow: 0px 1px 3px 1px rgba(0, 0, 0, 0.15);\n",
              "      filter: drop-shadow(0px 1px 2px rgba(0, 0, 0, 0.3));\n",
              "      fill: #FFFFFF;\n",
              "    }\n",
              "  </style>\n",
              "\n",
              "      <script>\n",
              "        const buttonEl =\n",
              "          document.querySelector('#df-05804a50-5846-4deb-9f14-d83c60efb410 button.colab-df-convert');\n",
              "        buttonEl.style.display =\n",
              "          google.colab.kernel.accessAllowed ? 'block' : 'none';\n",
              "\n",
              "        async function convertToInteractive(key) {\n",
              "          const element = document.querySelector('#df-05804a50-5846-4deb-9f14-d83c60efb410');\n",
              "          const dataTable =\n",
              "            await google.colab.kernel.invokeFunction('convertToInteractive',\n",
              "                                                     [key], {});\n",
              "          if (!dataTable) return;\n",
              "\n",
              "          const docLinkHtml = 'Like what you see? Visit the ' +\n",
              "            '<a target=\"_blank\" href=https://colab.research.google.com/notebooks/data_table.ipynb>data table notebook</a>'\n",
              "            + ' to learn more about interactive tables.';\n",
              "          element.innerHTML = '';\n",
              "          dataTable['output_type'] = 'display_data';\n",
              "          await google.colab.output.renderOutput(dataTable, element);\n",
              "          const docLink = document.createElement('div');\n",
              "          docLink.innerHTML = docLinkHtml;\n",
              "          element.appendChild(docLink);\n",
              "        }\n",
              "      </script>\n",
              "    </div>\n",
              "  </div>\n",
              "  "
            ],
            "text/plain": [
              "      0     1\n",
              "0  5886   328\n",
              "1   661  1266"
            ]
          },
          "metadata": {},
          "execution_count": 46
        }
      ]
    },
    {
      "cell_type": "markdown",
      "metadata": {
        "id": "hUaIdbYWeVdH"
      },
      "source": [
        "**Упражнение.** Попробуйте перебрать в цикле несколько порогов. Предложите критерий для выбора лучшего. \n",
        "\n",
        "*Подсказка: замените #YOUR_CODE_HERE на правильный код.*"
      ]
    },
    {
      "cell_type": "code",
      "metadata": {
        "id": "MwrwxcwSXYd1"
      },
      "source": [
        "def get_fp_and_fn(y_true, y_proba, threshold):\n",
        "  # сравниваем вероятности с порогом\n",
        "  y_pred = y_proba > threshold\n",
        "\n",
        "\n",
        "  # получаем матрицу сопряженности\n",
        "  conf_matrix = confusion_matrix(y_true, y_pred)\n",
        "\n",
        "  # выберем ячейки, соответствующие false positive и false negative\n",
        "  false_positive = conf_matrix[0, 1]\n",
        "  false_negative = conf_matrix[1, 0]\n",
        "\n",
        "  return false_positive, false_negative"
      ],
      "execution_count": 47,
      "outputs": []
    },
    {
      "cell_type": "code",
      "metadata": {
        "id": "9UkTp9JYkgar"
      },
      "source": [
        "def get_price_of_errors(price_one_fp, price_one_fn, number_of_thresholds=100):\n",
        "  errors_price = []\n",
        "  thresholds = np.linspace(0,1, number_of_thresholds)\n",
        "  for th in thresholds:\n",
        "    fp, fn = get_fp_and_fn(test_target, pred_proba_boosting, th)\n",
        "    errors_price.append(price_one_fp*fp + price_one_fn*fn)\n",
        "  return errors_price, thresholds"
      ],
      "execution_count": 48,
      "outputs": []
    },
    {
      "cell_type": "code",
      "metadata": {
        "id": "gTI8eWHDkip-"
      },
      "source": [
        "errors_price, thresholds = get_price_of_errors(price_one_fp=50, price_one_fn=50, number_of_thresholds=100)"
      ],
      "execution_count": 49,
      "outputs": []
    },
    {
      "cell_type": "code",
      "metadata": {
        "id": "b89j2xu-kisz",
        "colab": {
          "base_uri": "https://localhost:8080/"
        },
        "outputId": "3097b623-423b-4f11-8f5e-7ab83908a48c"
      },
      "source": [
        "print(\"Min errors price: {:} and corresponding threshold {:}\".format(np.min(errors_price), thresholds[np.argmin(errors_price)]))"
      ],
      "execution_count": 50,
      "outputs": [
        {
          "output_type": "stream",
          "name": "stdout",
          "text": [
            "Min errors price: 49000 and corresponding threshold 0.4747474747474748\n"
          ]
        }
      ]
    },
    {
      "cell_type": "markdown",
      "metadata": {
        "id": "k7FTANDXeuTW"
      },
      "source": [
        "При увеличении порога количество False negative увеличилось, а количество False positive уменьшилось."
      ]
    },
    {
      "cell_type": "markdown",
      "metadata": {
        "id": "dMlru_uFe9i_"
      },
      "source": [
        "## 4.5 ROC кривая классификатора"
      ]
    },
    {
      "cell_type": "markdown",
      "metadata": {
        "id": "J8zHp4upfGlz"
      },
      "source": [
        "Если хотят сравнить метрики на разных наборах данных, обычно работают не с абсолютными значениями True Positive и False Positive, а с их долями:\n",
        "\n",
        "* Доля ложноположительных срабатываний $\\text{FPR} = \\frac{FP}{FP + TN}$;\n",
        "* Доля истинно положительных срабатываний $\\text{TPR} = \\frac{TP}{TP + FN}$.\n",
        "\n",
        "Заметим, что $FP + TN$ дает общее число объектов класса $0$, а $TP + FN$ - общее число объектов класса $1$. \n",
        "\n",
        "Одной из самых популярных метрик для задачи классификации является ROC кривая. ROC расшифровывается как *Receiver Operating Characteristic*. Эта кривая наглядно показывает зависимость доли истинно позитивных срабатываний (**TPR**) от доли ложно позитивных срабатываний (**FPR**) при изменении порога классификации.\n",
        "\n",
        "Функция `roc_curve()` из **scikit-learn** позволяет получить координаты точек ROC кривой, а также значения порога `threshold`, при котором достигается соответствующие значения метрик **FPR** и **TPR**.\n",
        "\n",
        "На вход функции `roc_curve()` необходимо передать два аргумента:\n",
        "* истинные значения меток\n",
        "* вероятности, предсказанные моделью"
      ]
    },
    {
      "cell_type": "code",
      "metadata": {
        "id": "j9uo_bbTgBFU"
      },
      "source": [
        "from sklearn.metrics import roc_curve"
      ],
      "execution_count": 51,
      "outputs": []
    },
    {
      "cell_type": "code",
      "metadata": {
        "id": "aFwgrdhceMG1"
      },
      "source": [
        "false_positive_rates, true_positive_rates, threshold = roc_curve(test_target, pred_proba_boosting)"
      ],
      "execution_count": 52,
      "outputs": []
    },
    {
      "cell_type": "markdown",
      "metadata": {
        "id": "wDUBtLVogJ8l"
      },
      "source": [
        "Нарисуем ROC-кривую"
      ]
    },
    {
      "cell_type": "code",
      "metadata": {
        "id": "goIIu9FDf-Eq",
        "colab": {
          "base_uri": "https://localhost:8080/",
          "height": 458
        },
        "outputId": "4e17f453-8c52-4daf-e6ee-feb4c98214e1"
      },
      "source": [
        "# создаём график\n",
        "plt.figure(figsize=(7, 7))\n",
        "\n",
        "# рисуем кривую\n",
        "plt.plot(false_positive_rates, true_positive_rates, \n",
        "         label='Сглаженные значения ROC-AUC')\n",
        "\n",
        "# кривая, соответствующая случайному угадыванию\n",
        "plt.plot([0, 1], [0, 1], color='k', lw=2, linestyle=':', \n",
        "         label='Модель, выдающая случайное значение')\n",
        "\n",
        "plt.title('ROC curve')\n",
        "plt.xlabel('False Positive Rate')\n",
        "plt.ylabel('True Positive Rate')\n",
        "\n",
        "plt.fill_between(false_positive_rates, true_positive_rates, step=\"pre\", \n",
        "                 alpha=0.4, label='Площадь под кривой (ROC-AUC)')\n",
        "plt.legend()\n",
        "plt.show()"
      ],
      "execution_count": 53,
      "outputs": [
        {
          "output_type": "display_data",
          "data": {
            "image/png": "[encoded data removed]",
            "text/plain": [
              "<Figure size 504x504 with 1 Axes>"
            ]
          },
          "metadata": {
            "needs_background": "light"
          }
        }
      ]
    },
    {
      "cell_type": "markdown",
      "metadata": {
        "id": "lzaqWYwogcyp"
      },
      "source": [
        "Чем ближе в целом кривая ROC к левому верхнему углу, тем выше точность классификации.\n",
        "\n",
        "Несмотря на наглядность, иногда требуется некоторое число, обобщающее весь\n",
        "график. Для ROC кривой таким числом является \"площадь под кривой\" (**ROC-AUC**). \n",
        "\n",
        "В **sklearn** есть специальная функция `roc_auc_score()` для подсчёта\n",
        "площади под ROC-кривой. "
      ]
    },
    {
      "cell_type": "code",
      "metadata": {
        "id": "gzYZV6h1gHiJ"
      },
      "source": [
        "from sklearn.metrics import roc_auc_score"
      ],
      "execution_count": 54,
      "outputs": []
    },
    {
      "cell_type": "markdown",
      "metadata": {
        "id": "0JBja4CHgpZD"
      },
      "source": [
        "Типичная шкала для **ROC-AUC** (часто все зависит от задачи):\n",
        "* $0.90$ - $1.00$ отлично;\n",
        "* $0.80$ - $0.90$ хорошо;\n",
        "* $0.70$ - $0.80$ удовлетворительно;\n",
        "* $0.60$ - $0.70$ плохо;\n",
        "* $0.50$ - $0.60$ очень плохо;\n",
        "* $0.00$ - $0.50$ классификатор перепутал метки."
      ]
    },
    {
      "cell_type": "code",
      "metadata": {
        "id": "yYaJaN5YgotD",
        "colab": {
          "base_uri": "https://localhost:8080/"
        },
        "outputId": "e425711f-58c4-48fe-b2d6-00b178837fab"
      },
      "source": [
        "print(\"ROC-AUC на тестовой выборке:\", roc_auc_score(test_target, pred_proba_boosting).round(3)) "
      ],
      "execution_count": 55,
      "outputs": [
        {
          "output_type": "stream",
          "name": "stdout",
          "text": [
            "ROC-AUC на тестовой выборке: 0.928\n"
          ]
        }
      ]
    },
    {
      "cell_type": "markdown",
      "metadata": {
        "id": "kHK7F0WJiuY1"
      },
      "source": [
        "---\n",
        "# Обзор результатов семинара\n",
        "\n",
        "На этом семинаре мы:\n",
        "* продолжили знакомство с основными библиотеками для машинного обучения Pandas, Numpy, Scikit-learn, Matplotlib;\n",
        "* узнали, как можно заполнять пропуски в данных;\n",
        "* рассмотрели два способа кодировать текстовые категориальные переменные Label Encoding, One Hot Encoding;\n",
        "* обучили новую модель градиентного бустинга на решающих деревьях для предсказания бинарного дохода;\n",
        "* рассмотрели различные метрики для решения задачи классификации: accuracy, confusion matrix, roc auc;\n",
        "* узнали, что такое ROC-кривая и как ее нарисовать в Python;\n",
        "* посмотрели, как выбор порога влияет на confusion matrix. "
      ]
    },
    {
      "cell_type": "code",
      "source": [
        ""
      ],
      "metadata": {
        "id": "paS9ZZghYMvg"
      },
      "execution_count": 55,
      "outputs": []
    }
  ]
}